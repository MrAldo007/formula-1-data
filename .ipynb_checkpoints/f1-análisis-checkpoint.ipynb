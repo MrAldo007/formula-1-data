{
 "cells": [
  {
   "cell_type": "code",
   "execution_count": null,
   "id": "64c67e6c",
   "metadata": {
    "scrolled": true
   },
   "outputs": [],
   "source": [
    "import requests\n",
    "import json \n",
    "import pandas as pd\n",
    "import datetime\n",
    "'import warnings'\n",
    "'warnings.filterwarnings(\"ignore\")'"
   ]
  },
  {
   "cell_type": "code",
   "execution_count": null,
   "id": "1a29b99e",
   "metadata": {},
   "outputs": [],
   "source": [
    "races={'season':[],\n",
    "      'rounds':[],\n",
    "      'raceName':[],\n",
    "      'circuitId':[],\n",
    "      'lat':[],\n",
    "      'long':[],\n",
    "      'country':[],\n",
    "      'date':[],\n",
    "       'url':[]}"
   ]
  },
  {
   "cell_type": "code",
   "execution_count": null,
   "id": "285477ca",
   "metadata": {},
   "outputs": [],
   "source": [
    "for year in list(range(2010,2022)):\n",
    "    url='http://ergast.com/api/f1/{}.json'\n",
    "    response=requests.get(url.format(year))\n",
    "    content=json.loads(response.content)\n",
    "    \n",
    "    for item in content['MRData']['RaceTable']['Races']:\n",
    "        \n",
    "            races['season'].append(int(item['season']))\n",
    "            races['rounds'].append(int(item['round']))\n",
    "            races['raceName'].append(str(item['raceName']))\n",
    "            races['circuitId'].append(str(item['Circuit']['circuitId'])) \n",
    "            races['lat'].append((item['Circuit']['Location']['lat']))\n",
    "            races['long'].append((item['Circuit']['Location']['long']))\n",
    "            races['country'].append(str(item['Circuit']['Location']['country']))\n",
    "            races['date'].append((item['date']))\n",
    "            races['url'].append(str(item['url']))\n"
   ]
  },
  {
   "cell_type": "code",
   "execution_count": null,
   "id": "fb3ee12f",
   "metadata": {},
   "outputs": [],
   "source": [
    "pd.DataFrame(races)"
   ]
  },
  {
   "cell_type": "code",
   "execution_count": null,
   "id": "f49aa9bf",
   "metadata": {
    "scrolled": true
   },
   "outputs": [],
   "source": [
    "\n",
    "pd.DataFrame.from_dict(races)  "
   ]
  },
  {
   "cell_type": "code",
   "execution_count": null,
   "id": "d83bd470",
   "metadata": {},
   "outputs": [],
   "source": [
    "for key in races.keys():\n",
    "    \n",
    "    print(len(races[key]))"
   ]
  },
  {
   "cell_type": "code",
   "execution_count": null,
   "id": "7444a183",
   "metadata": {},
   "outputs": [],
   "source": [
    "for year in list(range(2010,2022)):\n",
    "    url='http://ergast.com/api/f1/{}.json'\n",
    "    response=requests.get(url.format(year))\n",
    "    content=json.loads(response.content)"
   ]
  },
  {
   "cell_type": "code",
   "execution_count": null,
   "id": "fa012a65",
   "metadata": {
    "scrolled": true
   },
   "outputs": [],
   "source": [
    "content[]"
   ]
  },
  {
   "cell_type": "code",
   "execution_count": null,
   "id": "e8d972c9",
   "metadata": {},
   "outputs": [],
   "source": [
    "pd.DataFrame(content['MRData'])"
   ]
  },
  {
   "cell_type": "code",
   "execution_count": null,
   "id": "8f053570",
   "metadata": {
    "scrolled": false
   },
   "outputs": [],
   "source": [
    "pd.DataFrame(content['MRData']['RaceTable'])"
   ]
  },
  {
   "cell_type": "code",
   "execution_count": null,
   "id": "9bf00fb4",
   "metadata": {},
   "outputs": [],
   "source": [
    "Circuitos=pd.DataFrame(content['MRData']['RaceTable']['Races'])\n"
   ]
  },
  {
   "cell_type": "code",
   "execution_count": null,
   "id": "fa75a8bd",
   "metadata": {},
   "outputs": [],
   "source": [
    "Circuitos['circuitId']"
   ]
  },
  {
   "cell_type": "code",
   "execution_count": null,
   "id": "047431be",
   "metadata": {
    "scrolled": true
   },
   "outputs": [],
   "source": [
    "pd.DataFrame(content['MRData']['RaceTable']['Races'])"
   ]
  },
  {
   "cell_type": "code",
   "execution_count": null,
   "id": "315624ba",
   "metadata": {},
   "outputs": [],
   "source": [
    "content['MRData']['RaceTable']['Races']\n"
   ]
  },
  {
   "cell_type": "code",
   "execution_count": null,
   "id": "449c97c7",
   "metadata": {},
   "outputs": [],
   "source": [
    "for year in list(range(2010,2022)):\n",
    "    url='http://ergast.com/api/f1/{}.json'\n",
    "    response=requests.get(url.format(year))\n",
    "    content=json.loads(response.content)\n",
    "    \n",
    "    for item in content['MRData']['RaceTable']['Races']:\n",
    "        \n",
    "            races['season'].append(int(item['season']))\n",
    "            races['rounds'].append(int(item['round']))\n",
    "            races['raceName'].append(str(item['raceName']))\n",
    "            \n",
    "            \n",
    "            races['Location']['lat'].append(int(item['lat']))\n",
    "            races['Location']['long'].append(int(item['long']))\n",
    "            \n",
    "            races['country'].append(str(item['country']))\n",
    "            races['date'].append(strftime(item['date']))\n",
    "            \n",
    "        \n",
    "    "
   ]
  },
  {
   "cell_type": "code",
   "execution_count": null,
   "id": "7d1ade88",
   "metadata": {},
   "outputs": [],
   "source": []
  },
  {
   "cell_type": "code",
   "execution_count": null,
   "id": "9f530469",
   "metadata": {},
   "outputs": [],
   "source": [
    "content['MRData']['RaceTable']['Races'][0]"
   ]
  },
  {
   "cell_type": "code",
   "execution_count": null,
   "id": "db794db9",
   "metadata": {},
   "outputs": [],
   "source": [
    "races['raceName']"
   ]
  },
  {
   "cell_type": "code",
   "execution_count": null,
   "id": "be6cadf3",
   "metadata": {},
   "outputs": [],
   "source": []
  },
  {
   "cell_type": "code",
   "execution_count": null,
   "id": "952093da",
   "metadata": {},
   "outputs": [],
   "source": [
    "for year in list(range(2010,2022)):\n",
    "    url:'http://ergast.com/api/f1/{}.json'\n",
    "    response=requests.get(url.format(year))\n",
    "    content=json.loads(response.content)\n",
    "    \n",
    "\n",
    "    "
   ]
  },
  {
   "cell_type": "code",
   "execution_count": null,
   "id": "a394bb03",
   "metadata": {},
   "outputs": [],
   "source": []
  },
  {
   "cell_type": "code",
   "execution_count": null,
   "id": "77477cd6",
   "metadata": {},
   "outputs": [],
   "source": [
    "races"
   ]
  },
  {
   "cell_type": "code",
   "execution_count": null,
   "id": "b70cf203",
   "metadata": {},
   "outputs": [],
   "source": [
    "url='http://ergast.com/api/f1/2022/22/results.json'\n",
    "response=requests.get(url)"
   ]
  },
  {
   "cell_type": "code",
   "execution_count": null,
   "id": "b874463e",
   "metadata": {},
   "outputs": [],
   "source": [
    "pd.DataFrame(content['MRData']['RaceTable']['Races'][1]['Circuit'])"
   ]
  },
  {
   "cell_type": "code",
   "execution_count": null,
   "id": "9ac2ab2d",
   "metadata": {},
   "outputs": [],
   "source": [
    "races"
   ]
  },
  {
   "cell_type": "code",
   "execution_count": null,
   "id": "1c447ca4",
   "metadata": {},
   "outputs": [],
   "source": [
    "content=json.loads(response.content)"
   ]
  },
  {
   "cell_type": "code",
   "execution_count": null,
   "id": "c049952b",
   "metadata": {},
   "outputs": [],
   "source": [
    "list(range(1,23))"
   ]
  },
  {
   "cell_type": "code",
   "execution_count": null,
   "id": "ea3dbe3b",
   "metadata": {},
   "outputs": [],
   "source": [
    "list_results_2022=[]\n",
    "for race in list(range(1,23)):\n",
    "    url='http://ergast.com/api/f1/2022/{}/results.json'\n",
    "    reponse=requests.get(url.format(race))\n",
    "    content=json.loads(response.content)\n",
    "    list_results_2022.append(content['MRData']['RaceTable']['Races'][0]['Results'])"
   ]
  },
  {
   "cell_type": "code",
   "execution_count": null,
   "id": "2bdbd39e",
   "metadata": {},
   "outputs": [],
   "source": [
    "list_results_2022=[]\n",
    "for race in list(range(1,23)):\n",
    "    url='http://ergast.com/api/f1/2022/{}/results.json'\n",
    "    reponse=requests.get(url.format(race))\n",
    "    content=json.loads(response.content)\n",
    "    list_results_2022.append(content['MRData']['RaceTable']['Races'][0]['Circuit']['Location'])"
   ]
  },
  {
   "cell_type": "code",
   "execution_count": null,
   "id": "c282231d",
   "metadata": {},
   "outputs": [],
   "source": [
    "pd.DataFrame(list_results_2022)"
   ]
  },
  {
   "cell_type": "code",
   "execution_count": null,
   "id": "7808eab1",
   "metadata": {
    "scrolled": true
   },
   "outputs": [],
   "source": [
    "pd.DataFrame(content['MRData']['RaceTable']['Races'][0]['Results'][15])"
   ]
  },
  {
   "cell_type": "code",
   "execution_count": null,
   "id": "65a34b77",
   "metadata": {},
   "outputs": [],
   "source": [
    "pd.DataFrame(content['MRData']['RaceTable']['Races'])"
   ]
  },
  {
   "cell_type": "code",
   "execution_count": null,
   "id": "2782da46",
   "metadata": {},
   "outputs": [],
   "source": [
    "df_results_2022=pd.DataFrame()\n",
    "for race in list(range(1,23)):\n",
    "    url='http://ergast.com/api/f1/2022/{}/results.json'\n",
    "    reponse=requests.get(url.format(race))\n",
    "    content=json.loads(response.content)\n",
    "    df_1=pd.DataFrame([content['MRData']['RaceTable']['Races'][0]['Results']])\n",
    "    df_results_2022=pd.concat(objs=[df_results_2022,df_1])"
   ]
  },
  {
   "cell_type": "code",
   "execution_count": null,
   "id": "9c5eaa3c",
   "metadata": {},
   "outputs": [],
   "source": [
    "    df_results_2022"
   ]
  },
  {
   "cell_type": "code",
   "execution_count": null,
   "id": "c66ee94f",
   "metadata": {
    "scrolled": true
   },
   "outputs": [],
   "source": [
    "\n",
    "    url='http://ergast.com/api/f1/2022/{}/results.json'\n",
    "    reponse=requests.get(url.format(race))\n",
    "    response.content\n",
    "    pd.DataFrame(json.loads(response.content)['MRData']['RaceTable']['Races'][0]['Results'])\n",
    "    "
   ]
  },
  {
   "cell_type": "code",
   "execution_count": null,
   "id": "8d4c792d",
   "metadata": {},
   "outputs": [],
   "source": [
    "df_results_2022['points']=df_results_2022.points.astype(int)"
   ]
  },
  {
   "cell_type": "code",
   "execution_count": null,
   "id": "e2c545b6",
   "metadata": {
    "scrolled": false
   },
   "outputs": [],
   "source": [
    "df_results_2022.groupby(['position']).agg({'points':'sum'}).sort_values(by='points',ascending=False)"
   ]
  },
  {
   "cell_type": "code",
   "execution_count": null,
   "id": "574e71e2",
   "metadata": {},
   "outputs": [],
   "source": [
    "type(df_results_2022['points'])"
   ]
  },
  {
   "cell_type": "code",
   "execution_count": null,
   "id": "03019178",
   "metadata": {},
   "outputs": [],
   "source": [
    "df_results_2022['Driver']=df_results_2022['Driver'].apply(lambda x :x['driverId'])"
   ]
  },
  {
   "cell_type": "code",
   "execution_count": null,
   "id": "473e3a19",
   "metadata": {},
   "outputs": [],
   "source": [
    "df_results_2022['Constructor']=df_results_2022['Constructor'].apply(lambda x: x['constructorId'])"
   ]
  },
  {
   "cell_type": "code",
   "execution_count": null,
   "id": "8b190b7a",
   "metadata": {
    "scrolled": true
   },
   "outputs": [],
   "source": [
    "df_results_2022"
   ]
  },
  {
   "cell_type": "code",
   "execution_count": null,
   "id": "1f4486d8",
   "metadata": {},
   "outputs": [],
   "source": [
    "df_results_2022['points']=df_results_2022['points'].astype(int)"
   ]
  },
  {
   "cell_type": "code",
   "execution_count": null,
   "id": "31ddb33b",
   "metadata": {
    "scrolled": true
   },
   "outputs": [],
   "source": [
    "df_results_2022.groupby(['Driver']).agg({'points':'sum'}).sort_values(by=\"points\",ascending=False)"
   ]
  },
  {
   "cell_type": "code",
   "execution_count": null,
   "id": "cf581032",
   "metadata": {},
   "outputs": [],
   "source": [
    "df_results_2022.groupby(['Constructor']).agg({'points':'sum'}).sort_values(by='points',ascending=False)"
   ]
  },
  {
   "cell_type": "code",
   "execution_count": null,
   "id": "2c9b52af",
   "metadata": {},
   "outputs": [],
   "source": [
    "df_results_2022['FastestLap']=df_results_2022['FastestLap'].apply(lambda x: x['Time']['time'])"
   ]
  },
  {
   "cell_type": "code",
   "execution_count": null,
   "id": "85d64527",
   "metadata": {},
   "outputs": [],
   "source": [
    "df_results_2022['Time'].fillna(0, inplace=True)"
   ]
  },
  {
   "cell_type": "code",
   "execution_count": null,
   "id": "7845acc0",
   "metadata": {},
   "outputs": [],
   "source": [
    "df_results_2022['Time'].apply(lambda x: x)"
   ]
  },
  {
   "cell_type": "code",
   "execution_count": null,
   "id": "ab83a1eb",
   "metadata": {},
   "outputs": [],
   "source": [
    "\"Tabla results\"\n",
    "url='http://ergast.com/api/f1/2012.json'\n",
    "response=requests.get(url)\n",
    "content=json.loads(response.content)\n"
   ]
  },
  {
   "cell_type": "code",
   "execution_count": null,
   "id": "be8729b1",
   "metadata": {},
   "outputs": [],
   "source": [
    "results=pd.DataFrame(content['MRData']['RaceTable']['Races'])"
   ]
  },
  {
   "cell_type": "code",
   "execution_count": null,
   "id": "2e39bef8",
   "metadata": {},
   "outputs": [],
   "source": [
    "for year in list(range(2010,2022)):\n",
    "    url='http://ergast.com/api/f1/{}/circuits.json'\n",
    "    response=requests.get(url.format(year))\n",
    "    content=json.loads(response.content)"
   ]
  },
  {
   "cell_type": "code",
   "execution_count": null,
   "id": "ffe1d0a7",
   "metadata": {},
   "outputs": [],
   "source": [
    "pd.DataFrame(content['MRData']['CircuitTable']['Circuits'])"
   ]
  },
  {
   "cell_type": "code",
   "execution_count": null,
   "id": "91b57ced",
   "metadata": {},
   "outputs": [],
   "source": []
  },
  {
   "cell_type": "code",
   "execution_count": null,
   "id": "62e9f4d9",
   "metadata": {},
   "outputs": [],
   "source": []
  },
  {
   "cell_type": "code",
   "execution_count": null,
   "id": "2c6f8faa",
   "metadata": {},
   "outputs": [],
   "source": []
  }
 ],
 "metadata": {
  "kernelspec": {
   "display_name": "Python 3 (ipykernel)",
   "language": "python",
   "name": "python3"
  },
  "language_info": {
   "codemirror_mode": {
    "name": "ipython",
    "version": 3
   },
   "file_extension": ".py",
   "mimetype": "text/x-python",
   "name": "python",
   "nbconvert_exporter": "python",
   "pygments_lexer": "ipython3",
   "version": "3.9.13"
  }
 },
 "nbformat": 4,
 "nbformat_minor": 5
}
