{
 "cells": [
  {
   "cell_type": "markdown",
   "id": "9a5de10e",
   "metadata": {},
   "source": [
    "## Ejercicios 5.18, 5.19 y 5.22 \n",
    "### libro Carter Hills et al (2017)"
   ]
  },
  {
   "cell_type": "markdown",
   "id": "179a1e1a",
   "metadata": {},
   "source": [
    "## Aldo Mendoza Rebollar 201930811"
   ]
  },
  {
   "cell_type": "code",
   "execution_count": 3,
   "id": "668eab44",
   "metadata": {
    "scrolled": true
   },
   "outputs": [
    {
     "name": "stdout",
     "output_type": "stream",
     "text": [
      "\n",
      "  There is a binary version available (and will be installed) but the\n",
      "  source version is later:\n",
      "      binary source\n",
      "knitr   1.33   1.42\n",
      "\n"
     ]
    },
    {
     "name": "stderr",
     "output_type": "stream",
     "text": [
      "also installing the dependency 'stringr'\n",
      "\n"
     ]
    },
    {
     "name": "stdout",
     "output_type": "stream",
     "text": [
      "package 'stringr' successfully unpacked and MD5 sums checked\n",
      "package 'knitr' successfully unpacked and MD5 sums checked\n",
      "\n",
      "The downloaded binary packages are in\n",
      "\tC:\\Users\\aldom\\AppData\\Local\\Temp\\Rtmp8yXYbv\\downloaded_packages\n"
     ]
    }
   ],
   "source": [
    "\n",
    "install.packages(\"knitr\", type = \"binary\")"
   ]
  },
  {
   "cell_type": "code",
   "execution_count": 5,
   "id": "115d11ca",
   "metadata": {},
   "outputs": [
    {
     "name": "stdout",
     "output_type": "stream",
     "text": [
      "\n",
      "  There is a binary version available (and will be installed) but the\n",
      "  source version is later:\n",
      "       binary source\n",
      "printr  0.1.1    0.3\n",
      "\n",
      "package 'printr' successfully unpacked and MD5 sums checked\n",
      "\n",
      "The downloaded binary packages are in\n",
      "\tC:\\Users\\aldom\\AppData\\Local\\Temp\\Rtmp8yXYbv\\downloaded_packages\n"
     ]
    }
   ],
   "source": [
    "install.packages(\"printr\", type = \"binary\")"
   ]
  },
  {
   "cell_type": "code",
   "execution_count": 8,
   "id": "a57205f1",
   "metadata": {
    "scrolled": true
   },
   "outputs": [
    {
     "name": "stdout",
     "output_type": "stream",
     "text": [
      "\n",
      "  There is a binary version available (and will be installed) but the\n",
      "  source version is later:\n",
      "          binary source\n",
      "rmarkdown    2.8   2.20\n",
      "\n"
     ]
    },
    {
     "name": "stderr",
     "output_type": "stream",
     "text": [
      "also installing the dependency 'tinytex'\n",
      "\n"
     ]
    },
    {
     "name": "stdout",
     "output_type": "stream",
     "text": [
      "package 'tinytex' successfully unpacked and MD5 sums checked\n",
      "package 'rmarkdown' successfully unpacked and MD5 sums checked\n",
      "\n",
      "The downloaded binary packages are in\n",
      "\tC:\\Users\\aldom\\AppData\\Local\\Temp\\Rtmp8yXYbv\\downloaded_packages\n"
     ]
    }
   ],
   "source": [
    "install.packages(\"rmarkdown\",type = \"binary\")"
   ]
  },
  {
   "cell_type": "code",
   "execution_count": 11,
   "id": "5002a194",
   "metadata": {},
   "outputs": [
    {
     "name": "stdout",
     "output_type": "stream",
     "text": [
      "\n",
      "  There is a binary version available (and will be installed) but the\n",
      "  source version is later:\n",
      "        binary source\n",
      "ggplot2  3.3.3  3.4.1\n",
      "\n"
     ]
    },
    {
     "name": "stderr",
     "output_type": "stream",
     "text": [
      "also installing the dependencies 'lifecycle', 'scales'\n",
      "\n"
     ]
    },
    {
     "name": "stdout",
     "output_type": "stream",
     "text": [
      "package 'lifecycle' successfully unpacked and MD5 sums checked\n",
      "package 'scales' successfully unpacked and MD5 sums checked\n",
      "package 'ggplot2' successfully unpacked and MD5 sums checked\n",
      "\n",
      "The downloaded binary packages are in\n",
      "\tC:\\Users\\aldom\\AppData\\Local\\Temp\\Rtmp8yXYbv\\downloaded_packages\n"
     ]
    }
   ],
   "source": [
    "install.packages(\"ggplot2\",type=\"binary\")"
   ]
  },
  {
   "cell_type": "code",
   "execution_count": 16,
   "id": "4f94756e",
   "metadata": {},
   "outputs": [
    {
     "name": "stdout",
     "output_type": "stream",
     "text": [
      "\n",
      "  There is a binary version available (and will be installed) but the\n",
      "  source version is later:\n",
      "      binary source\n",
      "broom  0.7.6  1.0.3\n",
      "\n"
     ]
    },
    {
     "name": "stderr",
     "output_type": "stream",
     "text": [
      "also installing the dependencies 'tidyselect', 'dplyr', 'generics', 'tidyr'\n",
      "\n"
     ]
    },
    {
     "name": "stdout",
     "output_type": "stream",
     "text": [
      "package 'tidyselect' successfully unpacked and MD5 sums checked\n",
      "package 'dplyr' successfully unpacked and MD5 sums checked\n",
      "package 'generics' successfully unpacked and MD5 sums checked\n",
      "package 'tidyr' successfully unpacked and MD5 sums checked\n",
      "package 'broom' successfully unpacked and MD5 sums checked\n",
      "\n",
      "The downloaded binary packages are in\n",
      "\tC:\\Users\\aldom\\AppData\\Local\\Temp\\Rtmp8yXYbv\\downloaded_packages\n"
     ]
    }
   ],
   "source": [
    "install.packages(\"broom\",type=\"binary\")\n"
   ]
  },
  {
   "cell_type": "code",
   "execution_count": 17,
   "id": "08828dfd",
   "metadata": {},
   "outputs": [
    {
     "name": "stderr",
     "output_type": "stream",
     "text": [
      "Warning message:\n",
      "\"package 'broom' was built under R version 3.6.3\""
     ]
    }
   ],
   "source": [
    "library(\"knitr\")\n",
    "library(\"xtable\")\n",
    "library(\"printr\")\n",
    "library(\"stargazer\")\n",
    "library(\"rmarkdown\")\n",
    "library(\"openxlsx\")\n",
    "library(\"readxl\")\n",
    "library(\"ggplot2\")\n",
    "library(broom)"
   ]
  },
  {
   "cell_type": "markdown",
   "id": "bf134e61",
   "metadata": {},
   "source": [
    "## 5.18"
   ]
  },
  {
   "cell_type": "markdown",
   "id": "855b3519",
   "metadata": {},
   "source": [
    "Consider the following two expenditure share equations where the budget share for food WFOOD, and the budget share for clothing WCLOTH, are expressed as functions of total expenditure TOTEXP."
   ]
  },
  {
   "cell_type": "markdown",
   "id": "6d5036c9",
   "metadata": {},
   "source": [
    "$WFOOD= \\beta_1 + \\beta_2 ln(TOTEXP)+ e_F$"
   ]
  },
  {
   "cell_type": "markdown",
   "id": "3a4a1fb8",
   "metadata": {},
   "source": [
    "$WCLOTH= \\alpha_1 + \\alpha_2 ln(TOTEXP)+ e_F$"
   ]
  },
  {
   "cell_type": "markdown",
   "id": "e1b61a8a",
   "metadata": {},
   "source": [
    "**a) A commodity is regarded as a luxury if the coefficient of $\\ln(TOTEXP)$ is positive and a necessity if it is negative. What signs would you expect for $\\beta_2$ and $\\alpha_2$?**"
   ]
  },
  {
   "cell_type": "markdown",
   "id": "2e9d0b82",
   "metadata": {},
   "source": [
    "Los bienes son un artículo de lujo, si solo si, el coeficiente de ln(TOTEXP) es positivo y por lo tanto, una necesidad si es negativo. Siendo comida es un gasto necesario, por lo que esperamos que  $\\beta_2$ sea negativo."
   ]
  },
  {
   "cell_type": "markdown",
   "id": "dd332956",
   "metadata": {},
   "source": [
    "**b) Using the data in the file london5, estimate the above equations using observations on households with one child. Comment on the estimates and their significance. Can you explain any possibly counterintuitive outcomes?**"
   ]
  },
  {
   "cell_type": "code",
   "execution_count": 30,
   "id": "29ef1a40",
   "metadata": {},
   "outputs": [
    {
     "name": "stderr",
     "output_type": "stream",
     "text": [
      "The following objects are masked from london5 (pos = 3):\n",
      "\n",
      "    age, nk, totexp, wcloth, wfood\n",
      "\n",
      "The following objects are masked from london5 (pos = 4):\n",
      "\n",
      "    age, nk, totexp, wcloth, wfood\n",
      "\n",
      "The following objects are masked from london5 (pos = 5):\n",
      "\n",
      "    age, nk, totexp, wcloth, wfood\n",
      "\n",
      "The following objects are masked from london5 (pos = 6):\n",
      "\n",
      "    age, nk, totexp, wcloth, wfood\n",
      "\n",
      "The following objects are masked from london5 (pos = 7):\n",
      "\n",
      "    age, nk, totexp, wcloth, wfood\n",
      "\n",
      "The following objects are masked from london5 (pos = 8):\n",
      "\n",
      "    age, nk, totexp, wcloth, wfood\n",
      "\n",
      "The following objects are masked from london5 (pos = 9):\n",
      "\n",
      "    age, nk, totexp, wcloth, wfood\n",
      "\n",
      "The following objects are masked from london5 (pos = 10):\n",
      "\n",
      "    age, nk, totexp, wcloth, wfood\n",
      "\n",
      "The following objects are masked from london5 (pos = 11):\n",
      "\n",
      "    age, nk, totexp, wcloth, wfood\n",
      "\n",
      "The following objects are masked from london5 (pos = 12):\n",
      "\n",
      "    age, nk, totexp, wcloth, wfood\n",
      "\n",
      "The following objects are masked from london5 (pos = 13):\n",
      "\n",
      "    age, nk, totexp, wcloth, wfood\n",
      "\n",
      "The following objects are masked from london5 (pos = 14):\n",
      "\n",
      "    age, nk, totexp, wcloth, wfood\n",
      "\n"
     ]
    },
    {
     "data": {
      "text/html": [
       "<table>\n",
       "<thead><tr><th scope=col>wfood</th><th scope=col>wcloth</th><th scope=col>totexp</th><th scope=col>age</th><th scope=col>nk</th></tr></thead>\n",
       "<tbody>\n",
       "\t<tr><td>0.4272</td><td>0.0000</td><td> 50   </td><td>25    </td><td>2     </td></tr>\n",
       "\t<tr><td>0.3739</td><td>0.0091</td><td> 90   </td><td>39    </td><td>2     </td></tr>\n",
       "\t<tr><td>0.1941</td><td>0.0012</td><td>180   </td><td>47    </td><td>2     </td></tr>\n",
       "\t<tr><td>0.4438</td><td>0.0539</td><td> 80   </td><td>33    </td><td>2     </td></tr>\n",
       "\t<tr><td>0.3331</td><td>0.0399</td><td> 90   </td><td>31    </td><td>1     </td></tr>\n",
       "\t<tr><td>0.3752</td><td>0.1170</td><td> 70   </td><td>24    </td><td>1     </td></tr>\n",
       "</tbody>\n",
       "</table>\n"
      ],
      "text/latex": [
       "\\begin{tabular}{r|lllll}\n",
       " wfood & wcloth & totexp & age & nk\\\\\n",
       "\\hline\n",
       "\t 0.4272 & 0.0000 &  50    & 25     & 2     \\\\\n",
       "\t 0.3739 & 0.0091 &  90    & 39     & 2     \\\\\n",
       "\t 0.1941 & 0.0012 & 180    & 47     & 2     \\\\\n",
       "\t 0.4438 & 0.0539 &  80    & 33     & 2     \\\\\n",
       "\t 0.3331 & 0.0399 &  90    & 31     & 1     \\\\\n",
       "\t 0.3752 & 0.1170 &  70    & 24     & 1     \\\\\n",
       "\\end{tabular}\n"
      ],
      "text/markdown": [
       "\n",
       "| wfood | wcloth | totexp | age | nk |\n",
       "|---|---|---|---|---|\n",
       "| 0.4272 | 0.0000 |  50    | 25     | 2      |\n",
       "| 0.3739 | 0.0091 |  90    | 39     | 2      |\n",
       "| 0.1941 | 0.0012 | 180    | 47     | 2      |\n",
       "| 0.4438 | 0.0539 |  80    | 33     | 2      |\n",
       "| 0.3331 | 0.0399 |  90    | 31     | 1      |\n",
       "| 0.3752 | 0.1170 |  70    | 24     | 1      |\n",
       "\n"
      ],
      "text/plain": [
       "  wfood  wcloth totexp age nk\n",
       "1 0.4272 0.0000  50    25  2 \n",
       "2 0.3739 0.0091  90    39  2 \n",
       "3 0.1941 0.0012 180    47  2 \n",
       "4 0.4438 0.0539  80    33  2 \n",
       "5 0.3331 0.0399  90    31  1 \n",
       "6 0.3752 0.1170  70    24  1 "
      ]
     },
     "metadata": {},
     "output_type": "display_data"
    }
   ],
   "source": [
    "london5 <- read_excel(\"D:/8 semestre/ECONOMETRIA/Bases de datos/london5.xlsx\")\n",
    "attach(london5)\n",
    "head(london5)"
   ]
  },
  {
   "cell_type": "code",
   "execution_count": 32,
   "id": "c55032ba",
   "metadata": {},
   "outputs": [
    {
     "name": "stderr",
     "output_type": "stream",
     "text": [
      "The following objects are masked from london5 (pos = 3):\n",
      "\n",
      "    age, nk, totexp, wcloth, wfood\n",
      "\n",
      "The following objects are masked from london5 (pos = 4):\n",
      "\n",
      "    age, nk, totexp, wcloth, wfood\n",
      "\n",
      "The following objects are masked from london5 (pos = 5):\n",
      "\n",
      "    age, nk, totexp, wcloth, wfood\n",
      "\n",
      "The following objects are masked from london5 (pos = 6):\n",
      "\n",
      "    age, nk, totexp, wcloth, wfood\n",
      "\n",
      "The following objects are masked from london5 (pos = 7):\n",
      "\n",
      "    age, nk, totexp, wcloth, wfood\n",
      "\n",
      "The following objects are masked from london5 (pos = 8):\n",
      "\n",
      "    age, nk, totexp, wcloth, wfood\n",
      "\n",
      "The following objects are masked from london5 (pos = 9):\n",
      "\n",
      "    age, nk, totexp, wcloth, wfood\n",
      "\n",
      "The following objects are masked from london5 (pos = 10):\n",
      "\n",
      "    age, nk, totexp, wcloth, wfood\n",
      "\n",
      "The following objects are masked from london5 (pos = 11):\n",
      "\n",
      "    age, nk, totexp, wcloth, wfood\n",
      "\n",
      "The following objects are masked from london5 (pos = 12):\n",
      "\n",
      "    age, nk, totexp, wcloth, wfood\n",
      "\n",
      "The following objects are masked from london5 (pos = 13):\n",
      "\n",
      "    age, nk, totexp, wcloth, wfood\n",
      "\n",
      "The following objects are masked from london5 (pos = 14):\n",
      "\n",
      "    age, nk, totexp, wcloth, wfood\n",
      "\n",
      "The following objects are masked from london5 (pos = 15):\n",
      "\n",
      "    age, nk, totexp, wcloth, wfood\n",
      "\n",
      "The following objects are masked from london5 (pos = 16):\n",
      "\n",
      "    age, nk, totexp, wcloth, wfood\n",
      "\n"
     ]
    },
    {
     "data": {
      "text/html": [
       "<table>\n",
       "<thead><tr><th></th><th scope=col>Estimate</th><th scope=col>Std. Error</th><th scope=col>t value</th><th scope=col>Pr(&gt;|t|)</th></tr></thead>\n",
       "<tbody>\n",
       "\t<tr><th scope=row>(Intercept)</th><td> 1.0754855  </td><td>0.05313181  </td><td> 20.24184   </td><td>5.096274e-60</td></tr>\n",
       "\t<tr><th scope=row>log(totexp)</th><td>-0.1635929  </td><td>0.01196725  </td><td>-13.67005   </td><td>4.284285e-34</td></tr>\n",
       "</tbody>\n",
       "</table>\n"
      ],
      "text/latex": [
       "\\begin{tabular}{r|llll}\n",
       "  & Estimate & Std. Error & t value & Pr(>\\textbar{}t\\textbar{})\\\\\n",
       "\\hline\n",
       "\t(Intercept) &  1.0754855   & 0.05313181   &  20.24184    & 5.096274e-60\\\\\n",
       "\tlog(totexp) & -0.1635929   & 0.01196725   & -13.67005    & 4.284285e-34\\\\\n",
       "\\end{tabular}\n"
      ],
      "text/markdown": [
       "\n",
       "| <!--/--> | Estimate | Std. Error | t value | Pr(>|t|) |\n",
       "|---|---|---|---|---|\n",
       "| (Intercept) |  1.0754855   | 0.05313181   |  20.24184    | 5.096274e-60 |\n",
       "| log(totexp) | -0.1635929   | 0.01196725   | -13.67005    | 4.284285e-34 |\n",
       "\n"
      ],
      "text/plain": [
       "            Estimate   Std. Error t value   Pr(>|t|)    \n",
       "(Intercept)  1.0754855 0.05313181  20.24184 5.096274e-60\n",
       "log(totexp) -0.1635929 0.01196725 -13.67005 4.284285e-34"
      ]
     },
     "metadata": {},
     "output_type": "display_data"
    }
   ],
   "source": [
    "attach(london5)\n",
    "child_1<-london5[london5$nk==1,]\n",
    "child_2<-london5[london5$nk==2,]\n",
    "mod1<-lm(wfood~log(totexp),data=child_1)\n",
    "B1<-coef(mod1)[[1]]\n",
    "B2<-coef(mod1)[[2]]\n",
    "smod1 <- summary(mod1)\n",
    "smod1$coefficients"
   ]
  },
  {
   "cell_type": "markdown",
   "id": "8548f38c",
   "metadata": {},
   "source": [
    "El valor esperado de la variable alimentos para un gasto total y las demas variables nulas, se espera la necesidad de 1.0754855. \n",
    "Por otro lado, un cambio de una unidad en el ln(TOTEXP) da como resultado una disminución de 0.1635929 en el presupuesto de comida."
   ]
  },
  {
   "cell_type": "code",
   "execution_count": 4,
   "id": "162bfa0e",
   "metadata": {},
   "outputs": [
    {
     "data": {
      "text/html": [
       "<table class=\"dataframe\">\n",
       "<caption>A matrix: 2 × 4 of type dbl</caption>\n",
       "<thead>\n",
       "\t<tr><th></th><th scope=col>Estimate</th><th scope=col>Std. Error</th><th scope=col>t value</th><th scope=col>Pr(&gt;|t|)</th></tr>\n",
       "</thead>\n",
       "<tbody>\n",
       "\t<tr><th scope=row>(Intercept)</th><td>-0.18853178</td><td>0.05258504</td><td>-3.585274</td><td>3.869459e-04</td></tr>\n",
       "\t<tr><th scope=row>log(totexp)</th><td> 0.06492601</td><td>0.01184410</td><td> 5.481717</td><td>8.317337e-08</td></tr>\n",
       "</tbody>\n",
       "</table>\n"
      ],
      "text/latex": [
       "A matrix: 2 × 4 of type dbl\n",
       "\\begin{tabular}{r|llll}\n",
       "  & Estimate & Std. Error & t value & Pr(>\\textbar{}t\\textbar{})\\\\\n",
       "\\hline\n",
       "\t(Intercept) & -0.18853178 & 0.05258504 & -3.585274 & 3.869459e-04\\\\\n",
       "\tlog(totexp) &  0.06492601 & 0.01184410 &  5.481717 & 8.317337e-08\\\\\n",
       "\\end{tabular}\n"
      ],
      "text/markdown": [
       "\n",
       "A matrix: 2 × 4 of type dbl\n",
       "\n",
       "| <!--/--> | Estimate | Std. Error | t value | Pr(&gt;|t|) |\n",
       "|---|---|---|---|---|\n",
       "| (Intercept) | -0.18853178 | 0.05258504 | -3.585274 | 3.869459e-04 |\n",
       "| log(totexp) |  0.06492601 | 0.01184410 |  5.481717 | 8.317337e-08 |\n",
       "\n"
      ],
      "text/plain": [
       "            Estimate    Std. Error t value   Pr(>|t|)    \n",
       "(Intercept) -0.18853178 0.05258504 -3.585274 3.869459e-04\n",
       "log(totexp)  0.06492601 0.01184410  5.481717 8.317337e-08"
      ]
     },
     "metadata": {},
     "output_type": "display_data"
    }
   ],
   "source": [
    "mod2<-lm(wcloth~log(totexp),data=child_1)\n",
    "B_1<-coef(mod2)[[1]]\n",
    "B_2<-coef(mod2)[[2]]\n",
    "smod2 <- summary(mod2)\n",
    "smod2$coefficients"
   ]
  },
  {
   "cell_type": "markdown",
   "id": "43298b1f",
   "metadata": {},
   "source": [
    "Si tuvieramos un gasto de cero, se estima que las necesidades básicas de ropa son de menos 0.1885318. Además, indica que un cambio de una unidad en el ln(TOTEXP) da como resultado un cambio de 0.06492601 en el presupuesto de ropa. Confirmando que la ropa por el signo es mas un lujo que una necesidad básica."
   ]
  },
  {
   "cell_type": "markdown",
   "id": "0997186a",
   "metadata": {},
   "source": [
    "**c)  Using a 1% significance level, test $H_0 ∶β2 \\geq 0$ against the alternative $H_1 ∶\\beta_2 < 0$. Why might you set up the hypotheses in this way?**"
   ]
  },
  {
   "cell_type": "markdown",
   "id": "490621cf",
   "metadata": {},
   "source": [
    "El planteamiento de la pregunta esta sesgada al buscar rechazar $H_0:β2 \\geq 0$, ya que caemos en error falso-positivo.\n",
    "De tal manera que, $H_0$ no se debe aceptar."
   ]
  },
  {
   "cell_type": "code",
   "execution_count": 5,
   "id": "bd00bd7b",
   "metadata": {},
   "outputs": [
    {
     "data": {
      "text/html": [
       "2.33756422017732"
      ],
      "text/latex": [
       "2.33756422017732"
      ],
      "text/markdown": [
       "2.33756422017732"
      ],
      "text/plain": [
       "[1] 2.337564"
      ]
     },
     "metadata": {},
     "output_type": "display_data"
    },
    {
     "data": {
      "text/html": [
       "-13.6700499601487"
      ],
      "text/latex": [
       "-13.6700499601487"
      ],
      "text/markdown": [
       "-13.6700499601487"
      ],
      "text/plain": [
       "[1] -13.67005"
      ]
     },
     "metadata": {},
     "output_type": "display_data"
    }
   ],
   "source": [
    "alpha<-0.01 \n",
    "df<-mod1$df.residual\n",
    "tcr<- qt(1-alpha,df)\n",
    "m1seb2<-sqrt(vcov(mod1)[2,2]) \n",
    "t<-B2/m1seb2\n",
    "tcr \n",
    "t"
   ]
  },
  {
   "cell_type": "markdown",
   "id": "59139d6f",
   "metadata": {},
   "source": [
    "Es una contradicción la prueba de hipótesis del supuesto inicial, ya que t no está en la región de rechazo podemos aceptar $H_0$.  Lo cual nos indicaría que la comida es un bien de lujo, siendo una contradicción."
   ]
  },
  {
   "cell_type": "markdown",
   "id": "674a2b38",
   "metadata": {},
   "source": [
    "**d) Using a 1% significance level, test $H_0 ∶\\alpha_2 \\geq 0$ against the alternative $H_1 ∶\\alpha2 < 0$. Why might you set up the hypotheses in this way?**"
   ]
  },
  {
   "cell_type": "markdown",
   "id": "724de069",
   "metadata": {},
   "source": [
    "De igual manera nos contradecimos al utilizar esta hipótesis, ya que:\n"
   ]
  },
  {
   "cell_type": "code",
   "execution_count": 6,
   "id": "c4ef0d62",
   "metadata": {},
   "outputs": [
    {
     "data": {
      "text/html": [
       "2.33756422017732"
      ],
      "text/latex": [
       "2.33756422017732"
      ],
      "text/markdown": [
       "2.33756422017732"
      ],
      "text/plain": [
       "[1] 2.337564"
      ]
     },
     "metadata": {},
     "output_type": "display_data"
    },
    {
     "data": {
      "text/html": [
       "5.48171718652254"
      ],
      "text/latex": [
       "5.48171718652254"
      ],
      "text/markdown": [
       "5.48171718652254"
      ],
      "text/plain": [
       "[1] 5.481717"
      ]
     },
     "metadata": {},
     "output_type": "display_data"
    }
   ],
   "source": [
    "alpha<-0.01\n",
    "df<-mod2$df.residual\n",
    "tcr<- qt(1-alpha,df)\n",
    "m2sea2<-sqrt(vcov(mod2)[2,2])\n",
    "t<-B_2/m2sea2\n",
    "tcr\n",
    "t"
   ]
  },
  {
   "cell_type": "markdown",
   "id": "ae454a90",
   "metadata": {},
   "source": [
    "Nos contradecimos del supuesto inicial, ya que la prueba de hipótesis nos indicarían rechazar $H_0$ lo cual nos indicaria que la ropa es un bien de lujo a favor de $H_1$,  que pueda indicar un fallo en el modelo."
   ]
  },
  {
   "cell_type": "markdown",
   "id": "30905654",
   "metadata": {},
   "source": [
    "**e) Estimate the two equations using observations on households with two children. Construct 95% interval estimates for $\\beta_2$ and $\\alpha_2$ for both one- and two-child households. Based on these interval estimates, would you conjecture that the coefficients of $\\ln(TOTEXP)$ are the same or different for one- and two-child households.**"
   ]
  },
  {
   "cell_type": "markdown",
   "id": "122da9e0",
   "metadata": {},
   "source": [
    "# Ecuaciones para uno y dos niños"
   ]
  },
  {
   "cell_type": "code",
   "execution_count": 7,
   "id": "0ca2671c",
   "metadata": {},
   "outputs": [
    {
     "data": {
      "text/html": [
       "<table class=\"dataframe\">\n",
       "<caption>A matrix: 2 × 4 of type dbl</caption>\n",
       "<thead>\n",
       "\t<tr><th></th><th scope=col>Estimate</th><th scope=col>Std. Error</th><th scope=col>t value</th><th scope=col>Pr(&gt;|t|)</th></tr>\n",
       "</thead>\n",
       "<tbody>\n",
       "\t<tr><th scope=row>(Intercept)</th><td> 0.9557926</td><td>0.05090624</td><td> 18.77555</td><td>3.156469e-60</td></tr>\n",
       "\t<tr><th scope=row>log(totexp)</th><td>-0.1291262</td><td>0.01124566</td><td>-11.48231</td><td>2.591743e-27</td></tr>\n",
       "</tbody>\n",
       "</table>\n"
      ],
      "text/latex": [
       "A matrix: 2 × 4 of type dbl\n",
       "\\begin{tabular}{r|llll}\n",
       "  & Estimate & Std. Error & t value & Pr(>\\textbar{}t\\textbar{})\\\\\n",
       "\\hline\n",
       "\t(Intercept) &  0.9557926 & 0.05090624 &  18.77555 & 3.156469e-60\\\\\n",
       "\tlog(totexp) & -0.1291262 & 0.01124566 & -11.48231 & 2.591743e-27\\\\\n",
       "\\end{tabular}\n"
      ],
      "text/markdown": [
       "\n",
       "A matrix: 2 × 4 of type dbl\n",
       "\n",
       "| <!--/--> | Estimate | Std. Error | t value | Pr(&gt;|t|) |\n",
       "|---|---|---|---|---|\n",
       "| (Intercept) |  0.9557926 | 0.05090624 |  18.77555 | 3.156469e-60 |\n",
       "| log(totexp) | -0.1291262 | 0.01124566 | -11.48231 | 2.591743e-27 |\n",
       "\n"
      ],
      "text/plain": [
       "            Estimate   Std. Error t value   Pr(>|t|)    \n",
       "(Intercept)  0.9557926 0.05090624  18.77555 3.156469e-60\n",
       "log(totexp) -0.1291262 0.01124566 -11.48231 2.591743e-27"
      ]
     },
     "metadata": {},
     "output_type": "display_data"
    },
    {
     "data": {
      "text/html": [
       "<table class=\"dataframe\">\n",
       "<caption>A matrix: 2 × 4 of type dbl</caption>\n",
       "<thead>\n",
       "\t<tr><th></th><th scope=col>Estimate</th><th scope=col>Std. Error</th><th scope=col>t value</th><th scope=col>Pr(&gt;|t|)</th></tr>\n",
       "</thead>\n",
       "<tbody>\n",
       "\t<tr><th scope=row>(Intercept)</th><td>-0.25975501</td><td>0.05083714</td><td>-5.109552</td><td>4.566088e-07</td></tr>\n",
       "\t<tr><th scope=row>log(totexp)</th><td> 0.08098074</td><td>0.01123040</td><td> 7.210852</td><td>2.009840e-12</td></tr>\n",
       "</tbody>\n",
       "</table>\n"
      ],
      "text/latex": [
       "A matrix: 2 × 4 of type dbl\n",
       "\\begin{tabular}{r|llll}\n",
       "  & Estimate & Std. Error & t value & Pr(>\\textbar{}t\\textbar{})\\\\\n",
       "\\hline\n",
       "\t(Intercept) & -0.25975501 & 0.05083714 & -5.109552 & 4.566088e-07\\\\\n",
       "\tlog(totexp) &  0.08098074 & 0.01123040 &  7.210852 & 2.009840e-12\\\\\n",
       "\\end{tabular}\n"
      ],
      "text/markdown": [
       "\n",
       "A matrix: 2 × 4 of type dbl\n",
       "\n",
       "| <!--/--> | Estimate | Std. Error | t value | Pr(&gt;|t|) |\n",
       "|---|---|---|---|---|\n",
       "| (Intercept) | -0.25975501 | 0.05083714 | -5.109552 | 4.566088e-07 |\n",
       "| log(totexp) |  0.08098074 | 0.01123040 |  7.210852 | 2.009840e-12 |\n",
       "\n"
      ],
      "text/plain": [
       "            Estimate    Std. Error t value   Pr(>|t|)    \n",
       "(Intercept) -0.25975501 0.05083714 -5.109552 4.566088e-07\n",
       "log(totexp)  0.08098074 0.01123040  7.210852 2.009840e-12"
      ]
     },
     "metadata": {},
     "output_type": "display_data"
    }
   ],
   "source": [
    "mod3<-lm(wfood~log(totexp),data=child_2)\n",
    "B1_2<-coef(mod3)[[1]]\n",
    "B2_2<-coef(mod3)[[2]]\n",
    "smod3 <- summary(mod3)\n",
    "\n",
    "mod4<-lm(wcloth~log(totexp),data=child_2)\n",
    "B1_3<-coef(mod4)[[1]]\n",
    "B2_3<-coef(mod4)[[2]]\n",
    "smod4 <- summary(mod4)\n",
    "\n",
    "smod3$coefficients\n",
    "smod4$coefficients"
   ]
  },
  {
   "cell_type": "markdown",
   "id": "7341f928",
   "metadata": {},
   "source": [
    "Los intervalos de confianza son los siguientes:"
   ]
  },
  {
   "cell_type": "code",
   "execution_count": 8,
   "id": "a1e703d0",
   "metadata": {},
   "outputs": [
    {
     "data": {
      "text/html": [
       "<table class=\"dataframe\">\n",
       "<caption>A data.frame: 2 × 2</caption>\n",
       "<thead>\n",
       "\t<tr><th></th><th scope=col>Límite_Inferior</th><th scope=col>Límite_Superior</th></tr>\n",
       "\t<tr><th></th><th scope=col>&lt;dbl&gt;</th><th scope=col>&lt;dbl&gt;</th></tr>\n",
       "</thead>\n",
       "<tbody>\n",
       "\t<tr><th scope=row>1 child</th><td>-0.1871336</td><td>-0.1400522</td></tr>\n",
       "\t<tr><th scope=row>2 childs</th><td>-0.1512195</td><td>-0.1070329</td></tr>\n",
       "</tbody>\n",
       "</table>\n"
      ],
      "text/latex": [
       "A data.frame: 2 × 2\n",
       "\\begin{tabular}{r|ll}\n",
       "  & Límite\\_Inferior & Límite\\_Superior\\\\\n",
       "  & <dbl> & <dbl>\\\\\n",
       "\\hline\n",
       "\t1 child & -0.1871336 & -0.1400522\\\\\n",
       "\t2 childs & -0.1512195 & -0.1070329\\\\\n",
       "\\end{tabular}\n"
      ],
      "text/markdown": [
       "\n",
       "A data.frame: 2 × 2\n",
       "\n",
       "| <!--/--> | Límite_Inferior &lt;dbl&gt; | Límite_Superior &lt;dbl&gt; |\n",
       "|---|---|---|\n",
       "| 1 child | -0.1871336 | -0.1400522 |\n",
       "| 2 childs | -0.1512195 | -0.1070329 |\n",
       "\n"
      ],
      "text/plain": [
       "         Límite_Inferior Límite_Superior\n",
       "1 child  -0.1871336      -0.1400522     \n",
       "2 childs -0.1512195      -0.1070329     "
      ]
     },
     "metadata": {},
     "output_type": "display_data"
    }
   ],
   "source": [
    "intconf_1<-confint(mod1,parm = c(\"log(totexp)\"),level=.95)\n",
    "intconf_2<-confint(mod3,parm = c(\"log(totexp)\"),level=.95)\n",
    "TablaConf<-data.frame(rbind(intconf_1,intconf_2))\n",
    "rownames(TablaConf)<-c(\"1 child\",\"2 childs\")\n",
    "colnames(TablaConf)<-c('Límite_Inferior', 'Límite_Superior')\n",
    "TablaConf"
   ]
  },
  {
   "cell_type": "code",
   "execution_count": 9,
   "id": "f3901852",
   "metadata": {},
   "outputs": [
    {
     "data": {
      "text/html": [
       "<table class=\"dataframe\">\n",
       "<caption>A data.frame: 2 × 2</caption>\n",
       "<thead>\n",
       "\t<tr><th></th><th scope=col>Límite_Inferior</th><th scope=col>Límite_Superior</th></tr>\n",
       "\t<tr><th></th><th scope=col>&lt;dbl&gt;</th><th scope=col>&lt;dbl&gt;</th></tr>\n",
       "</thead>\n",
       "<tbody>\n",
       "\t<tr><th scope=row>1 child</th><td>0.04162758</td><td>0.08822445</td></tr>\n",
       "\t<tr><th scope=row>2 childs</th><td>0.05891740</td><td>0.10304407</td></tr>\n",
       "</tbody>\n",
       "</table>\n"
      ],
      "text/latex": [
       "A data.frame: 2 × 2\n",
       "\\begin{tabular}{r|ll}\n",
       "  & Límite\\_Inferior & Límite\\_Superior\\\\\n",
       "  & <dbl> & <dbl>\\\\\n",
       "\\hline\n",
       "\t1 child & 0.04162758 & 0.08822445\\\\\n",
       "\t2 childs & 0.05891740 & 0.10304407\\\\\n",
       "\\end{tabular}\n"
      ],
      "text/markdown": [
       "\n",
       "A data.frame: 2 × 2\n",
       "\n",
       "| <!--/--> | Límite_Inferior &lt;dbl&gt; | Límite_Superior &lt;dbl&gt; |\n",
       "|---|---|---|\n",
       "| 1 child | 0.04162758 | 0.08822445 |\n",
       "| 2 childs | 0.05891740 | 0.10304407 |\n",
       "\n"
      ],
      "text/plain": [
       "         Límite_Inferior Límite_Superior\n",
       "1 child  0.04162758      0.08822445     \n",
       "2 childs 0.05891740      0.10304407     "
      ]
     },
     "metadata": {},
     "output_type": "display_data"
    }
   ],
   "source": [
    "intconf_3<-confint(mod2,parm = c(\"log(totexp)\"),level=.95)\n",
    "intconf_4<-confint(mod4,parm = c(\"log(totexp)\"),level=.95)\n",
    "TablaConf1<-data.frame(rbind(intconf_3,intconf_4))\n",
    "rownames(TablaConf1)<-c(\"1 child\",\"2 childs\")\n",
    "colnames(TablaConf1)<-c('Límite_Inferior', 'Límite_Superior')\n",
    "TablaConf1"
   ]
  },
  {
   "cell_type": "markdown",
   "id": "609cbc60",
   "metadata": {},
   "source": [
    "Aparentemente son diferentes, por lo que el gasto puede similar, pero no es igual,"
   ]
  },
  {
   "cell_type": "markdown",
   "id": "f323afcb",
   "metadata": {},
   "source": [
    "**f) Use all observations to estimate the following two equations and test, at a 95% significance level, whether your conjectures in part (e) are correct. (NK = number of children in the household.)**"
   ]
  },
  {
   "cell_type": "markdown",
   "id": "5fd61227",
   "metadata": {},
   "source": [
    "$WFOOD=\\gamma_1+ \\gamma_2\\ln(TOTEXP)+ \\gamma_3NK+ \\gamma_4NK \\times \\ln(TOTEXP)+e_F$"
   ]
  },
  {
   "cell_type": "markdown",
   "id": "9bc0ac49",
   "metadata": {},
   "source": [
    "$CLOTH=\\delta_1+ \\delta_2\\ln(TOTEXP)+ \\delta_3NK+ \\delta_4NK \\times \\ln(TOTEXP)+e_F$"
   ]
  },
  {
   "cell_type": "code",
   "execution_count": 10,
   "id": "812e61b8",
   "metadata": {},
   "outputs": [
    {
     "data": {
      "text/html": [
       "1.19517843722949"
      ],
      "text/latex": [
       "1.19517843722949"
      ],
      "text/markdown": [
       "1.19517843722949"
      ],
      "text/plain": [
       "[1] 1.195178"
      ]
     },
     "metadata": {},
     "output_type": "display_data"
    },
    {
     "data": {
      "text/html": [
       "-0.198059689329419"
      ],
      "text/latex": [
       "-0.198059689329419"
      ],
      "text/markdown": [
       "-0.198059689329419"
      ],
      "text/plain": [
       "[1] -0.1980597"
      ]
     },
     "metadata": {},
     "output_type": "display_data"
    },
    {
     "data": {
      "text/html": [
       "-0.119692920714039"
      ],
      "text/latex": [
       "-0.119692920714039"
      ],
      "text/markdown": [
       "-0.119692920714039"
      ],
      "text/plain": [
       "[1] -0.1196929"
      ]
     },
     "metadata": {},
     "output_type": "display_data"
    },
    {
     "data": {
      "text/html": [
       "0.0344667576102875"
      ],
      "text/latex": [
       "0.0344667576102875"
      ],
      "text/markdown": [
       "0.0344667576102875"
      ],
      "text/plain": [
       "[1] 0.03446676"
      ]
     },
     "metadata": {},
     "output_type": "display_data"
    }
   ],
   "source": [
    "mod5<-lm(wfood~log(totexp)+nk+I(nk*log(totexp)),data=london5)\n",
    "mod5$coefficients\n",
    "(G1<-coef(mod5)[[1]])\n",
    "(G2<-coef(mod5)[[2]])\n",
    "(G2<-coef(mod5)[[3]])\n",
    "(G2<-coef(mod5)[[4]])"
   ]
  },
  {
   "cell_type": "code",
   "execution_count": 11,
   "id": "9209fa4b",
   "metadata": {},
   "outputs": [
    {
     "data": {
      "text/html": [
       "-0.117308560141389"
      ],
      "text/latex": [
       "-0.117308560141389"
      ],
      "text/markdown": [
       "-0.117308560141389"
      ],
      "text/plain": [
       "[1] -0.1173086"
      ]
     },
     "metadata": {},
     "output_type": "display_data"
    },
    {
     "data": {
      "text/html": [
       "0.0488712882766768"
      ],
      "text/latex": [
       "0.0488712882766768"
      ],
      "text/markdown": [
       "0.0488712882766768"
      ],
      "text/plain": [
       "[1] 0.04887129"
      ]
     },
     "metadata": {},
     "output_type": "display_data"
    },
    {
     "data": {
      "text/html": [
       "-0.0712232236645825"
      ],
      "text/latex": [
       "-0.0712232236645825"
      ],
      "text/markdown": [
       "-0.0712232236645825"
      ],
      "text/plain": [
       "[1] -0.07122322"
      ]
     },
     "metadata": {},
     "output_type": "display_data"
    },
    {
     "data": {
      "text/html": [
       "0.0160547236829468"
      ],
      "text/latex": [
       "0.0160547236829468"
      ],
      "text/markdown": [
       "0.0160547236829468"
      ],
      "text/plain": [
       "[1] 0.01605472"
      ]
     },
     "metadata": {},
     "output_type": "display_data"
    }
   ],
   "source": [
    "mod6<-lm(wcloth~log(totexp)+nk+I(nk*log(totexp)),data=london5)\n",
    "(S1<-coef(mod6)[[1]])\n",
    "(S2<-coef(mod6)[[2]])\n",
    "(S2<-coef(mod6)[[3]])\n",
    "(S2<-coef(mod6)[[4]])"
   ]
  },
  {
   "cell_type": "markdown",
   "id": "ebd7f2e7",
   "metadata": {},
   "source": [
    "**g)Compare the estimates for $\\frac{\\partial E(WFOOD|X)}{\\partial ln(TOTEXP)}$ from (XR5.18.1) for NK = 1, 2 with those from (XR5.18.3) for NK = 1, 2.**"
   ]
  },
  {
   "cell_type": "code",
   "execution_count": 12,
   "id": "f6b3e506",
   "metadata": {},
   "outputs": [
    {
     "data": {
      "text/html": [
       "<table class=\"dataframe\">\n",
       "<caption>A matrix: 2 × 2 of type dbl</caption>\n",
       "<thead>\n",
       "\t<tr><th></th><th scope=col>1 child</th><th scope=col>2 childs</th></tr>\n",
       "</thead>\n",
       "<tbody>\n",
       "\t<tr><th scope=row>WFOOD (XR5.18.1)</th><td> 0.06492601</td><td> 0.08098074</td></tr>\n",
       "\t<tr><th scope=row>WCLOTH (XR5.18.3)</th><td>-0.16359293</td><td>-0.12912617</td></tr>\n",
       "</tbody>\n",
       "</table>\n"
      ],
      "text/latex": [
       "A matrix: 2 × 2 of type dbl\n",
       "\\begin{tabular}{r|ll}\n",
       "  & 1 child & 2 childs\\\\\n",
       "\\hline\n",
       "\tWFOOD (XR5.18.1) &  0.06492601 &  0.08098074\\\\\n",
       "\tWCLOTH (XR5.18.3) & -0.16359293 & -0.12912617\\\\\n",
       "\\end{tabular}\n"
      ],
      "text/markdown": [
       "\n",
       "A matrix: 2 × 2 of type dbl\n",
       "\n",
       "| <!--/--> | 1 child | 2 childs |\n",
       "|---|---|---|\n",
       "| WFOOD (XR5.18.1) |  0.06492601 |  0.08098074 |\n",
       "| WCLOTH (XR5.18.3) | -0.16359293 | -0.12912617 |\n",
       "\n"
      ],
      "text/plain": [
       "                  1 child     2 childs   \n",
       "WFOOD (XR5.18.1)   0.06492601  0.08098074\n",
       "WCLOTH (XR5.18.3) -0.16359293 -0.12912617"
      ]
     },
     "metadata": {},
     "output_type": "display_data"
    }
   ],
   "source": [
    "Tabla_Comparar<-rbind(cbind(B_2,B2_3),cbind(B2,B2_2))\n",
    "colnames(Tabla_Comparar)<-c(\"1 child\",\"2 childs\")\n",
    "rownames(Tabla_Comparar)<-c(\"WFOOD (XR5.18.1)\",\"WCLOTH (XR5.18.3)\")\n",
    "Tabla_Comparar"
   ]
  },
  {
   "cell_type": "markdown",
   "id": "43b3b18c",
   "metadata": {},
   "source": [
    "## 5.19"
   ]
  },
  {
   "cell_type": "markdown",
   "id": "25fd9225",
   "metadata": {},
   "source": [
    "Consider the following expenditure share equation where the budget share for food WFOOD is expressed as a function of total expenditure TOTEXP."
   ]
  },
  {
   "cell_type": "markdown",
   "id": "3a7be472",
   "metadata": {},
   "source": [
    "$WFOOD=\\beta_1 + \\beta_2+\\ln(TOTEXP)+e_F$"
   ]
  },
  {
   "cell_type": "markdown",
   "id": "153fb898",
   "metadata": {},
   "source": [
    "In Exercise 4.12, it was noted that the elasticity of expenditure on food with respect to total expenditure\n",
    "is given by"
   ]
  },
  {
   "cell_type": "markdown",
   "id": "aa33882c",
   "metadata": {},
   "source": [
    "$\\varepsilon=1+\\frac{\\beta_2}{\\beta_1+\\beta_2\\ln(TOTEXP)}$"
   ]
  },
  {
   "cell_type": "markdown",
   "id": "faf0e879",
   "metadata": {},
   "source": [
    "Also, in Exercise 5.18 it was indicated that a good is a necessity if $\\beta_2 < 0.$"
   ]
  },
  {
   "cell_type": "markdown",
   "id": "7d1a4d60",
   "metadata": {},
   "source": [
    "**a) Show that $\\beta_2 < 0$ if and only if $\\varepsilon < 1$. That is, a good is a necessity if its expenditure elasticity is less than one (inelastic).**"
   ]
  },
  {
   "cell_type": "markdown",
   "id": "a42fd2aa",
   "metadata": {},
   "source": [
    "Suponemos que $\\varepsilon<1$ tal que\n",
    "1 +$\\frac{\\beta_2}{\\beta_1 +\\beta_2 \\ln(TOTEXP)}<1$\n",
    "por lo que $\\frac{\\beta_2}{\\beta_1 +\\beta_2 \\ln(TOTEXP)}<0$"
   ]
  },
  {
   "cell_type": "markdown",
   "id": "b858cff2",
   "metadata": {},
   "source": [
    "Siendo, $\\beta_1 +\\beta2 \\ln(TOTEXP)$ debe ser positivo\n",
    "($\\beta_2<0$), vemos que si despejamos $\\beta_2$ nos quedaria $\\beta_2<0$ y $\\ln(TOTEXP)>0$ "
   ]
  },
  {
   "cell_type": "markdown",
   "id": "693a4e5c",
   "metadata": {},
   "source": [
    "Por ende, $\\beta_2<0$,entonces $\\beta_2\\ln(TOTEXP)<0$,entonces $\\beta_2\\ln(TOTEXP)+1<1$,entonces $\\varepsilon=1+\\frac{\\beta_2}{\\beta_1+\\beta_2\\ln(TOTEXP)}$ ,tal que  $(\\beta_1 +\\beta_2 \\ln(TOTEXP))(\\varepsilon-1)<0$ y $(\\varepsilon-1)<0$ implica que $\\varepsilon<1$"
   ]
  },
  {
   "cell_type": "markdown",
   "id": "3e66a0c6",
   "metadata": {},
   "source": [
    "Comprobemos con el valor de la elasticidad"
   ]
  },
  {
   "cell_type": "code",
   "execution_count": 13,
   "id": "ef38e4f7",
   "metadata": {},
   "outputs": [
    {
     "name": "stderr",
     "output_type": "stream",
     "text": [
      "The following objects are masked from london5 (pos = 3):\n",
      "\n",
      "    age, nk, totexp, wcloth, wfood\n",
      "\n",
      "\n",
      "The following objects are masked from london5 (pos = 4):\n",
      "\n",
      "    age, nk, totexp, wcloth, wfood\n",
      "\n",
      "\n"
     ]
    },
    {
     "data": {
      "text/plain": [
       "\n",
       "Call:\n",
       "lm(formula = wfood ~ log(totexp), data = london5)\n",
       "\n",
       "Residuals:\n",
       "     Min       1Q   Median       3Q      Max \n",
       "-0.34226 -0.05737 -0.00200  0.06005  0.31348 \n",
       "\n",
       "Coefficients:\n",
       "             Estimate Std. Error t value Pr(>|t|)    \n",
       "(Intercept)  0.993838   0.037114   26.78   <2e-16 ***\n",
       "log(totexp) -0.140509   0.008261  -17.01   <2e-16 ***\n",
       "---\n",
       "Signif. codes:  0 ‘***’ 0.001 ‘**’ 0.01 ‘*’ 0.05 ‘.’ 0.1 ‘ ’ 1\n",
       "\n",
       "Residual standard error: 0.08913 on 848 degrees of freedom\n",
       "Multiple R-squared:  0.2544,\tAdjusted R-squared:  0.2535 \n",
       "F-statistic: 289.3 on 1 and 848 DF,  p-value: < 2.2e-16\n"
      ]
     },
     "metadata": {},
     "output_type": "display_data"
    }
   ],
   "source": [
    "london5 <- read_excel(\"D:/8 semestre/ECONOMETRIA/Bases de datos/london5.xlsx\")\n",
    "attach(london5)\n",
    "mod1 <- lm(wfood~log(totexp), data = london5)\n",
    "smod1 <- summary(mod1)\n",
    "smod1"
   ]
  },
  {
   "cell_type": "code",
   "execution_count": 14,
   "id": "e20eda97",
   "metadata": {},
   "outputs": [],
   "source": [
    "b1<-coef(mod1)[1]\n",
    "b2<-coef(mod1)[2]\n",
    "elasticidad<-1+(b2/(b1+b2+log(totexp)))"
   ]
  },
  {
   "cell_type": "code",
   "execution_count": 15,
   "id": "9a477d84",
   "metadata": {},
   "outputs": [
    {
     "data": {
      "text/html": [
       "TRUE"
      ],
      "text/latex": [
       "TRUE"
      ],
      "text/markdown": [
       "TRUE"
      ],
      "text/plain": [
       "[1] TRUE"
      ]
     },
     "metadata": {},
     "output_type": "display_data"
    }
   ],
   "source": [
    "max(elasticidad)<1"
   ]
  },
  {
   "cell_type": "markdown",
   "id": "72299883",
   "metadata": {},
   "source": [
    "**b) Use observations in the data file london5 to estimate (XR5.19.1) and comment on the results.**"
   ]
  },
  {
   "cell_type": "markdown",
   "id": "0ece5add",
   "metadata": {},
   "source": [
    "Los coeficientes son los siguientes por lo que la ecuación seria:"
   ]
  },
  {
   "cell_type": "code",
   "execution_count": 16,
   "id": "55730c47",
   "metadata": {},
   "outputs": [
    {
     "data": {
      "text/html": [
       "<table class=\"dataframe\">\n",
       "<caption>A matrix: 2 × 4 of type dbl</caption>\n",
       "<thead>\n",
       "\t<tr><th></th><th scope=col>Estimate</th><th scope=col>Std. Error</th><th scope=col>t value</th><th scope=col>Pr(&gt;|t|)</th></tr>\n",
       "</thead>\n",
       "<tbody>\n",
       "\t<tr><th scope=row>(Intercept)</th><td> 0.9938385</td><td>0.037113599</td><td> 26.77828</td><td>5.797769e-115</td></tr>\n",
       "\t<tr><th scope=row>log(totexp)</th><td>-0.1405088</td><td>0.008261118</td><td>-17.00845</td><td> 4.833770e-56</td></tr>\n",
       "</tbody>\n",
       "</table>\n"
      ],
      "text/latex": [
       "A matrix: 2 × 4 of type dbl\n",
       "\\begin{tabular}{r|llll}\n",
       "  & Estimate & Std. Error & t value & Pr(>\\textbar{}t\\textbar{})\\\\\n",
       "\\hline\n",
       "\t(Intercept) &  0.9938385 & 0.037113599 &  26.77828 & 5.797769e-115\\\\\n",
       "\tlog(totexp) & -0.1405088 & 0.008261118 & -17.00845 &  4.833770e-56\\\\\n",
       "\\end{tabular}\n"
      ],
      "text/markdown": [
       "\n",
       "A matrix: 2 × 4 of type dbl\n",
       "\n",
       "| <!--/--> | Estimate | Std. Error | t value | Pr(&gt;|t|) |\n",
       "|---|---|---|---|---|\n",
       "| (Intercept) |  0.9938385 | 0.037113599 |  26.77828 | 5.797769e-115 |\n",
       "| log(totexp) | -0.1405088 | 0.008261118 | -17.00845 |  4.833770e-56 |\n",
       "\n"
      ],
      "text/plain": [
       "            Estimate   Std. Error  t value   Pr(>|t|)     \n",
       "(Intercept)  0.9938385 0.037113599  26.77828 5.797769e-115\n",
       "log(totexp) -0.1405088 0.008261118 -17.00845  4.833770e-56"
      ]
     },
     "metadata": {},
     "output_type": "display_data"
    }
   ],
   "source": [
    "smod1$coefficients"
   ]
  },
  {
   "cell_type": "markdown",
   "id": "aaee8620",
   "metadata": {},
   "source": [
    "$\\hat{WFOOD}=.993838-.14050\\ln(TOTEXP)$"
   ]
  },
  {
   "cell_type": "markdown",
   "id": "aba71f75",
   "metadata": {},
   "source": [
    "Estimamos que un cambio del aprox 1% el gasto total disminuirá en presupuesto destinada a los alimentos en 0.0014. Y confirmamos que la comida es una necesidad, por el signo del coeficiente."
   ]
  },
  {
   "cell_type": "markdown",
   "id": "e881f95b",
   "metadata": {},
   "source": [
    "**c) Find point estimates and 95% interval estimates for the mean budget share for food, for total expenditure values (i) TOTEXP = 50 (the fifth percentile of TOTEXP), (ii) TOTEXP = 90 (the median),\n",
    "and (iii) TOTEXP = 170 (the 95th percentile).**"
   ]
  },
  {
   "cell_type": "code",
   "execution_count": 17,
   "id": "02600ed4",
   "metadata": {},
   "outputs": [
    {
     "data": {
      "text/html": [
       "<style>\n",
       ".list-inline {list-style: none; margin:0; padding: 0}\n",
       ".list-inline>li {display: inline-block}\n",
       ".list-inline>li:not(:last-child)::after {content: \"\\00b7\"; padding: 0 .5ex}\n",
       "</style>\n",
       "<ol class=list-inline><li>0.444164873075922</li><li>0.361575682725272</li><li>0.272213673595209</li></ol>\n"
      ],
      "text/latex": [
       "\\begin{enumerate*}\n",
       "\\item 0.444164873075922\n",
       "\\item 0.361575682725272\n",
       "\\item 0.272213673595209\n",
       "\\end{enumerate*}\n"
      ],
      "text/markdown": [
       "1. 0.444164873075922\n",
       "2. 0.361575682725272\n",
       "3. 0.272213673595209\n",
       "\n",
       "\n"
      ],
      "text/plain": [
       "[1] 0.4441649 0.3615757 0.2722137"
      ]
     },
     "metadata": {},
     "output_type": "display_data"
    }
   ],
   "source": [
    "TOTEXP = c(50, 90, 170)\n",
    "Estimacion_puntual=b1+b2*log(TOTEXP)\n",
    "Estimacion_puntual"
   ]
  },
  {
   "cell_type": "code",
   "execution_count": 18,
   "id": "da15ecd5",
   "metadata": {},
   "outputs": [
    {
     "data": {
      "text/html": [
       "<table class=\"dataframe\">\n",
       "<caption>A matrix: 3 × 3 of type dbl</caption>\n",
       "<thead>\n",
       "\t<tr><th></th><th scope=col>Estimación</th><th scope=col>Límite_Inferior</th><th scope=col>Límite_Superior</th></tr>\n",
       "</thead>\n",
       "<tbody>\n",
       "\t<tr><th scope=row>TOTEXP=50</th><td>0.4441649</td><td>0.4332097</td><td>0.4551201</td></tr>\n",
       "\t<tr><th scope=row>TOTEXP=90</th><td>0.3615757</td><td>0.3555641</td><td>0.3675873</td></tr>\n",
       "\t<tr><th scope=row>TOTEXP=170</th><td>0.2722137</td><td>0.2599657</td><td>0.2844616</td></tr>\n",
       "</tbody>\n",
       "</table>\n"
      ],
      "text/latex": [
       "A matrix: 3 × 3 of type dbl\n",
       "\\begin{tabular}{r|lll}\n",
       "  & Estimación & Límite\\_Inferior & Límite\\_Superior\\\\\n",
       "\\hline\n",
       "\tTOTEXP=50 & 0.4441649 & 0.4332097 & 0.4551201\\\\\n",
       "\tTOTEXP=90 & 0.3615757 & 0.3555641 & 0.3675873\\\\\n",
       "\tTOTEXP=170 & 0.2722137 & 0.2599657 & 0.2844616\\\\\n",
       "\\end{tabular}\n"
      ],
      "text/markdown": [
       "\n",
       "A matrix: 3 × 3 of type dbl\n",
       "\n",
       "| <!--/--> | Estimación | Límite_Inferior | Límite_Superior |\n",
       "|---|---|---|---|\n",
       "| TOTEXP=50 | 0.4441649 | 0.4332097 | 0.4551201 |\n",
       "| TOTEXP=90 | 0.3615757 | 0.3555641 | 0.3675873 |\n",
       "| TOTEXP=170 | 0.2722137 | 0.2599657 | 0.2844616 |\n",
       "\n"
      ],
      "text/plain": [
       "           Estimación Límite_Inferior Límite_Superior\n",
       "TOTEXP=50  0.4441649  0.4332097       0.4551201      \n",
       "TOTEXP=90  0.3615757  0.3555641       0.3675873      \n",
       "TOTEXP=170 0.2722137  0.2599657       0.2844616      "
      ]
     },
     "metadata": {},
     "output_type": "display_data"
    }
   ],
   "source": [
    "tabla=c()\n",
    "for(i in TOTEXP){\n",
    "totexp <- i\n",
    "newdata <- data.frame(log(totexp))\n",
    "pred <- predict(mod1, newdata = newdata, interval = \"confidence\", level = 0.95)\n",
    "est_df <- c(pred[1],pred[2],pred[3])\n",
    "tabla=rbind(tabla,est_df)\n",
    "}\n",
    "colnames(tabla)=c('Estimación','Límite_Inferior', 'Límite_Superior')\n",
    "rownames(tabla)=c('TOTEXP=50','TOTEXP=90', 'TOTEXP=170')\n",
    "tabla"
   ]
  },
  {
   "cell_type": "markdown",
   "id": "3790cd15",
   "metadata": {},
   "source": [
    "**d)Find point estimates and 95% interval estimates for the elasticity $\\varepsilon$, for total expenditure values\n",
    "(i) TOTEXP = 50 (the fifth percentile), (ii) TOTEXP = 90 (the median), and (iii) TOTEXP = 170\n",
    "(the 95th percentile).**"
   ]
  },
  {
   "cell_type": "code",
   "execution_count": 19,
   "id": "493e71e6",
   "metadata": {},
   "outputs": [
    {
     "data": {
      "text/html": [
       "<table class=\"dataframe\">\n",
       "<caption>A matrix: 3 × 3 of type dbl</caption>\n",
       "<thead>\n",
       "\t<tr><th></th><th scope=col>Estimación</th><th scope=col>Límite_Inferior</th><th scope=col>Límite_Superior</th></tr>\n",
       "</thead>\n",
       "<tbody>\n",
       "\t<tr><th scope=row>TOTEXP=50</th><td>0.6836562</td><td>0.6727011</td><td>0.6946114</td></tr>\n",
       "\t<tr><th scope=row>TOTEXP=90</th><td>0.6113987</td><td>0.6053871</td><td>0.6174103</td></tr>\n",
       "\t<tr><th scope=row>TOTEXP=170</th><td>0.4838291</td><td>0.4715811</td><td>0.4960770</td></tr>\n",
       "</tbody>\n",
       "</table>\n"
      ],
      "text/latex": [
       "A matrix: 3 × 3 of type dbl\n",
       "\\begin{tabular}{r|lll}\n",
       "  & Estimación & Límite\\_Inferior & Límite\\_Superior\\\\\n",
       "\\hline\n",
       "\tTOTEXP=50 & 0.6836562 & 0.6727011 & 0.6946114\\\\\n",
       "\tTOTEXP=90 & 0.6113987 & 0.6053871 & 0.6174103\\\\\n",
       "\tTOTEXP=170 & 0.4838291 & 0.4715811 & 0.4960770\\\\\n",
       "\\end{tabular}\n"
      ],
      "text/markdown": [
       "\n",
       "A matrix: 3 × 3 of type dbl\n",
       "\n",
       "| <!--/--> | Estimación | Límite_Inferior | Límite_Superior |\n",
       "|---|---|---|---|\n",
       "| TOTEXP=50 | 0.6836562 | 0.6727011 | 0.6946114 |\n",
       "| TOTEXP=90 | 0.6113987 | 0.6053871 | 0.6174103 |\n",
       "| TOTEXP=170 | 0.4838291 | 0.4715811 | 0.4960770 |\n",
       "\n"
      ],
      "text/plain": [
       "           Estimación Límite_Inferior Límite_Superior\n",
       "TOTEXP=50  0.6836562  0.6727011       0.6946114      \n",
       "TOTEXP=90  0.6113987  0.6053871       0.6174103      \n",
       "TOTEXP=170 0.4838291  0.4715811       0.4960770      "
      ]
     },
     "metadata": {},
     "output_type": "display_data"
    }
   ],
   "source": [
    "varb1<-vcov(mod1)[1,1]\n",
    "varb2<-vcov(mod1)[2,2]\n",
    "covb1b2<-vcov(mod1)[1,2]\n",
    "alpha<-0.05\n",
    "df<-mod1$df.residual\n",
    "tcr<-qt(1-alpha/2,df)\n",
    "cvar=c()\n",
    "cest=c()\n",
    "cLV=c()\n",
    "cUV=c()\n",
    "for(i in TOTEXP){\n",
    "    var=varb1+log(i)**2* varb2 +2*log(i)*covb1b2\n",
    "    est<-1+(b2/(b1+b2*log(i)))\n",
    "    cvar=c(cvar,var)\n",
    "    cest=c(cest,est)\n",
    "    LV<-est-tcr*sqrt(var) \n",
    "    UV<-est+tcr*sqrt(var)\n",
    "    cLV=c(cLV,LV)\n",
    "    cUV=c(cUV,UV)\n",
    "}\n",
    "tabla2=cbind(cest,cLV,cUV)\n",
    "colnames(tabla2)=c(\"Estimación\",'Límite_Inferior', 'Límite_Superior')\n",
    "rownames(tabla2)=c('TOTEXP=50','TOTEXP=90', 'TOTEXP=170')\n",
    "tabla2"
   ]
  },
  {
   "cell_type": "markdown",
   "id": "86cedeec",
   "metadata": {},
   "source": [
    "**e) Comment on how the mean budget share and the expenditure elasticity for food change as total\n",
    "expenditure changes. How does the reliability of estimation change as total expenditure changes?**\n"
   ]
  },
  {
   "cell_type": "markdown",
   "id": "e0b35fd9",
   "metadata": {},
   "source": [
    "Para los bienes necesarios se encuetra una relacion inversamente proporcional a el gasto total con respecto el presupusto y la elasticidad como en el caso de los alimentos \n",
    "La estimación de la proporción del presupuesto es más precisa en el gasto total y menor en los percentiles más altos. La estimación de la elasticidad se vuelve menos confiable a medida que aumenta el gasto total."
   ]
  },
  {
   "cell_type": "markdown",
   "id": "d5acde6f",
   "metadata": {},
   "source": [
    "## 5.22"
   ]
  },
  {
   "cell_type": "markdown",
   "id": "410bfc76",
   "metadata": {},
   "source": [
    "Using the data in the file toody5, estimate the model"
   ]
  },
  {
   "cell_type": "markdown",
   "id": "c25c9a02",
   "metadata": {},
   "source": [
    "$Y_t=\\beta_1+\\beta_2TREND_t+\\beta_3RAIN_t+\\beta_4RAIN_t^2+\\beta_5(RAIN_t \\times TREND_t)+ e_t$"
   ]
  },
  {
   "cell_type": "markdown",
   "id": "b9b63282",
   "metadata": {},
   "source": [
    "where $Y_t$ = wheat yield in tons per hectare in the Toodyay Shire of Western Australia in year t; $TREND_t$ is a trend variable designed to capture technological change, with observations 0, 0.1, 0.2, ..., 4.7; 0 is for the year 1950, 0.1 is for the year 1951, and so on up to 4.7 for the year 1997; $RAIN_t$ is total rainfall in decimeters (dm) from May to October (the growing season) in year t (1 decimeter = 4 inches)."
   ]
  },
  {
   "cell_type": "markdown",
   "id": "2f822539",
   "metadata": {},
   "source": [
    "**a)Report your estimates, standard errors, t-values, and p-values in a table.**"
   ]
  },
  {
   "cell_type": "code",
   "execution_count": 20,
   "id": "8db61341",
   "metadata": {},
   "outputs": [
    {
     "data": {
      "text/html": [
       "<table class=\"dataframe\">\n",
       "<caption>A tibble: 6 × 6</caption>\n",
       "<thead>\n",
       "\t<tr><th scope=col>dateid01</th><th scope=col>rain</th><th scope=col>t</th><th scope=col>trend</th><th scope=col>y</th><th scope=col>year</th></tr>\n",
       "\t<tr><th scope=col>&lt;dttm&gt;</th><th scope=col>&lt;dbl&gt;</th><th scope=col>&lt;dbl&gt;</th><th scope=col>&lt;dbl&gt;</th><th scope=col>&lt;dbl&gt;</th><th scope=col>&lt;dbl&gt;</th></tr>\n",
       "</thead>\n",
       "<tbody>\n",
       "\t<tr><td>1950-01-01</td><td>4.099</td><td>1</td><td>0.0</td><td>1.3508</td><td>1950</td></tr>\n",
       "\t<tr><td>1951-01-01</td><td>3.574</td><td>2</td><td>0.1</td><td>0.9476</td><td>1951</td></tr>\n",
       "\t<tr><td>1952-01-01</td><td>4.258</td><td>3</td><td>0.2</td><td>1.2569</td><td>1952</td></tr>\n",
       "\t<tr><td>1953-01-01</td><td>4.790</td><td>4</td><td>0.3</td><td>0.9142</td><td>1953</td></tr>\n",
       "\t<tr><td>1954-01-01</td><td>3.648</td><td>5</td><td>0.4</td><td>1.1022</td><td>1954</td></tr>\n",
       "\t<tr><td>1955-01-01</td><td>6.035</td><td>6</td><td>0.5</td><td>1.1897</td><td>1955</td></tr>\n",
       "</tbody>\n",
       "</table>\n"
      ],
      "text/latex": [
       "A tibble: 6 × 6\n",
       "\\begin{tabular}{llllll}\n",
       " dateid01 & rain & t & trend & y & year\\\\\n",
       " <dttm> & <dbl> & <dbl> & <dbl> & <dbl> & <dbl>\\\\\n",
       "\\hline\n",
       "\t 1950-01-01 & 4.099 & 1 & 0.0 & 1.3508 & 1950\\\\\n",
       "\t 1951-01-01 & 3.574 & 2 & 0.1 & 0.9476 & 1951\\\\\n",
       "\t 1952-01-01 & 4.258 & 3 & 0.2 & 1.2569 & 1952\\\\\n",
       "\t 1953-01-01 & 4.790 & 4 & 0.3 & 0.9142 & 1953\\\\\n",
       "\t 1954-01-01 & 3.648 & 5 & 0.4 & 1.1022 & 1954\\\\\n",
       "\t 1955-01-01 & 6.035 & 6 & 0.5 & 1.1897 & 1955\\\\\n",
       "\\end{tabular}\n"
      ],
      "text/markdown": [
       "\n",
       "A tibble: 6 × 6\n",
       "\n",
       "| dateid01 &lt;dttm&gt; | rain &lt;dbl&gt; | t &lt;dbl&gt; | trend &lt;dbl&gt; | y &lt;dbl&gt; | year &lt;dbl&gt; |\n",
       "|---|---|---|---|---|---|\n",
       "| 1950-01-01 | 4.099 | 1 | 0.0 | 1.3508 | 1950 |\n",
       "| 1951-01-01 | 3.574 | 2 | 0.1 | 0.9476 | 1951 |\n",
       "| 1952-01-01 | 4.258 | 3 | 0.2 | 1.2569 | 1952 |\n",
       "| 1953-01-01 | 4.790 | 4 | 0.3 | 0.9142 | 1953 |\n",
       "| 1954-01-01 | 3.648 | 5 | 0.4 | 1.1022 | 1954 |\n",
       "| 1955-01-01 | 6.035 | 6 | 0.5 | 1.1897 | 1955 |\n",
       "\n"
      ],
      "text/plain": [
       "  dateid01   rain  t trend y      year\n",
       "1 1950-01-01 4.099 1 0.0   1.3508 1950\n",
       "2 1951-01-01 3.574 2 0.1   0.9476 1951\n",
       "3 1952-01-01 4.258 3 0.2   1.2569 1952\n",
       "4 1953-01-01 4.790 4 0.3   0.9142 1953\n",
       "5 1954-01-01 3.648 5 0.4   1.1022 1954\n",
       "6 1955-01-01 6.035 6 0.5   1.1897 1955"
      ]
     },
     "metadata": {},
     "output_type": "display_data"
    },
    {
     "name": "stderr",
     "output_type": "stream",
     "text": [
      "The following object is masked _by_ .GlobalEnv:\n",
      "\n",
      "    t\n",
      "\n",
      "\n"
     ]
    }
   ],
   "source": [
    "toody <- read_excel(\"/Users/alexandertrejo/Documents/8VO SEMESTRE/Econometria/Bases de datos/toody5.xlsx\")\n",
    "head(toody)\n",
    "attach(toody)"
   ]
  },
  {
   "cell_type": "code",
   "execution_count": 21,
   "id": "1c6e85c3",
   "metadata": {},
   "outputs": [
    {
     "data": {
      "text/plain": [
       "\n",
       "\n",
       "Table: Summary of the $Toody$ model\n",
       "\n",
       "|            | Estimate | Std.Error | t-value | p-value |\n",
       "|:-----------|:--------:|:---------:|:-------:|:-------:|\n",
       "|(Intercept) |  -2.675  |   0.997   | -2.684  |  0.010  |\n",
       "|trend       |  0.678   |   0.192   |  3.533  |  0.001  |\n",
       "|rain        |  1.508   |   0.431   |  3.501  |  0.001  |\n",
       "|I(rain^2)   |  -0.157  |   0.047   | -3.369  |  0.002  |\n",
       "|trend:rain  |  -0.093  |   0.047   | -1.985  |  0.054  |"
      ]
     },
     "metadata": {},
     "output_type": "display_data"
    }
   ],
   "source": [
    "mod1 <- lm(y~trend+rain+I(rain^2)+rain*trend, data=toody)\n",
    "smod1 <- summary(mod1)\n",
    "tabla <- data.frame(xtable(smod1))\n",
    "names(tabla) <- c(\"Estimate\", \"Std.Error\",\"t-value\", \"p-value\")\n",
    "kable(tabla, digits=3, align='c', \n",
    "      caption=\"Summary of the $Toody$ model\")"
   ]
  },
  {
   "cell_type": "markdown",
   "id": "c2481670",
   "metadata": {},
   "source": [
    "**b)For 1974, when TREND = 2.4 and RAIN = 4.576, use a 5% significance level to test the null\n",
    "hypothesis that extra rainfall will not increase expected yield against the alternative that it will\n",
    "increase expected yield.**"
   ]
  },
  {
   "cell_type": "code",
   "execution_count": 22,
   "id": "d8ca29d1",
   "metadata": {},
   "outputs": [
    {
     "data": {
      "text/html": [
       "<strong>rain:</strong> -2.17932518846468"
      ],
      "text/latex": [
       "\\textbf{rain:} -2.17932518846468"
      ],
      "text/markdown": [
       "**rain:** -2.17932518846468"
      ],
      "text/plain": [
       "     rain \n",
       "-2.179325 "
      ]
     },
     "metadata": {},
     "output_type": "display_data"
    },
    {
     "data": {
      "text/html": [
       "1.68107070320252"
      ],
      "text/latex": [
       "1.68107070320252"
      ],
      "text/markdown": [
       "1.68107070320252"
      ],
      "text/plain": [
       "[1] 1.681071"
      ]
     },
     "metadata": {},
     "output_type": "display_data"
    }
   ],
   "source": [
    "alpha <- .05\n",
    "df <- mod1$df.residual\n",
    "L <- mod1$coeff[3]+2*4.576*mod1$coeff[4]+2.4*mod1$coeff[5]\n",
    "a <- c(0,0,1, 2*4.576, 2.4)\n",
    "b <- as.numeric(coef(mod1))\n",
    "V <- vcov(mod1) \n",
    "A <- as.vector(a)\n",
    "varL <- as.numeric(t(A) %*% V %*% A)\n",
    "se <- sqrt(varL)\n",
    "t <- L/se\n",
    "tcr <- qt(1-alpha,df)\n",
    "t;tcr"
   ]
  },
  {
   "cell_type": "markdown",
   "id": "50cf94ed",
   "metadata": {},
   "source": [
    "Rechazamos $H_0$ , ya que t está en la region de rechazo.\n",
    "Por lo tanto, significa que la lluvia incrementa producira una aumento en el rendimiento esperado.\n",
    "Para un nivel de significancia del 5%"
   ]
  },
  {
   "cell_type": "markdown",
   "id": "a11c62ea",
   "metadata": {},
   "source": [
    "**c)Assuming rainfall is equal to its median value of 3.8355 dm, find point and 95% interval estimates\n",
    "of the expected improvement in wheat yield from technological change over the period 1960–1995.**"
   ]
  },
  {
   "cell_type": "markdown",
   "id": "b2d11c38",
   "metadata": {},
   "source": [
    "A nivel de datos si se filtran quedaria lo siguiente"
   ]
  },
  {
   "cell_type": "code",
   "execution_count": 23,
   "id": "80443999",
   "metadata": {},
   "outputs": [
    {
     "name": "stderr",
     "output_type": "stream",
     "text": [
      "\n",
      "Attaching package: ‘dplyr’\n",
      "\n",
      "\n",
      "The following objects are masked from ‘package:stats’:\n",
      "\n",
      "    filter, lag\n",
      "\n",
      "\n",
      "The following objects are masked from ‘package:base’:\n",
      "\n",
      "    intersect, setdiff, setequal, union\n",
      "\n",
      "\n",
      "Warning message in as.POSIXlt.POSIXct(x, tz = tz):\n",
      "“unknown timezone '%Y/%m/%d'”\n"
     ]
    },
    {
     "data": {
      "text/html": [
       "<table class=\"dataframe\">\n",
       "<caption>A tibble: 6 × 6</caption>\n",
       "<thead>\n",
       "\t<tr><th scope=col>dateid01</th><th scope=col>rain</th><th scope=col>t</th><th scope=col>trend</th><th scope=col>y</th><th scope=col>year</th></tr>\n",
       "\t<tr><th scope=col>&lt;date&gt;</th><th scope=col>&lt;dbl&gt;</th><th scope=col>&lt;dbl&gt;</th><th scope=col>&lt;dbl&gt;</th><th scope=col>&lt;dbl&gt;</th><th scope=col>&lt;dbl&gt;</th></tr>\n",
       "</thead>\n",
       "<tbody>\n",
       "\t<tr><td>1960-01-01</td><td>4.245</td><td>11</td><td>1.0</td><td>1.1427</td><td>1960</td></tr>\n",
       "\t<tr><td>1961-01-01</td><td>3.198</td><td>12</td><td>1.1</td><td>0.7998</td><td>1961</td></tr>\n",
       "\t<tr><td>1962-01-01</td><td>4.735</td><td>13</td><td>1.2</td><td>0.8468</td><td>1962</td></tr>\n",
       "\t<tr><td>1963-01-01</td><td>6.097</td><td>14</td><td>1.3</td><td>0.8938</td><td>1963</td></tr>\n",
       "\t<tr><td>1964-01-01</td><td>5.724</td><td>15</td><td>1.4</td><td>0.9006</td><td>1964</td></tr>\n",
       "\t<tr><td>1965-01-01</td><td>4.645</td><td>16</td><td>1.5</td><td>1.0955</td><td>1965</td></tr>\n",
       "</tbody>\n",
       "</table>\n"
      ],
      "text/latex": [
       "A tibble: 6 × 6\n",
       "\\begin{tabular}{llllll}\n",
       " dateid01 & rain & t & trend & y & year\\\\\n",
       " <date> & <dbl> & <dbl> & <dbl> & <dbl> & <dbl>\\\\\n",
       "\\hline\n",
       "\t 1960-01-01 & 4.245 & 11 & 1.0 & 1.1427 & 1960\\\\\n",
       "\t 1961-01-01 & 3.198 & 12 & 1.1 & 0.7998 & 1961\\\\\n",
       "\t 1962-01-01 & 4.735 & 13 & 1.2 & 0.8468 & 1962\\\\\n",
       "\t 1963-01-01 & 6.097 & 14 & 1.3 & 0.8938 & 1963\\\\\n",
       "\t 1964-01-01 & 5.724 & 15 & 1.4 & 0.9006 & 1964\\\\\n",
       "\t 1965-01-01 & 4.645 & 16 & 1.5 & 1.0955 & 1965\\\\\n",
       "\\end{tabular}\n"
      ],
      "text/markdown": [
       "\n",
       "A tibble: 6 × 6\n",
       "\n",
       "| dateid01 &lt;date&gt; | rain &lt;dbl&gt; | t &lt;dbl&gt; | trend &lt;dbl&gt; | y &lt;dbl&gt; | year &lt;dbl&gt; |\n",
       "|---|---|---|---|---|---|\n",
       "| 1960-01-01 | 4.245 | 11 | 1.0 | 1.1427 | 1960 |\n",
       "| 1961-01-01 | 3.198 | 12 | 1.1 | 0.7998 | 1961 |\n",
       "| 1962-01-01 | 4.735 | 13 | 1.2 | 0.8468 | 1962 |\n",
       "| 1963-01-01 | 6.097 | 14 | 1.3 | 0.8938 | 1963 |\n",
       "| 1964-01-01 | 5.724 | 15 | 1.4 | 0.9006 | 1964 |\n",
       "| 1965-01-01 | 4.645 | 16 | 1.5 | 1.0955 | 1965 |\n",
       "\n"
      ],
      "text/plain": [
       "  dateid01   rain  t  trend y      year\n",
       "1 1960-01-01 4.245 11 1.0   1.1427 1960\n",
       "2 1961-01-01 3.198 12 1.1   0.7998 1961\n",
       "3 1962-01-01 4.735 13 1.2   0.8468 1962\n",
       "4 1963-01-01 6.097 14 1.3   0.8938 1963\n",
       "5 1964-01-01 5.724 15 1.4   0.9006 1964\n",
       "6 1965-01-01 4.645 16 1.5   1.0955 1965"
      ]
     },
     "metadata": {},
     "output_type": "display_data"
    },
    {
     "data": {
      "text/html": [
       "<table class=\"dataframe\">\n",
       "<caption>A tibble: 6 × 6</caption>\n",
       "<thead>\n",
       "\t<tr><th scope=col>dateid01</th><th scope=col>rain</th><th scope=col>t</th><th scope=col>trend</th><th scope=col>y</th><th scope=col>year</th></tr>\n",
       "\t<tr><th scope=col>&lt;date&gt;</th><th scope=col>&lt;dbl&gt;</th><th scope=col>&lt;dbl&gt;</th><th scope=col>&lt;dbl&gt;</th><th scope=col>&lt;dbl&gt;</th><th scope=col>&lt;dbl&gt;</th></tr>\n",
       "</thead>\n",
       "<tbody>\n",
       "\t<tr><td>1990-01-01</td><td>4.457</td><td>41</td><td>4.0</td><td>2.0983</td><td>1990</td></tr>\n",
       "\t<tr><td>1991-01-01</td><td>4.396</td><td>42</td><td>4.1</td><td>1.9555</td><td>1991</td></tr>\n",
       "\t<tr><td>1992-01-01</td><td>3.746</td><td>43</td><td>4.2</td><td>1.8192</td><td>1992</td></tr>\n",
       "\t<tr><td>1993-01-01</td><td>3.651</td><td>44</td><td>4.3</td><td>2.3881</td><td>1993</td></tr>\n",
       "\t<tr><td>1994-01-01</td><td>4.896</td><td>45</td><td>4.4</td><td>2.2106</td><td>1994</td></tr>\n",
       "\t<tr><td>1995-01-01</td><td>4.797</td><td>46</td><td>4.5</td><td>2.4475</td><td>1995</td></tr>\n",
       "</tbody>\n",
       "</table>\n"
      ],
      "text/latex": [
       "A tibble: 6 × 6\n",
       "\\begin{tabular}{llllll}\n",
       " dateid01 & rain & t & trend & y & year\\\\\n",
       " <date> & <dbl> & <dbl> & <dbl> & <dbl> & <dbl>\\\\\n",
       "\\hline\n",
       "\t 1990-01-01 & 4.457 & 41 & 4.0 & 2.0983 & 1990\\\\\n",
       "\t 1991-01-01 & 4.396 & 42 & 4.1 & 1.9555 & 1991\\\\\n",
       "\t 1992-01-01 & 3.746 & 43 & 4.2 & 1.8192 & 1992\\\\\n",
       "\t 1993-01-01 & 3.651 & 44 & 4.3 & 2.3881 & 1993\\\\\n",
       "\t 1994-01-01 & 4.896 & 45 & 4.4 & 2.2106 & 1994\\\\\n",
       "\t 1995-01-01 & 4.797 & 46 & 4.5 & 2.4475 & 1995\\\\\n",
       "\\end{tabular}\n"
      ],
      "text/markdown": [
       "\n",
       "A tibble: 6 × 6\n",
       "\n",
       "| dateid01 &lt;date&gt; | rain &lt;dbl&gt; | t &lt;dbl&gt; | trend &lt;dbl&gt; | y &lt;dbl&gt; | year &lt;dbl&gt; |\n",
       "|---|---|---|---|---|---|\n",
       "| 1990-01-01 | 4.457 | 41 | 4.0 | 2.0983 | 1990 |\n",
       "| 1991-01-01 | 4.396 | 42 | 4.1 | 1.9555 | 1991 |\n",
       "| 1992-01-01 | 3.746 | 43 | 4.2 | 1.8192 | 1992 |\n",
       "| 1993-01-01 | 3.651 | 44 | 4.3 | 2.3881 | 1993 |\n",
       "| 1994-01-01 | 4.896 | 45 | 4.4 | 2.2106 | 1994 |\n",
       "| 1995-01-01 | 4.797 | 46 | 4.5 | 2.4475 | 1995 |\n",
       "\n"
      ],
      "text/plain": [
       "  dateid01   rain  t  trend y      year\n",
       "1 1990-01-01 4.457 41 4.0   2.0983 1990\n",
       "2 1991-01-01 4.396 42 4.1   1.9555 1991\n",
       "3 1992-01-01 3.746 43 4.2   1.8192 1992\n",
       "4 1993-01-01 3.651 44 4.3   2.3881 1993\n",
       "5 1994-01-01 4.896 45 4.4   2.2106 1994\n",
       "6 1995-01-01 4.797 46 4.5   2.4475 1995"
      ]
     },
     "metadata": {},
     "output_type": "display_data"
    }
   ],
   "source": [
    "library(\"dplyr\")\n",
    "toody$dateid01 <-as.Date(toody$dateid01,\"%Y/%m/%d\")\n",
    "toody1960_1995= toody %>%\n",
    "  select(dateid01, rain,t,trend,y,year) %>%\n",
    "  filter(dateid01 >= \"1960-01-01\" & dateid01 <= \"1995-01-01\")\n",
    "head(toody1960_1995)\n",
    "tail(toody1960_1995)"
   ]
  },
  {
   "cell_type": "code",
   "execution_count": 24,
   "id": "373c0276",
   "metadata": {},
   "outputs": [
    {
     "data": {
      "text/html": [
       "<table class=\"dataframe\">\n",
       "<caption>A data.frame: 2 × 4</caption>\n",
       "<thead>\n",
       "\t<tr><th scope=col>trend</th><th scope=col>rain</th><th scope=col>I.rain.2.</th><th scope=col>trend.rain</th></tr>\n",
       "\t<tr><th scope=col>&lt;dbl&gt;</th><th scope=col>&lt;dbl&gt;</th><th scope=col>&lt;dbl&gt;</th><th scope=col>&lt;dbl&gt;</th></tr>\n",
       "</thead>\n",
       "<tbody>\n",
       "\t<tr><td>1.0</td><td>3.8355</td><td>14.7111</td><td> 3.83550</td></tr>\n",
       "\t<tr><td>4.5</td><td>3.8355</td><td>14.7111</td><td>17.25975</td></tr>\n",
       "</tbody>\n",
       "</table>\n"
      ],
      "text/latex": [
       "A data.frame: 2 × 4\n",
       "\\begin{tabular}{llll}\n",
       " trend & rain & I.rain.2. & trend.rain\\\\\n",
       " <dbl> & <dbl> & <dbl> & <dbl>\\\\\n",
       "\\hline\n",
       "\t 1.0 & 3.8355 & 14.7111 &  3.83550\\\\\n",
       "\t 4.5 & 3.8355 & 14.7111 & 17.25975\\\\\n",
       "\\end{tabular}\n"
      ],
      "text/markdown": [
       "\n",
       "A data.frame: 2 × 4\n",
       "\n",
       "| trend &lt;dbl&gt; | rain &lt;dbl&gt; | I.rain.2. &lt;dbl&gt; | trend.rain &lt;dbl&gt; |\n",
       "|---|---|---|---|\n",
       "| 1.0 | 3.8355 | 14.7111 |  3.83550 |\n",
       "| 4.5 | 3.8355 | 14.7111 | 17.25975 |\n",
       "\n"
      ],
      "text/plain": [
       "  trend rain   I.rain.2. trend.rain\n",
       "1 1.0   3.8355 14.7111    3.83550  \n",
       "2 4.5   3.8355 14.7111   17.25975  "
      ]
     },
     "metadata": {},
     "output_type": "display_data"
    }
   ],
   "source": [
    "mod1 <- lm(y~trend+rain+I(rain^2)+rain*trend, data=toody1960_1995)\n",
    "Estimacion_puntual <- data.frame(\"trend\"=c(1,4.5),\n",
    "                    \"rain\"=3.8355,\"I(rain^2)\"=14.7111,\n",
    "                    \"trend*rain\"=c(3.8355, 17.25975))\n",
    "Estimacion_puntual"
   ]
  },
  {
   "cell_type": "code",
   "execution_count": 25,
   "id": "3cff085e",
   "metadata": {},
   "outputs": [
    {
     "data": {
      "text/html": [
       "<table class=\"dataframe\">\n",
       "<caption>A matrix: 2 × 3 of type dbl</caption>\n",
       "<thead>\n",
       "\t<tr><th></th><th scope=col>fit</th><th scope=col>lwr</th><th scope=col>upr</th></tr>\n",
       "</thead>\n",
       "<tbody>\n",
       "\t<tr><th scope=row>1</th><td>0.9069325</td><td>0.6862871</td><td>1.127578</td></tr>\n",
       "\t<tr><th scope=row>2</th><td>2.2931560</td><td>2.1054286</td><td>2.480883</td></tr>\n",
       "</tbody>\n",
       "</table>\n"
      ],
      "text/latex": [
       "A matrix: 2 × 3 of type dbl\n",
       "\\begin{tabular}{r|lll}\n",
       "  & fit & lwr & upr\\\\\n",
       "\\hline\n",
       "\t1 & 0.9069325 & 0.6862871 & 1.127578\\\\\n",
       "\t2 & 2.2931560 & 2.1054286 & 2.480883\\\\\n",
       "\\end{tabular}\n"
      ],
      "text/markdown": [
       "\n",
       "A matrix: 2 × 3 of type dbl\n",
       "\n",
       "| <!--/--> | fit | lwr | upr |\n",
       "|---|---|---|---|\n",
       "| 1 | 0.9069325 | 0.6862871 | 1.127578 |\n",
       "| 2 | 2.2931560 | 2.1054286 | 2.480883 |\n",
       "\n"
      ],
      "text/plain": [
       "  fit       lwr       upr     \n",
       "1 0.9069325 0.6862871 1.127578\n",
       "2 2.2931560 2.1054286 2.480883"
      ]
     },
     "metadata": {},
     "output_type": "display_data"
    }
   ],
   "source": [
    "predict(object=mod1, newdata=Estimacion_puntual, interval=\"confidence\", level=0.95)"
   ]
  },
  {
   "cell_type": "code",
   "execution_count": 26,
   "id": "fc4e2380",
   "metadata": {},
   "outputs": [
    {
     "data": {
      "text/html": [
       "<table class=\"dataframe\">\n",
       "<caption>A matrix: 2 × 3 of type dbl</caption>\n",
       "<thead>\n",
       "\t<tr><th></th><th scope=col>fit</th><th scope=col>lwr</th><th scope=col>upr</th></tr>\n",
       "</thead>\n",
       "<tbody>\n",
       "\t<tr><th scope=row>1</th><td>0.9069325</td><td>0.3374234</td><td>1.476442</td></tr>\n",
       "\t<tr><th scope=row>2</th><td>2.2931560</td><td>1.7355739</td><td>2.850738</td></tr>\n",
       "</tbody>\n",
       "</table>\n"
      ],
      "text/latex": [
       "A matrix: 2 × 3 of type dbl\n",
       "\\begin{tabular}{r|lll}\n",
       "  & fit & lwr & upr\\\\\n",
       "\\hline\n",
       "\t1 & 0.9069325 & 0.3374234 & 1.476442\\\\\n",
       "\t2 & 2.2931560 & 1.7355739 & 2.850738\\\\\n",
       "\\end{tabular}\n"
      ],
      "text/markdown": [
       "\n",
       "A matrix: 2 × 3 of type dbl\n",
       "\n",
       "| <!--/--> | fit | lwr | upr |\n",
       "|---|---|---|---|\n",
       "| 1 | 0.9069325 | 0.3374234 | 1.476442 |\n",
       "| 2 | 2.2931560 | 1.7355739 | 2.850738 |\n",
       "\n"
      ],
      "text/plain": [
       "  fit       lwr       upr     \n",
       "1 0.9069325 0.3374234 1.476442\n",
       "2 2.2931560 1.7355739 2.850738"
      ]
     },
     "metadata": {},
     "output_type": "display_data"
    }
   ],
   "source": [
    "predict(object=mod1, newdata=Estimacion_puntual, interval=\"prediction\", level=0.95)"
   ]
  },
  {
   "cell_type": "markdown",
   "id": "4b0ecb60",
   "metadata": {},
   "source": [
    "Para 35 años, quedaria lo siguiente:"
   ]
  },
  {
   "cell_type": "code",
   "execution_count": 43,
   "id": "83ea369b",
   "metadata": {},
   "outputs": [
    {
     "data": {
      "text/html": [
       "'El intervalo de confianza es : ( 0.889830329177559 1.36431568603994 )'"
      ],
      "text/latex": [
       "'El intervalo de confianza es : ( 0.889830329177559 1.36431568603994 )'"
      ],
      "text/markdown": [
       "'El intervalo de confianza es : ( 0.889830329177559 1.36431568603994 )'"
      ],
      "text/plain": [
       "[1] \"El intervalo de confianza es : ( 0.889830329177559 1.36431568603994 )\""
      ]
     },
     "metadata": {},
     "output_type": "display_data"
    }
   ],
   "source": [
    "mod1 <- lm(y~trend+rain+I(rain^2)+(rain*trend), data=toody)\n",
    "alpha <- .05\n",
    "df <- mod1$df.residual\n",
    "L <- 3.5*mod1$coeff[2]+3.8355*3.5*mod1$coeff[5]\n",
    "a <- c(0,3.5,0, 0, 3.8355*3.5)\n",
    "b <- as.numeric(coef(mod1))\n",
    "V <- vcov(mod1) \n",
    "A <- as.vector(a)\n",
    "varL <- as.numeric(t(A) %*% V %*% A)\n",
    "se <- sqrt(varL)\n",
    "t <- L/se\n",
    "tcr <- qt(1-alpha/2,df)\n",
    "lowbL <- L-tcr*se\n",
    "upbL <- L+tcr*se\n",
    "paste(\"El intervalo de confianza es :\",\"(\",lowbL,upbL,\")\")"
   ]
  },
  {
   "cell_type": "markdown",
   "id": "f66bf2cc",
   "metadata": {},
   "source": [
    "**d)There is concern that climate change is leading to a decline in rainfall over time. To test this hypoth- esis, estimate the equation $RAIN = \\alpha_1 + \\alpha_2 TREND + e$. Test, at a 5% significance level, the null hypothesis that mean rainfall is not declining over time against the alternative hypothesis that it is\n",
    "declining.**"
   ]
  },
  {
   "cell_type": "code",
   "execution_count": 28,
   "id": "804e69ac",
   "metadata": {},
   "outputs": [
    {
     "data": {
      "text/plain": [
       "\n",
       "\n",
       "Table: Summary of the $Toody3$ model\n",
       "\n",
       "|            | Estimate | Std.Error | t-value | p-value |\n",
       "|:-----------|:--------:|:---------:|:-------:|:-------:|\n",
       "|(Intercept) |  4.393   |   0.243   | 18.078  |  0.000  |\n",
       "|trend       |  -0.152  |   0.089   | -1.709  |  0.094  |"
      ]
     },
     "metadata": {},
     "output_type": "display_data"
    }
   ],
   "source": [
    "mod2 <- lm(rain~trend, data=toody)\n",
    "smod2 <- summary(mod2)\n",
    "tabla <- data.frame(xtable(smod2))\n",
    "names(tabla) <- c(\"Estimate\", \"Std.Error\",\"t-value\", \"p-value\")\n",
    "kable(tabla, digits=3, align='c', caption=\"Summary of the $Toody3$ model\")"
   ]
  },
  {
   "cell_type": "markdown",
   "id": "6897522d",
   "metadata": {},
   "source": [
    "**e)Using the estimated equation from part (d), estimate mean rainfall in 1960 and in 1995.**"
   ]
  },
  {
   "cell_type": "code",
   "execution_count": 29,
   "id": "84607011",
   "metadata": {},
   "outputs": [
    {
     "data": {
      "text/html": [
       "<strong>(Intercept):</strong> 4.24069393182805"
      ],
      "text/latex": [
       "\\textbf{(Intercept):} 4.24069393182805"
      ],
      "text/markdown": [
       "**(Intercept):** 4.24069393182805"
      ],
      "text/plain": [
       "(Intercept) \n",
       "   4.240694 "
      ]
     },
     "metadata": {},
     "output_type": "display_data"
    }
   ],
   "source": [
    "b1 <- coef(mod2)[1]\n",
    "b2 <- coef(mod2)[2]\n",
    "rain1 <- b1+b2*1\n",
    "rain1"
   ]
  },
  {
   "cell_type": "code",
   "execution_count": 30,
   "id": "c5c6f3be",
   "metadata": {},
   "outputs": [
    {
     "data": {
      "text/html": [
       "<strong>(Intercept):</strong> 3.70789947894051"
      ],
      "text/latex": [
       "\\textbf{(Intercept):} 3.70789947894051"
      ],
      "text/markdown": [
       "**(Intercept):** 3.70789947894051"
      ],
      "text/plain": [
       "(Intercept) \n",
       "   3.707899 "
      ]
     },
     "metadata": {},
     "output_type": "display_data"
    }
   ],
   "source": [
    "b1 <- coef(mod2)[1]\n",
    "b2 <- coef(mod2)[2]\n",
    "rain2 <- b1+b2*4.5\n",
    "rain2"
   ]
  },
  {
   "cell_type": "markdown",
   "id": "15aabd38",
   "metadata": {},
   "source": [
    "**f)Suppose that $TREND_{1995} = TREND_{1960}$, implying there had been no technological change\n",
    "from 1960 to 1995. Use the estimates from part (e) to find an estimate of the decline in mean yield from 1960 to 1995 attributable to climate change.**"
   ]
  },
  {
   "cell_type": "code",
   "execution_count": 31,
   "id": "e66a14ae",
   "metadata": {},
   "outputs": [
    {
     "data": {
      "text/html": [
       "<strong>(Intercept):</strong> 0.957353522217529"
      ],
      "text/latex": [
       "\\textbf{(Intercept):} 0.957353522217529"
      ],
      "text/markdown": [
       "**(Intercept):** 0.957353522217529"
      ],
      "text/plain": [
       "(Intercept) \n",
       "  0.9573535 "
      ]
     },
     "metadata": {},
     "output_type": "display_data"
    }
   ],
   "source": [
    "b1 <- coef(mod1)[1]\n",
    "b2 <- coef(mod1)[2]\n",
    "b3 <- coef(mod1)[3]\n",
    "b4 <- coef(mod1)[4]\n",
    "b5 <- coef(mod1)[5]\n",
    "y1 <- b1+b2*1+b3*4.245+b4*4.245^2+b5*1*4.245\n",
    "y1"
   ]
  },
  {
   "cell_type": "code",
   "execution_count": 32,
   "id": "28c4d8e9",
   "metadata": {},
   "outputs": [
    {
     "data": {
      "text/html": [
       "<strong>(Intercept):</strong> 0.950557177072311"
      ],
      "text/latex": [
       "\\textbf{(Intercept):} 0.950557177072311"
      ],
      "text/markdown": [
       "**(Intercept):** 0.950557177072311"
      ],
      "text/plain": [
       "(Intercept) \n",
       "  0.9505572 "
      ]
     },
     "metadata": {},
     "output_type": "display_data"
    }
   ],
   "source": [
    "b1 <- coef(mod1)[1]\n",
    "b2 <- coef(mod1)[2]\n",
    "b3 <- coef(mod1)[3]\n",
    "b4 <- coef(mod1)[4]\n",
    "b5 <- coef(mod1)[5]\n",
    "y2 <- b1+b2*1+b3*4.797+b4*4.797^2+b5*1*4.797\n",
    "y2"
   ]
  },
  {
   "cell_type": "code",
   "execution_count": 33,
   "id": "3844acb8",
   "metadata": {},
   "outputs": [
    {
     "data": {
      "text/html": [
       "<table class=\"dataframe\">\n",
       "<caption>A data.frame: 2 × 4</caption>\n",
       "<thead>\n",
       "\t<tr><th scope=col>trend</th><th scope=col>rain</th><th scope=col>I.rain.2.</th><th scope=col>trend.rain</th></tr>\n",
       "\t<tr><th scope=col>&lt;dbl&gt;</th><th scope=col>&lt;dbl&gt;</th><th scope=col>&lt;dbl&gt;</th><th scope=col>&lt;dbl&gt;</th></tr>\n",
       "</thead>\n",
       "<tbody>\n",
       "\t<tr><td>1</td><td>4.245</td><td>18.02000</td><td>4.245</td></tr>\n",
       "\t<tr><td>1</td><td>4.797</td><td>23.01121</td><td>4.797</td></tr>\n",
       "</tbody>\n",
       "</table>\n"
      ],
      "text/latex": [
       "A data.frame: 2 × 4\n",
       "\\begin{tabular}{llll}\n",
       " trend & rain & I.rain.2. & trend.rain\\\\\n",
       " <dbl> & <dbl> & <dbl> & <dbl>\\\\\n",
       "\\hline\n",
       "\t 1 & 4.245 & 18.02000 & 4.245\\\\\n",
       "\t 1 & 4.797 & 23.01121 & 4.797\\\\\n",
       "\\end{tabular}\n"
      ],
      "text/markdown": [
       "\n",
       "A data.frame: 2 × 4\n",
       "\n",
       "| trend &lt;dbl&gt; | rain &lt;dbl&gt; | I.rain.2. &lt;dbl&gt; | trend.rain &lt;dbl&gt; |\n",
       "|---|---|---|---|\n",
       "| 1 | 4.245 | 18.02000 | 4.245 |\n",
       "| 1 | 4.797 | 23.01121 | 4.797 |\n",
       "\n"
      ],
      "text/plain": [
       "  trend rain  I.rain.2. trend.rain\n",
       "1 1     4.245 18.02000  4.245     \n",
       "2 1     4.797 23.01121  4.797     "
      ]
     },
     "metadata": {},
     "output_type": "display_data"
    }
   ],
   "source": [
    "Estimacion_puntual_1 <- data.frame(\"trend\"=1,\n",
    "                    \"rain\"=c(4.245, 4.797),\n",
    "                    \"I(rain^2)\"=c(18.02, 23.01121),\n",
    "                    \"trend*rain\"=c(4.245, 4.797))\n",
    "Estimacion_puntual_1"
   ]
  },
  {
   "cell_type": "code",
   "execution_count": 34,
   "id": "c8332d29",
   "metadata": {},
   "outputs": [
    {
     "data": {
      "text/html": [
       "<table class=\"dataframe\">\n",
       "<caption>A matrix: 2 × 3 of type dbl</caption>\n",
       "<thead>\n",
       "\t<tr><th></th><th scope=col>fit</th><th scope=col>lwr</th><th scope=col>upr</th></tr>\n",
       "</thead>\n",
       "<tbody>\n",
       "\t<tr><th scope=row>1</th><td>0.9573535</td><td>0.3923374</td><td>1.522370</td></tr>\n",
       "\t<tr><th scope=row>2</th><td>0.9505572</td><td>0.3857573</td><td>1.515357</td></tr>\n",
       "</tbody>\n",
       "</table>\n"
      ],
      "text/latex": [
       "A matrix: 2 × 3 of type dbl\n",
       "\\begin{tabular}{r|lll}\n",
       "  & fit & lwr & upr\\\\\n",
       "\\hline\n",
       "\t1 & 0.9573535 & 0.3923374 & 1.522370\\\\\n",
       "\t2 & 0.9505572 & 0.3857573 & 1.515357\\\\\n",
       "\\end{tabular}\n"
      ],
      "text/markdown": [
       "\n",
       "A matrix: 2 × 3 of type dbl\n",
       "\n",
       "| <!--/--> | fit | lwr | upr |\n",
       "|---|---|---|---|\n",
       "| 1 | 0.9573535 | 0.3923374 | 1.522370 |\n",
       "| 2 | 0.9505572 | 0.3857573 | 1.515357 |\n",
       "\n"
      ],
      "text/plain": [
       "  fit       lwr       upr     \n",
       "1 0.9573535 0.3923374 1.522370\n",
       "2 0.9505572 0.3857573 1.515357"
      ]
     },
     "metadata": {},
     "output_type": "display_data"
    }
   ],
   "source": [
    "predict(object=mod1, newdata=Estimacion_puntual_1, interval=\"prediction\", level=0.95)"
   ]
  },
  {
   "cell_type": "code",
   "execution_count": 35,
   "id": "29d6bc10",
   "metadata": {},
   "outputs": [
    {
     "data": {
      "text/html": [
       "<strong>(Intercept):</strong> 0.937421425633688"
      ],
      "text/latex": [
       "\\textbf{(Intercept):} 0.937421425633688"
      ],
      "text/markdown": [
       "**(Intercept):** 0.937421425633688"
      ],
      "text/plain": [
       "(Intercept) \n",
       "  0.9374214 "
      ]
     },
     "metadata": {},
     "output_type": "display_data"
    }
   ],
   "source": [
    "b1 <- coef(mod1)[1]\n",
    "b2 <- coef(mod1)[2]\n",
    "b3 <- coef(mod1)[3]\n",
    "b4 <- coef(mod1)[4]\n",
    "b5 <- coef(mod1)[5]\n",
    "y3 <- b1+b2*1+b3*mean(rain)+b4*mean(rain)^2+b5*1*mean(rain)\n",
    "y3"
   ]
  },
  {
   "cell_type": "markdown",
   "id": "e062b715",
   "metadata": {},
   "source": [
    "**g)Suppose that $E RAIN_{1995} = E RAIN_{1960} $, implying there had been no rainfall change from 1960 to 1995. Find an estimate of the increase in mean yield from 1960 to 1995 attributable to technological change.**"
   ]
  },
  {
   "cell_type": "code",
   "execution_count": 36,
   "id": "483fa48d",
   "metadata": {},
   "outputs": [
    {
     "data": {
      "text/html": [
       "<strong>(Intercept):</strong> 2.28111602371738"
      ],
      "text/latex": [
       "\\textbf{(Intercept):} 2.28111602371738"
      ],
      "text/markdown": [
       "**(Intercept):** 2.28111602371738"
      ],
      "text/plain": [
       "(Intercept) \n",
       "   2.281116 "
      ]
     },
     "metadata": {},
     "output_type": "display_data"
    }
   ],
   "source": [
    "b1 <- coef(mod1)[1]\n",
    "b2 <- coef(mod1)[2]\n",
    "b3 <- coef(mod1)[3]\n",
    "b4 <- coef(mod1)[4]\n",
    "b5 <- coef(mod1)[5]\n",
    "y4 <- b1+b2*4.5+b3*mean(rain)+b4*mean(rain)^2+b5*4.5*mean(rain)\n",
    "y4"
   ]
  },
  {
   "cell_type": "markdown",
   "id": "2a5a6886",
   "metadata": {},
   "source": [
    "**g)Suppose that $E RAIN_{1995} = E RAIN_{1960} $, implying there had been no rainfall change from 1960 to 1995. Find an estimate of the increase in mean yield from 1960 to 1995 attributable to technological change.**"
   ]
  },
  {
   "cell_type": "code",
   "execution_count": 37,
   "id": "da7a5210",
   "metadata": {},
   "outputs": [
    {
     "data": {
      "text/html": [
       "<table class=\"dataframe\">\n",
       "<caption>A data.frame: 2 × 4</caption>\n",
       "<thead>\n",
       "\t<tr><th scope=col>trend</th><th scope=col>rain</th><th scope=col>I.rain.2.</th><th scope=col>trend.rain</th></tr>\n",
       "\t<tr><th scope=col>&lt;dbl&gt;</th><th scope=col>&lt;dbl&gt;</th><th scope=col>&lt;dbl&gt;</th><th scope=col>&lt;dbl&gt;</th></tr>\n",
       "</thead>\n",
       "<tbody>\n",
       "\t<tr><td>1.0</td><td>4.035188</td><td>16.28274</td><td> 4.240694</td></tr>\n",
       "\t<tr><td>4.5</td><td>4.035188</td><td>16.28274</td><td>19.083123</td></tr>\n",
       "</tbody>\n",
       "</table>\n"
      ],
      "text/latex": [
       "A data.frame: 2 × 4\n",
       "\\begin{tabular}{llll}\n",
       " trend & rain & I.rain.2. & trend.rain\\\\\n",
       " <dbl> & <dbl> & <dbl> & <dbl>\\\\\n",
       "\\hline\n",
       "\t 1.0 & 4.035188 & 16.28274 &  4.240694\\\\\n",
       "\t 4.5 & 4.035188 & 16.28274 & 19.083123\\\\\n",
       "\\end{tabular}\n"
      ],
      "text/markdown": [
       "\n",
       "A data.frame: 2 × 4\n",
       "\n",
       "| trend &lt;dbl&gt; | rain &lt;dbl&gt; | I.rain.2. &lt;dbl&gt; | trend.rain &lt;dbl&gt; |\n",
       "|---|---|---|---|\n",
       "| 1.0 | 4.035188 | 16.28274 |  4.240694 |\n",
       "| 4.5 | 4.035188 | 16.28274 | 19.083123 |\n",
       "\n"
      ],
      "text/plain": [
       "  trend rain     I.rain.2. trend.rain\n",
       "1 1.0   4.035188 16.28274   4.240694 \n",
       "2 4.5   4.035188 16.28274  19.083123 "
      ]
     },
     "metadata": {},
     "output_type": "display_data"
    }
   ],
   "source": [
    "Estimacion_puntual_3 <- data.frame(\"trend\"=c(1,4.5),\n",
    "                    \"rain\"=mean(rain),\"I(rain^2)\"=mean(rain)^2,\n",
    "                    \"trend*rain\"=c(4.240694, 19.083123))\n",
    "Estimacion_puntual_3"
   ]
  },
  {
   "cell_type": "code",
   "execution_count": 38,
   "id": "aeb537a6",
   "metadata": {},
   "outputs": [
    {
     "data": {
      "text/html": [
       "<table class=\"dataframe\">\n",
       "<caption>A matrix: 2 × 3 of type dbl</caption>\n",
       "<thead>\n",
       "\t<tr><th></th><th scope=col>fit</th><th scope=col>lwr</th><th scope=col>upr</th></tr>\n",
       "</thead>\n",
       "<tbody>\n",
       "\t<tr><th scope=row>1</th><td>0.9374214</td><td>0.723712</td><td>1.151131</td></tr>\n",
       "\t<tr><th scope=row>2</th><td>2.2811160</td><td>2.104082</td><td>2.458150</td></tr>\n",
       "</tbody>\n",
       "</table>\n"
      ],
      "text/latex": [
       "A matrix: 2 × 3 of type dbl\n",
       "\\begin{tabular}{r|lll}\n",
       "  & fit & lwr & upr\\\\\n",
       "\\hline\n",
       "\t1 & 0.9374214 & 0.723712 & 1.151131\\\\\n",
       "\t2 & 2.2811160 & 2.104082 & 2.458150\\\\\n",
       "\\end{tabular}\n"
      ],
      "text/markdown": [
       "\n",
       "A matrix: 2 × 3 of type dbl\n",
       "\n",
       "| <!--/--> | fit | lwr | upr |\n",
       "|---|---|---|---|\n",
       "| 1 | 0.9374214 | 0.723712 | 1.151131 |\n",
       "| 2 | 2.2811160 | 2.104082 | 2.458150 |\n",
       "\n"
      ],
      "text/plain": [
       "  fit       lwr      upr     \n",
       "1 0.9374214 0.723712 1.151131\n",
       "2 2.2811160 2.104082 2.458150"
      ]
     },
     "metadata": {},
     "output_type": "display_data"
    }
   ],
   "source": [
    "predict(object=mod1, newdata=Estimacion_puntual_3, interval=\"confidence\", level=0.95)"
   ]
  },
  {
   "cell_type": "markdown",
   "id": "bc3c2367",
   "metadata": {},
   "source": [
    "**h) Compare the estimates you obtained in parts (c), (f), and (g).**"
   ]
  },
  {
   "cell_type": "code",
   "execution_count": 39,
   "id": "9d0a2a23",
   "metadata": {},
   "outputs": [
    {
     "data": {
      "text/html": [
       "<table class=\"dataframe\">\n",
       "<caption>A matrix: 8 × 3 of type dbl</caption>\n",
       "<thead>\n",
       "\t<tr><th></th><th scope=col>fit</th><th scope=col>lwr</th><th scope=col>upr</th></tr>\n",
       "</thead>\n",
       "<tbody>\n",
       "\t<tr><th scope=row>RAIN_3.8355_1</th><td>0.9069325</td><td>0.6862871</td><td>1.127578</td></tr>\n",
       "\t<tr><th scope=row>RAIN_3.8355_2</th><td>2.2931560</td><td>2.1054286</td><td>2.480883</td></tr>\n",
       "\t<tr><th scope=row>Ip_1</th><td>0.9069325</td><td>0.3374234</td><td>1.476442</td></tr>\n",
       "\t<tr><th scope=row>Ip_2</th><td>2.2931560</td><td>1.7355739</td><td>2.850738</td></tr>\n",
       "\t<tr><th scope=row>cambio_climatico_1</th><td>0.9573535</td><td>0.3923374</td><td>1.522370</td></tr>\n",
       "\t<tr><th scope=row>cambio_climatico_2</th><td>0.9505572</td><td>0.3857573</td><td>1.515357</td></tr>\n",
       "\t<tr><th scope=row>cambio_tecnologia_1</th><td>0.9374214</td><td>0.7237120</td><td>1.151131</td></tr>\n",
       "\t<tr><th scope=row>cambio_tecnologia_2</th><td>2.2811160</td><td>2.1040820</td><td>2.458150</td></tr>\n",
       "</tbody>\n",
       "</table>\n"
      ],
      "text/latex": [
       "A matrix: 8 × 3 of type dbl\n",
       "\\begin{tabular}{r|lll}\n",
       "  & fit & lwr & upr\\\\\n",
       "\\hline\n",
       "\tRAIN\\_3.8355\\_1 & 0.9069325 & 0.6862871 & 1.127578\\\\\n",
       "\tRAIN\\_3.8355\\_2 & 2.2931560 & 2.1054286 & 2.480883\\\\\n",
       "\tIp\\_1 & 0.9069325 & 0.3374234 & 1.476442\\\\\n",
       "\tIp\\_2 & 2.2931560 & 1.7355739 & 2.850738\\\\\n",
       "\tcambio\\_climatico\\_1 & 0.9573535 & 0.3923374 & 1.522370\\\\\n",
       "\tcambio\\_climatico\\_2 & 0.9505572 & 0.3857573 & 1.515357\\\\\n",
       "\tcambio\\_tecnologia\\_1 & 0.9374214 & 0.7237120 & 1.151131\\\\\n",
       "\tcambio\\_tecnologia\\_2 & 2.2811160 & 2.1040820 & 2.458150\\\\\n",
       "\\end{tabular}\n"
      ],
      "text/markdown": [
       "\n",
       "A matrix: 8 × 3 of type dbl\n",
       "\n",
       "| <!--/--> | fit | lwr | upr |\n",
       "|---|---|---|---|\n",
       "| RAIN_3.8355_1 | 0.9069325 | 0.6862871 | 1.127578 |\n",
       "| RAIN_3.8355_2 | 2.2931560 | 2.1054286 | 2.480883 |\n",
       "| Ip_1 | 0.9069325 | 0.3374234 | 1.476442 |\n",
       "| Ip_2 | 2.2931560 | 1.7355739 | 2.850738 |\n",
       "| cambio_climatico_1 | 0.9573535 | 0.3923374 | 1.522370 |\n",
       "| cambio_climatico_2 | 0.9505572 | 0.3857573 | 1.515357 |\n",
       "| cambio_tecnologia_1 | 0.9374214 | 0.7237120 | 1.151131 |\n",
       "| cambio_tecnologia_2 | 2.2811160 | 2.1040820 | 2.458150 |\n",
       "\n"
      ],
      "text/plain": [
       "                    fit       lwr       upr     \n",
       "RAIN_3.8355_1       0.9069325 0.6862871 1.127578\n",
       "RAIN_3.8355_2       2.2931560 2.1054286 2.480883\n",
       "Ip_1                0.9069325 0.3374234 1.476442\n",
       "Ip_2                2.2931560 1.7355739 2.850738\n",
       "cambio_climatico_1  0.9573535 0.3923374 1.522370\n",
       "cambio_climatico_2  0.9505572 0.3857573 1.515357\n",
       "cambio_tecnologia_1 0.9374214 0.7237120 1.151131\n",
       "cambio_tecnologia_2 2.2811160 2.1040820 2.458150"
      ]
     },
     "metadata": {},
     "output_type": "display_data"
    }
   ],
   "source": [
    "comparacion=rbind(predict(object=mod1, newdata=Estimacion_puntual, interval=\"confidence\", level=0.95),\n",
    "predict(object=mod1, newdata=Estimacion_puntual, interval=\"prediction\", level=0.95),\n",
    "predict(object=mod1, newdata=Estimacion_puntual_1, interval=\"prediction\", level=0.95),\n",
    "predict(object=mod1, newdata=Estimacion_puntual_3, interval=\"confidence\", level=0.95))\n",
    "\n",
    "rownames(comparacion)=c(\"RAIN_3.8355_1\",\"RAIN_3.8355_2\",\"Ip_1\",\"Ip_2\",\n",
    "                        \"cambio_climatico_1\",\"cambio_climatico_2\",\n",
    "                        \"cambio_tecnologia_1\",\"cambio_tecnologia_2\")\n",
    "comparacion"
   ]
  },
  {
   "cell_type": "markdown",
   "id": "c55501ff",
   "metadata": {},
   "source": [
    "Comparando los intervalos, concluimos que la tecnologia afecta de manera más poderada que el cmbio climatico."
   ]
  }
 ],
 "metadata": {
  "kernelspec": {
   "display_name": "R",
   "language": "R",
   "name": "ir"
  },
  "language_info": {
   "codemirror_mode": "r",
   "file_extension": ".r",
   "mimetype": "text/x-r-source",
   "name": "R",
   "pygments_lexer": "r",
   "version": "3.6.1"
  }
 },
 "nbformat": 4,
 "nbformat_minor": 5
}
