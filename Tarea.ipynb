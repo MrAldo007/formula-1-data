{
 "cells": [
  {
   "cell_type": "markdown",
   "id": "9a5de10e",
   "metadata": {},
   "source": [
    "# Ejercicios 5.18, 5.19 y 5.22 del libro de Carter Hills et al (2017)"
   ]
  },
  {
   "cell_type": "markdown",
   "id": "179a1e1a",
   "metadata": {},
   "source": [
    "##  Aldo Mendoza Rebollar 201930811"
   ]
  },
  {
   "cell_type": "code",
   "execution_count": 4,
   "id": "945f4deb",
   "metadata": {},
   "outputs": [
    {
     "name": "stderr",
     "output_type": "stream",
     "text": [
      "also installing the dependency 'xfun'\n",
      "\n",
      "Warning message:\n",
      "\"unable to access index for repository http://www.stats.ox.ac.uk/pub/RWin/bin/windows/contrib/3.6:\n",
      "  cannot open URL 'http://www.stats.ox.ac.uk/pub/RWin/bin/windows/contrib/3.6/PACKAGES'\""
     ]
    },
    {
     "name": "stdout",
     "output_type": "stream",
     "text": [
      "\n",
      "  There are binary versions available but the source versions are later:\n",
      "      binary source needs_compilation\n",
      "xfun    0.22   0.37              TRUE\n",
      "knitr   1.33   1.42             FALSE\n",
      "\n",
      "  Binaries will be installed\n",
      "package 'xfun' successfully unpacked and MD5 sums checked\n",
      "\n",
      "The downloaded binary packages are in\n",
      "\tC:\\Users\\aldom\\AppData\\Local\\Temp\\Rtmp2704TQ\\downloaded_packages\n"
     ]
    },
    {
     "name": "stderr",
     "output_type": "stream",
     "text": [
      "installing the source package 'knitr'\n",
      "\n",
      "Warning message in utils::install.packages(package, ...):\n",
      "\"installation of package 'knitr' had non-zero exit status\"Warning message in p_install(package, character.only = TRUE, ...):\n",
      "\"\"Warning message in library(package, lib.loc = lib.loc, character.only = TRUE, logical.return = TRUE, :\n",
      "\"there is no package called 'knitr'\"Warning message in pacman::p_load(readxl, knitr, xtable):\n",
      "\"Failed to install/load:\n",
      "knitr\""
     ]
    }
   ],
   "source": [
    "library(pacman)\n",
    "pacman::p_load(readxl,knitr,xtable)"
   ]
  },
  {
   "cell_type": "code",
   "execution_count": 5,
   "id": "08828dfd",
   "metadata": {
    "scrolled": false
   },
   "outputs": [
    {
     "name": "stderr",
     "output_type": "stream",
     "text": [
      "inferring 'repos = NULL' from 'pkgs'\n",
      "Warning message in install.packages(\"path/to/package/file.tar.gz\"):\n",
      "\"installation of package 'path/to/package/file.tar.gz' had non-zero exit status\""
     ]
    }
   ],
   "source": [
    "install.packages(\"path/to/package/file.tar.gz\")"
   ]
  },
  {
   "cell_type": "code",
   "execution_count": 6,
   "id": "b2298b3e",
   "metadata": {},
   "outputs": [
    {
     "ename": "ERROR",
     "evalue": "Error in library(\"knitr\"): there is no package called 'knitr'\n",
     "output_type": "error",
     "traceback": [
      "Error in library(\"knitr\"): there is no package called 'knitr'\nTraceback:\n",
      "1. library(\"knitr\")"
     ]
    }
   ],
   "source": [
    "library('knitr')\n",
    "library(\"xtable\")\n",
    "library(\"stargazer\")\n",
    "library(\"openxlsx\")\n",
    "library(\"readxl\")\n",
    "library(\"ggplot2\")\n",
    "library(broom)"
   ]
  },
  {
   "cell_type": "markdown",
   "id": "bf134e61",
   "metadata": {},
   "source": [
    "## 5.18"
   ]
  },
  {
   "cell_type": "markdown",
   "id": "855b3519",
   "metadata": {},
   "source": [
    "Consider the following two expenditure share equations where the budget share for food WFOOD, and the budget share for clothing WCLOTH, are expressed as functions of total expenditure TOTEXP."
   ]
  },
  {
   "cell_type": "markdown",
   "id": "6d5036c9",
   "metadata": {},
   "source": [
    "\n",
    "$WFOOD= \\beta_1 + \\beta_2 ln(TOTEXP)+ e_F$ \n"
   ]
  },
  {
   "cell_type": "markdown",
   "id": "3a4a1fb8",
   "metadata": {},
   "source": [
    "$WCLOTH= \\alpha_1 + \\alpha_2 ln(TOTEXP)+ e_F$"
   ]
  },
  {
   "cell_type": "markdown",
   "id": "e1b61a8a",
   "metadata": {},
   "source": [
    "**a) A commodity is regarded as a luxury if the coefficient of $\\ln(TOTEXP)$ is positive and a necessity if it is negative. What signs would you expect for $\\beta_2$ and $\\alpha_2$?**"
   ]
  },
  {
   "cell_type": "markdown",
   "id": "2e9d0b82",
   "metadata": {},
   "source": [
    "Los bienes son un artículo de lujo, si solo si, el coeficiente de ln(TOTEXP) es positivo y por lo tanto, una necesidad si es negativo. Siendo comida es un gasto necesario, por lo que esperamos que  $\\beta_2$ sea negativo."
   ]
  },
  {
   "cell_type": "markdown",
   "id": "dd332956",
   "metadata": {},
   "source": [
    "**b) Using the data in the file london5, estimate the above equations using observations on households with one child. Comment on the estimates and their significance. Can you explain any possibly counterintuitive outcomes?**"
   ]
  },
  {
   "cell_type": "code",
   "execution_count": 91,
   "id": "29ef1a40",
   "metadata": {},
   "outputs": [
    {
     "ename": "ERROR",
     "evalue": "Error in loadNamespace(i, c(lib.loc, .libPaths()), versionCheck = vI[[i]]): there is no package called 'lifecycle'\n",
     "output_type": "error",
     "traceback": [
      "Error in loadNamespace(i, c(lib.loc, .libPaths()), versionCheck = vI[[i]]): there is no package called 'lifecycle'\nTraceback:\n",
      "1. read_excel(\"D:/8 semestre/ECONOMETRIA/Bases de datos/london5.xlsx\")",
      "2. read_excel_(path = path, sheet = sheet, range = range, col_names = col_names, \n .     col_types = col_types, na = na, trim_ws = trim_ws, skip = skip, \n .     n_max = n_max, guess_max = guess_max, progress = progress, \n .     .name_repair = .name_repair, format = format)",
      "3. set_readxl_names(read_fun(path = enc2native(normalizePath(path)), \n .     sheet_i = sheet, limits = limits, shim = shim, col_names = col_names, \n .     col_types = col_types, na = na, trim_ws = trim_ws, guess_max = guess_max, \n .     progress = progress), .name_repair = .name_repair)",
      "4. tibble::as_tibble",
      "5. getExportedValue(pkg, name)",
      "6. asNamespace(ns)",
      "7. getNamespace(ns)",
      "8. loadNamespace(name)",
      "9. namespaceImport(ns, loadNamespace(i, c(lib.loc, .libPaths()), \n .     versionCheck = vI[[i]]), from = package)",
      "10. loadNamespace(i, c(lib.loc, .libPaths()), versionCheck = vI[[i]])",
      "11. withRestarts(stop(cond), retry_loadNamespace = function() NULL)",
      "12. withOneRestart(expr, restarts[[1L]])",
      "13. doWithOneRestart(return(expr), restart)"
     ]
    }
   ],
   "source": [
    "london5 <- read_excel(\"D:/8 semestre/ECONOMETRIA/Bases de datos/london5.xlsx\")\n",
    "attach(london5)"
   ]
  },
  {
   "cell_type": "code",
   "execution_count": null,
   "id": "c55032ba",
   "metadata": {},
   "outputs": [],
   "source": [
    "attach(london5)\n",
    "child_1<-london5[london5$nk==1,]\n",
    "child_2<-london5[london5$nk==2,]\n",
    "mod1<-lm(wfood~log(totexp),data=child_1)\n",
    "B1m1<-coef(mod1)[[1]]\n",
    "B2m1<-coef(mod1)[[2]]\n",
    "smod1 <- summary(mod1)\n",
    "smod1$coefficients"
   ]
  },
  {
   "cell_type": "markdown",
   "id": "8548f38c",
   "metadata": {},
   "source": [
    "El valor esperado de la variable alimentos para un gasto total y las demas variables nulas, se espera la necesidad de 1.0754855. \n",
    "Por otro lado, un cambio de una unidad en el ln(TOTEXP) da como resultado una disminución de 0.1635929 en el presupuesto de comida."
   ]
  },
  {
   "cell_type": "code",
   "execution_count": 7,
   "id": "162bfa0e",
   "metadata": {},
   "outputs": [
    {
     "ename": "ERROR",
     "evalue": "Error in is.data.frame(data): object 'child_1' not found\n",
     "output_type": "error",
     "traceback": [
      "Error in is.data.frame(data): object 'child_1' not found\nTraceback:\n",
      "1. lm(wcloth ~ log(totexp), data = child_1)",
      "2. eval(mf, parent.frame())",
      "3. eval(mf, parent.frame())",
      "4. stats::model.frame(formula = wcloth ~ log(totexp), data = child_1, \n .     drop.unused.levels = TRUE)",
      "5. model.frame.default(formula = wcloth ~ log(totexp), data = child_1, \n .     drop.unused.levels = TRUE)",
      "6. is.data.frame(data)"
     ]
    }
   ],
   "source": [
    "mod2<-lm(wcloth~log(totexp),data=child_1)\n",
    "B1m2<-coef(mod2)[[1]]\n",
    "B2m2<-coef(mod2)[[2]]\n",
    "smod2 <- summary(mod2)\n",
    "smod2$coefficients"
   ]
  },
  {
   "cell_type": "markdown",
   "id": "43298b1f",
   "metadata": {},
   "source": [
    "Si tuvieramos un gasto de cero, se estima que las necesidades básicas de ropa son de menos 0.1885318. Además, indica que un cambio de una unidad en el ln(TOTEXP) da como resultado un cambio de 0.06492601 en el presupuesto de ropa. Confirmando que la ropa por el signo es mas un lujo que una necesidad básica."
   ]
  },
  {
   "cell_type": "markdown",
   "id": "0997186a",
   "metadata": {},
   "source": [
    "**c)  Using a 1% significance level, test $H_0 ∶β2 \\geq 0$ against the alternative $H_1 ∶\\beta_2 < 0$. Why might you set up the hypotheses in this way?**"
   ]
  },
  {
   "cell_type": "markdown",
   "id": "490621cf",
   "metadata": {},
   "source": [
    "El planteamiento de la pregunta esta sesgada al buscar rechazar $H_0:β2 \\geq 0$, ya que caemos en error falso-positivo.\n",
    "De tal manera que, $H_0$ no se debe aceptar."
   ]
  },
  {
   "cell_type": "code",
   "execution_count": 8,
   "id": "bd00bd7b",
   "metadata": {},
   "outputs": [
    {
     "ename": "ERROR",
     "evalue": "Error in eval(expr, envir, enclos): object 'mod1' not found\n",
     "output_type": "error",
     "traceback": [
      "Error in eval(expr, envir, enclos): object 'mod1' not found\nTraceback:\n"
     ]
    }
   ],
   "source": [
    "alpha<-0.01 \n",
    "df<-mod1$df.residual\n",
    "tcr<- qt(1-alpha,df)\n",
    "m1seb2<-sqrt(vcov(mod1)[2,2]) \n",
    "t<-B2m1/m1seb2\n",
    "tcr \n",
    "t"
   ]
  },
  {
   "cell_type": "markdown",
   "id": "59139d6f",
   "metadata": {},
   "source": [
    "Es una contradicción la prueba de hipótesis del supuesto inicial, ya que t no está en la región de rechazo podemos aceptar $H_0$.  Lo cual nos indicaría que la comida es un bien de lujo, siendo una contradicción."
   ]
  },
  {
   "cell_type": "markdown",
   "id": "674a2b38",
   "metadata": {},
   "source": [
    "**d) Using a 1% significance level, test $H_0 ∶\\alpha_2 \\geq 0$ against the alternative $H_1 ∶\\alpha_2 < 0$. Why might you set up the hypotheses in this way?**"
   ]
  },
  {
   "cell_type": "markdown",
   "id": "724de069",
   "metadata": {},
   "source": [
    "De igual manera nos contradecimos al utilizar esta hipótesis, ya que:\n"
   ]
  },
  {
   "cell_type": "code",
   "execution_count": 9,
   "id": "c4ef0d62",
   "metadata": {},
   "outputs": [
    {
     "ename": "ERROR",
     "evalue": "Error in eval(expr, envir, enclos): object 'mod2' not found\n",
     "output_type": "error",
     "traceback": [
      "Error in eval(expr, envir, enclos): object 'mod2' not found\nTraceback:\n"
     ]
    }
   ],
   "source": [
    "alpha<-0.01\n",
    "df<-mod2$df.residual\n",
    "tcr<- qt(1-alpha,df)\n",
    "m2sea2<-sqrt(vcov(mod2)[2,2])\n",
    "t<-B2m1/m2sea2\n",
    "tcr\n",
    "t"
   ]
  },
  {
   "cell_type": "markdown",
   "id": "d6418793",
   "metadata": {},
   "source": [
    "Nos contradecimos del supuesto inicial, ya que la prueba de hipótesis nos indicarían rechazar $H_0$ lo cual nos indicaria que la ropa es un bien de lujo a favor de $H_1$,  que pueda indicar un fallo en el modelo."
   ]
  },
  {
   "cell_type": "markdown",
   "id": "30905654",
   "metadata": {},
   "source": [
    "**e) Estimate the two equations using observations on households with two children. Construct 95% interval estimates for $\\beta_2$ and $\\alpha_2$ for both one- and two-child households. Based on these interval estimates, would you conjecture that the coefficients of $\\ln(TOTEXP)$ are the same or different for one- and two-child households.**"
   ]
  },
  {
   "cell_type": "markdown",
   "id": "32bd5a69",
   "metadata": {},
   "source": [
    "## Ecuación para un niño"
   ]
  },
  {
   "cell_type": "code",
   "execution_count": 10,
   "id": "0ca2671c",
   "metadata": {
    "scrolled": true
   },
   "outputs": [
    {
     "ename": "ERROR",
     "evalue": "Error in is.data.frame(data): object 'child_2' not found\n",
     "output_type": "error",
     "traceback": [
      "Error in is.data.frame(data): object 'child_2' not found\nTraceback:\n",
      "1. lm(wfood ~ log(totexp), data = child_2)",
      "2. eval(mf, parent.frame())",
      "3. eval(mf, parent.frame())",
      "4. stats::model.frame(formula = wfood ~ log(totexp), data = child_2, \n .     drop.unused.levels = TRUE)",
      "5. model.frame.default(formula = wfood ~ log(totexp), data = child_2, \n .     drop.unused.levels = TRUE)",
      "6. is.data.frame(data)"
     ]
    }
   ],
   "source": [
    "mod3<-lm(wfood~log(totexp),data=child_2)\n",
    "B1m3<-coef(mod3)[[1]]\n",
    "B2m3<-coef(mod3)[[2]]\n",
    "smod3 <- summary(mod3)\n",
    "smod3$coefficients\n"
   ]
  },
  {
   "cell_type": "markdown",
   "id": "da0a94aa",
   "metadata": {},
   "source": [
    "## Ecuacion para dos niños"
   ]
  },
  {
   "cell_type": "code",
   "execution_count": 11,
   "id": "466a5fb1",
   "metadata": {},
   "outputs": [
    {
     "ename": "ERROR",
     "evalue": "Error in parse(text = x, srcfile = src): <text>:3:22: unexpected symbol\n2: B1m4<-coef(mod4)[[1]]\n3: B2m4<-coef(mod4)[[2]]smod4\n                        ^\n",
     "output_type": "error",
     "traceback": [
      "Error in parse(text = x, srcfile = src): <text>:3:22: unexpected symbol\n2: B1m4<-coef(mod4)[[1]]\n3: B2m4<-coef(mod4)[[2]]smod4\n                        ^\nTraceback:\n"
     ]
    }
   ],
   "source": [
    "mod4<-lm(wcloth~log(totexp),data=child_2)\n",
    "B1m4<-coef(mod4)[[1]]\n",
    "B2m4<-coef(mod4)[[2]]smod4 <- summary(mod4)\n",
    "smod4 <- summary(mod4)\n",
    "smod4$coefficients"
   ]
  },
  {
   "cell_type": "markdown",
   "id": "7341f928",
   "metadata": {},
   "source": [
    "Los intervalos de confianza son los siguientes:"
   ]
  },
  {
   "cell_type": "code",
   "execution_count": 12,
   "id": "a1e703d0",
   "metadata": {},
   "outputs": [
    {
     "ename": "ERROR",
     "evalue": "Error in confint(mod1, parm = c(\"log(totexp)\"), level = 0.95): object 'mod1' not found\n",
     "output_type": "error",
     "traceback": [
      "Error in confint(mod1, parm = c(\"log(totexp)\"), level = 0.95): object 'mod1' not found\nTraceback:\n",
      "1. confint(mod1, parm = c(\"log(totexp)\"), level = 0.95)"
     ]
    }
   ],
   "source": [
    "intconf_1<-confint(mod1,parm = c(\"log(totexp)\"),level=.95)\n",
    "intconf_2<-confint(mod3,parm = c(\"log(totexp)\"),level=.95)\n",
    "TablaConf1<-data.frame(rbind(intconf_1,intconf_2))\n",
    "rownames(TablaConf1)<-c(\"1 child\",\"2 children\")\n",
    "colnames(TablaConf1)<-c('Límite_Inferior', 'Límite_Superior')\n",
    "TablaConf1"
   ]
  },
  {
   "cell_type": "code",
   "execution_count": 13,
   "id": "f3901852",
   "metadata": {},
   "outputs": [
    {
     "ename": "ERROR",
     "evalue": "Error in confint(mod2, parm = c(\"log(totexp)\"), level = 0.95): object 'mod2' not found\n",
     "output_type": "error",
     "traceback": [
      "Error in confint(mod2, parm = c(\"log(totexp)\"), level = 0.95): object 'mod2' not found\nTraceback:\n",
      "1. confint(mod2, parm = c(\"log(totexp)\"), level = 0.95)"
     ]
    }
   ],
   "source": [
    "intconf_3<-confint(mod2,parm = c(\"log(totexp)\"),level=.95)\n",
    "intconf_4<-confint(mod4,parm = c(\"log(totexp)\"),level=.95)\n",
    "TablaConf2<-data.frame(rbind(intconf_3,intconf_4))\n",
    "rownames(TablaConf2)<-c(\"1 child\",\"2 children\")\n",
    "colnames(TablaConf2)<-c('Límite_Inferior', 'Límite_Superior')\n",
    "TablaConf2"
   ]
  },
  {
   "cell_type": "markdown",
   "id": "609cbc60",
   "metadata": {},
   "source": [
    "Los intervalos de confianza varian, sin embargo, son bastante parecidos mas no tienen los mismos límites.\n"
   ]
  },
  {
   "cell_type": "markdown",
   "id": "f323afcb",
   "metadata": {},
   "source": [
    "**f) Use all observations to estimate the following two equations and test, at a 95% significance level, whether your conjectures in part (e) are correct. (NK = number of children in the household.)**"
   ]
  },
  {
   "cell_type": "markdown",
   "id": "5fd61227",
   "metadata": {},
   "source": [
    "$WFOOD=\\gamma_1+ \\gamma_2\\ln(TOTEXP)+ \\gamma_3NK+ \\gamma_4NK \\times \\ln(TOTEXP)+e_F$"
   ]
  },
  {
   "cell_type": "markdown",
   "id": "9bc0ac49",
   "metadata": {},
   "source": [
    "$CLOTH=\\delta_1+ \\delta_2\\ln(TOTEXP)+ \\delta_3NK+ \\delta_4NK \\times \\ln(TOTEXP)+e_F$"
   ]
  },
  {
   "cell_type": "code",
   "execution_count": 14,
   "id": "812e61b8",
   "metadata": {},
   "outputs": [
    {
     "ename": "ERROR",
     "evalue": "Error in is.data.frame(data): object 'london5' not found\n",
     "output_type": "error",
     "traceback": [
      "Error in is.data.frame(data): object 'london5' not found\nTraceback:\n",
      "1. lm(wfood ~ log(totexp) + nk + I(nk * log(totexp)), data = london5)",
      "2. eval(mf, parent.frame())",
      "3. eval(mf, parent.frame())",
      "4. stats::model.frame(formula = wfood ~ log(totexp) + nk + I(nk * \n .     log(totexp)), data = london5, drop.unused.levels = TRUE)",
      "5. model.frame.default(formula = wfood ~ log(totexp) + nk + I(nk * \n .     log(totexp)), data = london5, drop.unused.levels = TRUE)",
      "6. is.data.frame(data)"
     ]
    }
   ],
   "source": [
    "mod5<-lm(wfood~log(totexp)+nk+I(nk*log(totexp)),data=london5)\n",
    "mod5$coefficients"
   ]
  },
  {
   "cell_type": "code",
   "execution_count": 15,
   "id": "9209fa4b",
   "metadata": {},
   "outputs": [
    {
     "ename": "ERROR",
     "evalue": "Error in is.data.frame(data): object 'london5' not found\n",
     "output_type": "error",
     "traceback": [
      "Error in is.data.frame(data): object 'london5' not found\nTraceback:\n",
      "1. lm(wcloth ~ log(totexp) + nk + I(nk * log(totexp)), data = london5)",
      "2. eval(mf, parent.frame())",
      "3. eval(mf, parent.frame())",
      "4. stats::model.frame(formula = wcloth ~ log(totexp) + nk + I(nk * \n .     log(totexp)), data = london5, drop.unused.levels = TRUE)",
      "5. model.frame.default(formula = wcloth ~ log(totexp) + nk + I(nk * \n .     log(totexp)), data = london5, drop.unused.levels = TRUE)",
      "6. is.data.frame(data)"
     ]
    }
   ],
   "source": [
    "mod6<-lm(wcloth~log(totexp)+nk+I(nk*log(totexp)),data=london5)\n",
    "mod6$coefficients\n"
   ]
  },
  {
   "cell_type": "markdown",
   "id": "ebd7f2e7",
   "metadata": {},
   "source": [
    "**g)Compare the estimates for $\\frac{\\partial E(WFOOD|X)}{\\partial ln(TOTEXP)}$ from (XR5.18.1) for NK = 1, 2 with those from (XR5.18.3) for NK = 1, 2.**"
   ]
  },
  {
   "cell_type": "code",
   "execution_count": 16,
   "id": "f6b3e506",
   "metadata": {},
   "outputs": [
    {
     "ename": "ERROR",
     "evalue": "Error in cbind(B2m1, B2m4): object 'B2m1' not found\n",
     "output_type": "error",
     "traceback": [
      "Error in cbind(B2m1, B2m4): object 'B2m1' not found\nTraceback:\n",
      "1. rbind(cbind(B2m1, B2m4), cbind(B2m1, B2m3))",
      "2. cbind(B2m1, B2m4)"
     ]
    }
   ],
   "source": [
    "Tabla_Comparar<-rbind(cbind(B2m1,B2m4),cbind(B2m1,B2m3))\n",
    "colnames(Tabla_Comparar)<-c(\"1 child\",\"2 children\")\n",
    "rownames(Tabla_Comparar)<-c(\"WFOOD (XR5.18.1)\",\"WCLOTH (XR5.18.3)\")\n",
    "Tabla_Comparar"
   ]
  },
  {
   "cell_type": "markdown",
   "id": "43b3b18c",
   "metadata": {},
   "source": [
    "## 5.19"
   ]
  },
  {
   "cell_type": "markdown",
   "id": "25fd9225",
   "metadata": {},
   "source": [
    "Consider the following expenditure share equation where the budget share for food WFOOD is expressed as a function of total expenditure TOTEXP."
   ]
  },
  {
   "cell_type": "markdown",
   "id": "3a7be472",
   "metadata": {},
   "source": [
    "$WFOOD=\\beta_1 + \\beta_2+\\ln(TOTEXP)+e_F$"
   ]
  },
  {
   "cell_type": "markdown",
   "id": "153fb898",
   "metadata": {},
   "source": [
    "In Exercise 4.12, it was noted that the elasticity of expenditure on food with respect to total expenditure\n",
    "is given by"
   ]
  },
  {
   "cell_type": "markdown",
   "id": "aa33882c",
   "metadata": {},
   "source": [
    "$\\varepsilon=1+\\frac{\\beta_2}{\\beta_1+\\beta_2\\ln(TOTEXP)}$"
   ]
  },
  {
   "cell_type": "markdown",
   "id": "faf0e879",
   "metadata": {},
   "source": [
    "Also, in Exercise 5.18 it was indicated that a good is a necessity if $\\beta_2 < 0.$"
   ]
  },
  {
   "cell_type": "markdown",
   "id": "7d1a4d60",
   "metadata": {},
   "source": [
    "**a) Show that $\\beta_2 < 0$ if and only if $\\varepsilon < 1$. That is, a good is a necessity if its expenditure elasticity is less than one (inelastic).**"
   ]
  },
  {
   "cell_type": "markdown",
   "id": "a42fd2aa",
   "metadata": {},
   "source": [
    "Suponemos que $\\varepsilon<1$ entonces 1 +$\\frac{\\beta_2}{\\beta_1 +\\beta_2 \\ln(TOTEXP)}<1$ entonces si restamos de los 2 lados 1 tenemos que : $\\frac{\\beta_2}{\\beta_1 +\\beta_2 \\ln(TOTEXP)}<0$"
   ]
  },
  {
   "cell_type": "markdown",
   "id": "b858cff2",
   "metadata": {},
   "source": [
    "Ahora, $\\beta_1 +\\beta2 \\ln(TOTEXP)$ es el presupuesto estimado entonces deberia ser positivo($\\beta_2<0$), note que si despejamos $\\beta_2$ nos quedaria $\\beta_2<0$ y $\\ln(TOTEXP)>0$ siempre"
   ]
  },
  {
   "cell_type": "markdown",
   "id": "693a4e5c",
   "metadata": {},
   "source": [
    "Como $\\beta_2<0$\n",
    "tq $\\beta_2\\ln(TOTEXP)<0$\n",
    "tq$\\beta_2\\ln(TOTEXP)+1<1$,entonces $\\varepsilon=1+\\frac{\\beta_2}{\\beta_1+\\beta_2\\ln(TOTEXP)}$ ,\n",
    "tq $(\\beta_1 +\\beta_2 \\ln(TOTEXP))(\\varepsilon-1)<0$ y $(\\varepsilon-1)<0$ por lo tanto $\\varepsilon<1$"
   ]
  },
  {
   "cell_type": "markdown",
   "id": "3e66a0c6",
   "metadata": {},
   "source": [
    "Comprobemos con el valor de la elasticidad"
   ]
  },
  {
   "cell_type": "code",
   "execution_count": 17,
   "id": "ef38e4f7",
   "metadata": {},
   "outputs": [
    {
     "ename": "ERROR",
     "evalue": "Error in read_excel(\"D:/8 semestre/ECONOMETRIA/Bases de datos/london5.xlsx\"): could not find function \"read_excel\"\n",
     "output_type": "error",
     "traceback": [
      "Error in read_excel(\"D:/8 semestre/ECONOMETRIA/Bases de datos/london5.xlsx\"): could not find function \"read_excel\"\nTraceback:\n"
     ]
    }
   ],
   "source": [
    "london5 <- read_excel(\"D:/8 semestre/ECONOMETRIA/Bases de datos/london5.xlsx\")\n",
    "attach(london5)\n",
    "mod1 <- lm(wfood~log(totexp), data = london5)\n",
    "smod1 <- summary(mod1)\n",
    "smod1"
   ]
  },
  {
   "cell_type": "code",
   "execution_count": 18,
   "id": "e20eda97",
   "metadata": {},
   "outputs": [
    {
     "ename": "ERROR",
     "evalue": "Error in coef(mod1): object 'mod1' not found\n",
     "output_type": "error",
     "traceback": [
      "Error in coef(mod1): object 'mod1' not found\nTraceback:\n",
      "1. coef(mod1)"
     ]
    }
   ],
   "source": [
    "b1<-coef(mod1)[1]\n",
    "b2<-coef(mod1)[2]\n",
    "elasticidad<-1+(b2/(b1+b2+log(totexp)))"
   ]
  },
  {
   "cell_type": "code",
   "execution_count": 19,
   "id": "9a477d84",
   "metadata": {},
   "outputs": [
    {
     "ename": "ERROR",
     "evalue": "Error in eval(expr, envir, enclos): object 'elasticidad' not found\n",
     "output_type": "error",
     "traceback": [
      "Error in eval(expr, envir, enclos): object 'elasticidad' not found\nTraceback:\n"
     ]
    }
   ],
   "source": [
    "max(elasticidad)<1"
   ]
  },
  {
   "cell_type": "markdown",
   "id": "72299883",
   "metadata": {},
   "source": [
    "**b) Use observations in the data file london5 to estimate (XR5.19.1) and comment on the results.**"
   ]
  },
  {
   "cell_type": "markdown",
   "id": "0ece5add",
   "metadata": {},
   "source": [
    "Los coeficientes son los siguientes"
   ]
  },
  {
   "cell_type": "code",
   "execution_count": 20,
   "id": "55730c47",
   "metadata": {},
   "outputs": [
    {
     "ename": "ERROR",
     "evalue": "Error in eval(expr, envir, enclos): object 'smod1' not found\n",
     "output_type": "error",
     "traceback": [
      "Error in eval(expr, envir, enclos): object 'smod1' not found\nTraceback:\n"
     ]
    }
   ],
   "source": [
    "smod1$coefficients"
   ]
  },
  {
   "cell_type": "markdown",
   "id": "aaee8620",
   "metadata": {},
   "source": [
    "$\\hat{WFOOD}=.993838-.14050\\ln(TOTEXP)$"
   ]
  },
  {
   "cell_type": "markdown",
   "id": "aba71f75",
   "metadata": {},
   "source": [
    "Estimamos que un cambio del aprox 1% el gasto total disminuirá en presupuesto destinada a los alimentos en 0.0014. Y confirmamos que la comida es una necesidad, por el signo del coeficiente."
   ]
  },
  {
   "cell_type": "markdown",
   "id": "e881f95b",
   "metadata": {},
   "source": [
    "**c) Find point estimates and 95% interval estimates for the mean budget share for food, for total expenditure values (i) TOTEXP = 50 (the fifth percentile of TOTEXP), (ii) TOTEXP = 90 (the median),\n",
    "and (iii) TOTEXP = 170 (the 95th percentile).**"
   ]
  },
  {
   "cell_type": "code",
   "execution_count": 21,
   "id": "02600ed4",
   "metadata": {},
   "outputs": [
    {
     "ename": "ERROR",
     "evalue": "Error in eval(expr, envir, enclos): object 'b1' not found\n",
     "output_type": "error",
     "traceback": [
      "Error in eval(expr, envir, enclos): object 'b1' not found\nTraceback:\n"
     ]
    }
   ],
   "source": [
    "TOTEXP = c(50, 90, 170)\n",
    "Estimacion_puntual=b1+b2*log(TOTEXP)\n",
    "Estimacion_puntual"
   ]
  },
  {
   "cell_type": "code",
   "execution_count": 22,
   "id": "da15ecd5",
   "metadata": {},
   "outputs": [
    {
     "ename": "ERROR",
     "evalue": "Error in predict(mod1, newdata = newdata, interval = \"confidence\", level = 0.95): object 'mod1' not found\n",
     "output_type": "error",
     "traceback": [
      "Error in predict(mod1, newdata = newdata, interval = \"confidence\", level = 0.95): object 'mod1' not found\nTraceback:\n",
      "1. predict(mod1, newdata = newdata, interval = \"confidence\", level = 0.95)"
     ]
    }
   ],
   "source": [
    "tabla=c()\n",
    "for(i in TOTEXP){\n",
    "totexp <- i\n",
    "newdata <- data.frame(log(totexp))\n",
    "pred <- predict(mod1, newdata = newdata, interval = \"confidence\", level = 0.95)\n",
    "est_df <- c(pred[1],pred[2],pred[3])\n",
    "tabla=rbind(tabla,est_df)\n",
    "}\n",
    "colnames(tabla)=c('Estimación','Límite_Inferior', 'Límite_Superior')\n",
    "rownames(tabla)=c('TOTEXP=50','TOTEXP=90', 'TOTEXP=170')\n",
    "tabla"
   ]
  },
  {
   "cell_type": "markdown",
   "id": "3790cd15",
   "metadata": {},
   "source": [
    "**d)Find point estimates and 95% interval estimates for the elasticity $\\varepsilon$, for total expenditure values\n",
    "(i) TOTEXP = 50 (the fifth percentile), (ii) TOTEXP = 90 (the median), and (iii) TOTEXP = 170\n",
    "(the 95th percentile).**"
   ]
  },
  {
   "cell_type": "code",
   "execution_count": 23,
   "id": "493e71e6",
   "metadata": {},
   "outputs": [
    {
     "ename": "ERROR",
     "evalue": "Error in vcov(mod1): object 'mod1' not found\n",
     "output_type": "error",
     "traceback": [
      "Error in vcov(mod1): object 'mod1' not found\nTraceback:\n",
      "1. vcov(mod1)"
     ]
    }
   ],
   "source": [
    "varb1<-vcov(mod1)[1,1]\n",
    "varb2<-vcov(mod1)[2,2]\n",
    "covb1b2<-vcov(mod1)[1,2]\n",
    "alpha<-0.05\n",
    "df<-mod1$df.residual\n",
    "tcr<-qt(1-alpha/2,df)\n",
    "cvar=c()\n",
    "cest=c()\n",
    "cLV=c()\n",
    "cUV=c()\n",
    "for(i in TOTEXP){\n",
    "    var=varb1+log(i)**2* varb2 +2*log(i)*covb1b2\n",
    "    est<-1+(b2/(b1+b2*log(i)))\n",
    "    cvar=c(cvar,var)\n",
    "    cest=c(cest,est)\n",
    "    LV<-est-tcr*sqrt(var) \n",
    "    UV<-est+tcr*sqrt(var)\n",
    "    cLV=c(cLV,LV)\n",
    "    cUV=c(cUV,UV)\n",
    "}\n",
    "tabla2=cbind(cest,cLV,cUV)\n",
    "colnames(tabla2)=c(\"Estimación\",'Límite_Inferior', 'Límite_Superior')\n",
    "rownames(tabla2)=c('TOTEXP=50','TOTEXP=90', 'TOTEXP=170')\n",
    "tabla2"
   ]
  },
  {
   "cell_type": "markdown",
   "id": "86cedeec",
   "metadata": {},
   "source": [
    "**e) Comment on how the mean budget share and the expenditure elasticity for food change as total\n",
    "expenditure changes. How does the reliability of estimation change as total expenditure changes?**\n"
   ]
  },
  {
   "cell_type": "markdown",
   "id": "e0b35fd9",
   "metadata": {},
   "source": [
    "\n",
    "Para los bienes necesarios se encuetra una relacion inversamente proporcional a el gasto total con respecto el presupusto y la elasticidad como en el caso de los alimentos \n",
    "La estimación de la proporción del presupuesto es más precisa en el gasto total y menor en los percentiles más altos. La estimación de la elasticidad se vuelve menos confiable a medida que aumenta el gasto total."
   ]
  },
  {
   "cell_type": "markdown",
   "id": "d5acde6f",
   "metadata": {},
   "source": [
    "## 5.22"
   ]
  },
  {
   "cell_type": "markdown",
   "id": "410bfc76",
   "metadata": {},
   "source": [
    "Using the data in the file toody5, estimate the model"
   ]
  },
  {
   "cell_type": "markdown",
   "id": "c25c9a02",
   "metadata": {},
   "source": [
    "$Y_t=\\beta_1+\\beta_2TREND_t+\\beta_3RAIN_t+\\beta_4RAIN_t^2+\\beta_5(RAIN_t \\times TREND_t)+ e_t$"
   ]
  },
  {
   "cell_type": "markdown",
   "id": "b9b63282",
   "metadata": {},
   "source": [
    "where $Y_t$ = wheat yield in tons per hectare in the Toodyay Shire of Western Australia in year t; $TREND_t$ is a trend variable designed to capture technological change, with observations 0, 0.1, 0.2, ..., 4.7; 0 is for the year 1950, 0.1 is for the year 1951, and so on up to 4.7 for the year 1997; $RAIN_t$ is total rainfall in decimeters (dm) from May to October (the growing season) in year t (1 decimeter = 4 inches)."
   ]
  },
  {
   "cell_type": "markdown",
   "id": "2f822539",
   "metadata": {},
   "source": [
    "**a)Report your estimates, standard errors, t-values, and p-values in a table.**"
   ]
  },
  {
   "cell_type": "code",
   "execution_count": 24,
   "id": "8db61341",
   "metadata": {},
   "outputs": [
    {
     "ename": "ERROR",
     "evalue": "Error in read_excel(\"D:/8 semestre/ECONOMETRIA/Bases de datos/toody5.xlsx\"): could not find function \"read_excel\"\n",
     "output_type": "error",
     "traceback": [
      "Error in read_excel(\"D:/8 semestre/ECONOMETRIA/Bases de datos/toody5.xlsx\"): could not find function \"read_excel\"\nTraceback:\n"
     ]
    }
   ],
   "source": [
    "toody <- read_excel(\"D:/8 semestre/ECONOMETRIA/Bases de datos/toody5.xlsx\")\n",
    "head(toody)\n",
    "attach(toody)"
   ]
  },
  {
   "cell_type": "code",
   "execution_count": 25,
   "id": "1c6e85c3",
   "metadata": {},
   "outputs": [
    {
     "ename": "ERROR",
     "evalue": "Error in is.data.frame(data): object 'toody' not found\n",
     "output_type": "error",
     "traceback": [
      "Error in is.data.frame(data): object 'toody' not found\nTraceback:\n",
      "1. lm(y ~ trend + rain + I(rain^2) + rain * trend, data = toody)",
      "2. eval(mf, parent.frame())",
      "3. eval(mf, parent.frame())",
      "4. stats::model.frame(formula = y ~ trend + rain + I(rain^2) + rain * \n .     trend, data = toody, drop.unused.levels = TRUE)",
      "5. model.frame.default(formula = y ~ trend + rain + I(rain^2) + \n .     rain * trend, data = toody, drop.unused.levels = TRUE)",
      "6. is.data.frame(data)"
     ]
    }
   ],
   "source": [
    "mod1 <- lm(y~trend+rain+I(rain^2)+rain*trend, data=toody)\n",
    "smod1 <- summary(mod1)\n",
    "tabla <- data.frame(xtable(smod1))\n",
    "names(tabla) <- c(\"Estimate\", \"Std.Error\",\"t-value\", \"p-value\")\n",
    "kable(tabla, digits=3, align='c', \n",
    "      caption=\"Summary of the $Toody$ model\")"
   ]
  },
  {
   "cell_type": "markdown",
   "id": "c2481670",
   "metadata": {},
   "source": [
    "**b)For 1974, when TREND = 2.4 and RAIN = 4.576, use a 5% significance level to test the null\n",
    "hypothesis that extra rainfall will not increase expected yield against the alternative that it will\n",
    "increase expected yield.**"
   ]
  },
  {
   "cell_type": "code",
   "execution_count": 26,
   "id": "d8ca29d1",
   "metadata": {},
   "outputs": [
    {
     "ename": "ERROR",
     "evalue": "Error in eval(expr, envir, enclos): object 'mod1' not found\n",
     "output_type": "error",
     "traceback": [
      "Error in eval(expr, envir, enclos): object 'mod1' not found\nTraceback:\n"
     ]
    }
   ],
   "source": [
    "alpha <- .05\n",
    "df <- mod1$df.residual\n",
    "L <- mod1$coeff[3]+2*4.576*mod1$coeff[4]+2.4*mod1$coeff[5]\n",
    "a <- c(0,0,1, 2*4.576, 2.4)\n",
    "b <- as.numeric(coef(mod1))\n",
    "V <- vcov(mod1) \n",
    "A <- as.vector(a)\n",
    "varL <- as.numeric(t(A) %*% V %*% A)\n",
    "se <- sqrt(varL)\n",
    "t <- L/se\n",
    "tcr <- qt(1-alpha,df)\n",
    "t;tcr"
   ]
  },
  {
   "cell_type": "markdown",
   "id": "50cf94ed",
   "metadata": {},
   "source": [
    "Rechazamos $H_0$ , ya que t está en la region de rechazo.\n",
    "Por lo tanto, significa que la lluvia incrementa producira una aumento en el rendimiento esperado.\n",
    "Para un nivel de significancia del 5%"
   ]
  },
  {
   "cell_type": "markdown",
   "id": "a11c62ea",
   "metadata": {},
   "source": [
    "**c)Assuming rainfall is equal to its median value of 3.8355 dm, find point and 95% interval estimates\n",
    "of the expected improvement in wheat yield from technological change over the period 1960–1995.**"
   ]
  },
  {
   "cell_type": "markdown",
   "id": "b2d11c38",
   "metadata": {},
   "source": [
    "A nivel de datos si se filtran quedaria lo siguiente"
   ]
  },
  {
   "cell_type": "code",
   "execution_count": 27,
   "id": "80443999",
   "metadata": {},
   "outputs": [
    {
     "ename": "ERROR",
     "evalue": "Error in library(\"dplyr\"): there is no package called 'dplyr'\n",
     "output_type": "error",
     "traceback": [
      "Error in library(\"dplyr\"): there is no package called 'dplyr'\nTraceback:\n",
      "1. library(\"dplyr\")"
     ]
    }
   ],
   "source": [
    "library(\"dplyr\")\n",
    "toody$dateid01 <-as.Date(toody$dateid01,\"%Y/%m/%d\")\n",
    "toody1960_1995= toody %>%\n",
    "  select(dateid01, rain,t,trend,y,year) %>%\n",
    "  filter(dateid01 >= \"1960-01-01\" & dateid01 <= \"1995-01-01\")\n",
    "head(toody1960_1995)\n",
    "tail(toody1960_1995)"
   ]
  },
  {
   "cell_type": "code",
   "execution_count": 28,
   "id": "373c0276",
   "metadata": {},
   "outputs": [
    {
     "ename": "ERROR",
     "evalue": "Error in is.data.frame(data): object 'toody1960_1995' not found\n",
     "output_type": "error",
     "traceback": [
      "Error in is.data.frame(data): object 'toody1960_1995' not found\nTraceback:\n",
      "1. lm(y ~ trend + rain + I(rain^2) + rain * trend, data = toody1960_1995)",
      "2. eval(mf, parent.frame())",
      "3. eval(mf, parent.frame())",
      "4. stats::model.frame(formula = y ~ trend + rain + I(rain^2) + rain * \n .     trend, data = toody1960_1995, drop.unused.levels = TRUE)",
      "5. model.frame.default(formula = y ~ trend + rain + I(rain^2) + \n .     rain * trend, data = toody1960_1995, drop.unused.levels = TRUE)",
      "6. is.data.frame(data)"
     ]
    }
   ],
   "source": [
    "mod1 <- lm(y~trend+rain+I(rain^2)+rain*trend, data=toody1960_1995)\n",
    "Estimacion_puntual <- data.frame(\"trend\"=c(1,4.5),\n",
    "                    \"rain\"=3.8355,\"I(rain^2)\"=14.7111,\n",
    "                    \"trend*rain\"=c(3.8355, 17.25975))\n",
    "Estimacion_puntual"
   ]
  },
  {
   "cell_type": "code",
   "execution_count": 29,
   "id": "3cff085e",
   "metadata": {},
   "outputs": [
    {
     "ename": "ERROR",
     "evalue": "Error in predict(object = mod1, newdata = Estimacion_puntual, interval = \"confidence\", : object 'mod1' not found\n",
     "output_type": "error",
     "traceback": [
      "Error in predict(object = mod1, newdata = Estimacion_puntual, interval = \"confidence\", : object 'mod1' not found\nTraceback:\n",
      "1. predict(object = mod1, newdata = Estimacion_puntual, interval = \"confidence\", \n .     level = 0.95)"
     ]
    }
   ],
   "source": [
    "predict(object=mod1, newdata=Estimacion_puntual, interval=\"confidence\", level=0.95)"
   ]
  },
  {
   "cell_type": "code",
   "execution_count": 30,
   "id": "fc4e2380",
   "metadata": {},
   "outputs": [
    {
     "ename": "ERROR",
     "evalue": "Error in predict(object = mod1, newdata = Estimacion_puntual, interval = \"prediction\", : object 'mod1' not found\n",
     "output_type": "error",
     "traceback": [
      "Error in predict(object = mod1, newdata = Estimacion_puntual, interval = \"prediction\", : object 'mod1' not found\nTraceback:\n",
      "1. predict(object = mod1, newdata = Estimacion_puntual, interval = \"prediction\", \n .     level = 0.95)"
     ]
    }
   ],
   "source": [
    "predict(object=mod1, newdata=Estimacion_puntual, interval=\"prediction\", level=0.95)"
   ]
  },
  {
   "cell_type": "markdown",
   "id": "4b0ecb60",
   "metadata": {},
   "source": [
    "Ahora si el coeficiente para TREND es de 3.5 ya que son 35 años, quedaria lo siguiente:"
   ]
  },
  {
   "cell_type": "code",
   "execution_count": 31,
   "id": "83ea369b",
   "metadata": {},
   "outputs": [
    {
     "ename": "ERROR",
     "evalue": "Error in is.data.frame(data): object 'toody' not found\n",
     "output_type": "error",
     "traceback": [
      "Error in is.data.frame(data): object 'toody' not found\nTraceback:\n",
      "1. lm(y ~ trend + rain + I(rain^2) + (rain * trend), data = toody)",
      "2. eval(mf, parent.frame())",
      "3. eval(mf, parent.frame())",
      "4. stats::model.frame(formula = y ~ trend + rain + I(rain^2) + (rain * \n .     trend), data = toody, drop.unused.levels = TRUE)",
      "5. model.frame.default(formula = y ~ trend + rain + I(rain^2) + \n .     (rain * trend), data = toody, drop.unused.levels = TRUE)",
      "6. is.data.frame(data)"
     ]
    }
   ],
   "source": [
    "mod1 <- lm(y~trend+rain+I(rain^2)+(rain*trend), data=toody)\n",
    "alpha <- .05\n",
    "df <- mod1$df.residual\n",
    "L <- 3.5*mod1$coeff[2]+3.8355*3.5*mod1$coeff[5]\n",
    "a <- c(0,3.5,0, 0, 3.8355*3.5)\n",
    "b <- as.numeric(coef(mod1))\n",
    "V <- vcov(mod1) \n",
    "A <- as.vector(a)\n",
    "varL <- as.numeric(t(A) %*% V %*% A)\n",
    "se <- sqrt(varL)\n",
    "t <- L/se\n",
    "tcr <- qt(1-alpha/2,df)\n",
    "lowbL <- L-tcr*se\n",
    "upbL <- L+tcr*se\n",
    "paste(\"El intervalo de confianza es :\",\"(\",lowbL,upbL,\")\")"
   ]
  },
  {
   "cell_type": "markdown",
   "id": "f66bf2cc",
   "metadata": {},
   "source": [
    "**d)There is concern that climate change is leading to a decline in rainfall over time. To test this hypoth- esis, estimate the equation $RAIN = \\alpha_1 + \\alpha_2 TREND + e$. Test, at a 5% significance level, the null hypothesis that mean rainfall is not declining over time against the alternative hypothesis that it is\n",
    "declining.**"
   ]
  },
  {
   "cell_type": "code",
   "execution_count": 32,
   "id": "804e69ac",
   "metadata": {},
   "outputs": [
    {
     "ename": "ERROR",
     "evalue": "Error in is.data.frame(data): object 'toody' not found\n",
     "output_type": "error",
     "traceback": [
      "Error in is.data.frame(data): object 'toody' not found\nTraceback:\n",
      "1. lm(rain ~ trend, data = toody)",
      "2. eval(mf, parent.frame())",
      "3. eval(mf, parent.frame())",
      "4. stats::model.frame(formula = rain ~ trend, data = toody, drop.unused.levels = TRUE)",
      "5. model.frame.default(formula = rain ~ trend, data = toody, drop.unused.levels = TRUE)",
      "6. is.data.frame(data)"
     ]
    }
   ],
   "source": [
    "mod2 <- lm(rain~trend, data=toody)\n",
    "smod2 <- summary(mod2)\n",
    "tabla <- data.frame(xtable(smod2))\n",
    "names(tabla) <- c(\"Estimate\", \"Std.Error\",\"t-value\", \"p-value\")\n",
    "kable(tabla, digits=3, align='c', caption=\"Summary of the $Toody3$ model\")"
   ]
  },
  {
   "cell_type": "markdown",
   "id": "6897522d",
   "metadata": {},
   "source": [
    "**e)Using the estimated equation from part (d), estimate mean rainfall in 1960 and in 1995.**"
   ]
  },
  {
   "cell_type": "code",
   "execution_count": 33,
   "id": "84607011",
   "metadata": {},
   "outputs": [
    {
     "ename": "ERROR",
     "evalue": "Error in coef(mod2): object 'mod2' not found\n",
     "output_type": "error",
     "traceback": [
      "Error in coef(mod2): object 'mod2' not found\nTraceback:\n",
      "1. coef(mod2)"
     ]
    }
   ],
   "source": [
    "b1 <- coef(mod2)[1]\n",
    "b2 <- coef(mod2)[2]\n",
    "rain1 <- b1+b2*1\n",
    "rain1"
   ]
  },
  {
   "cell_type": "code",
   "execution_count": 34,
   "id": "c5c6f3be",
   "metadata": {},
   "outputs": [
    {
     "ename": "ERROR",
     "evalue": "Error in coef(mod2): object 'mod2' not found\n",
     "output_type": "error",
     "traceback": [
      "Error in coef(mod2): object 'mod2' not found\nTraceback:\n",
      "1. coef(mod2)"
     ]
    }
   ],
   "source": [
    "b1 <- coef(mod2)[1]\n",
    "b2 <- coef(mod2)[2]\n",
    "rain2 <- b1+b2*4.5\n",
    "rain2"
   ]
  },
  {
   "cell_type": "markdown",
   "id": "15aabd38",
   "metadata": {},
   "source": [
    "**f)Suppose that $TREND_{1995} = TREND_{1960}$, implying there had been no technological change\n",
    "from 1960 to 1995. Use the estimates from part (e) to find an estimate of the decline in mean yield from 1960 to 1995 attributable to climate change.**"
   ]
  },
  {
   "cell_type": "code",
   "execution_count": 35,
   "id": "e66a14ae",
   "metadata": {},
   "outputs": [
    {
     "ename": "ERROR",
     "evalue": "Error in coef(mod1): object 'mod1' not found\n",
     "output_type": "error",
     "traceback": [
      "Error in coef(mod1): object 'mod1' not found\nTraceback:\n",
      "1. coef(mod1)"
     ]
    }
   ],
   "source": [
    "b1 <- coef(mod1)[1]\n",
    "b2 <- coef(mod1)[2]\n",
    "b3 <- coef(mod1)[3]\n",
    "b4 <- coef(mod1)[4]\n",
    "b5 <- coef(mod1)[5]\n",
    "y1 <- b1+b2*1+b3*4.245+b4*4.245^2+b5*1*4.245\n",
    "y1"
   ]
  },
  {
   "cell_type": "code",
   "execution_count": 36,
   "id": "28c4d8e9",
   "metadata": {},
   "outputs": [
    {
     "ename": "ERROR",
     "evalue": "Error in coef(mod1): object 'mod1' not found\n",
     "output_type": "error",
     "traceback": [
      "Error in coef(mod1): object 'mod1' not found\nTraceback:\n",
      "1. coef(mod1)"
     ]
    }
   ],
   "source": [
    "b1 <- coef(mod1)[1]\n",
    "b2 <- coef(mod1)[2]\n",
    "b3 <- coef(mod1)[3]\n",
    "b4 <- coef(mod1)[4]\n",
    "b5 <- coef(mod1)[5]\n",
    "y2 <- b1+b2*1+b3*4.797+b4*4.797^2+b5*1*4.797\n",
    "y2"
   ]
  },
  {
   "cell_type": "code",
   "execution_count": 37,
   "id": "3844acb8",
   "metadata": {},
   "outputs": [
    {
     "data": {
      "text/html": [
       "<table>\n",
       "<thead><tr><th scope=col>trend</th><th scope=col>rain</th><th scope=col>I.rain.2.</th><th scope=col>trend.rain</th></tr></thead>\n",
       "<tbody>\n",
       "\t<tr><td>1       </td><td>4.245   </td><td>18.02000</td><td>4.245   </td></tr>\n",
       "\t<tr><td>1       </td><td>4.797   </td><td>23.01121</td><td>4.797   </td></tr>\n",
       "</tbody>\n",
       "</table>\n"
      ],
      "text/latex": [
       "\\begin{tabular}{r|llll}\n",
       " trend & rain & I.rain.2. & trend.rain\\\\\n",
       "\\hline\n",
       "\t 1        & 4.245    & 18.02000 & 4.245   \\\\\n",
       "\t 1        & 4.797    & 23.01121 & 4.797   \\\\\n",
       "\\end{tabular}\n"
      ],
      "text/markdown": [
       "\n",
       "| trend | rain | I.rain.2. | trend.rain |\n",
       "|---|---|---|---|\n",
       "| 1        | 4.245    | 18.02000 | 4.245    |\n",
       "| 1        | 4.797    | 23.01121 | 4.797    |\n",
       "\n"
      ],
      "text/plain": [
       "  trend rain  I.rain.2. trend.rain\n",
       "1 1     4.245 18.02000  4.245     \n",
       "2 1     4.797 23.01121  4.797     "
      ]
     },
     "metadata": {},
     "output_type": "display_data"
    }
   ],
   "source": [
    "Estimacion_puntual_1 <- data.frame(\"trend\"=1,\n",
    "                    \"rain\"=c(4.245, 4.797),\n",
    "                    \"I(rain^2)\"=c(18.02, 23.01121),\n",
    "                    \"trend*rain\"=c(4.245, 4.797))\n",
    "Estimacion_puntual_1"
   ]
  },
  {
   "cell_type": "code",
   "execution_count": 38,
   "id": "c8332d29",
   "metadata": {},
   "outputs": [
    {
     "ename": "ERROR",
     "evalue": "Error in predict(object = mod1, newdata = Estimacion_puntual_1, interval = \"prediction\", : object 'mod1' not found\n",
     "output_type": "error",
     "traceback": [
      "Error in predict(object = mod1, newdata = Estimacion_puntual_1, interval = \"prediction\", : object 'mod1' not found\nTraceback:\n",
      "1. predict(object = mod1, newdata = Estimacion_puntual_1, interval = \"prediction\", \n .     level = 0.95)"
     ]
    }
   ],
   "source": [
    "predict(object=mod1, newdata=Estimacion_puntual_1, interval=\"prediction\", level=0.95)"
   ]
  },
  {
   "cell_type": "code",
   "execution_count": 39,
   "id": "29d6bc10",
   "metadata": {},
   "outputs": [
    {
     "ename": "ERROR",
     "evalue": "Error in coef(mod1): object 'mod1' not found\n",
     "output_type": "error",
     "traceback": [
      "Error in coef(mod1): object 'mod1' not found\nTraceback:\n",
      "1. coef(mod1)"
     ]
    }
   ],
   "source": [
    "b1 <- coef(mod1)[1]\n",
    "b2 <- coef(mod1)[2]\n",
    "b3 <- coef(mod1)[3]\n",
    "b4 <- coef(mod1)[4]\n",
    "b5 <- coef(mod1)[5]\n",
    "y3 <- b1+b2*1+b3*mean(rain)+b4*mean(rain)^2+b5*1*mean(rain)\n",
    "y3"
   ]
  },
  {
   "cell_type": "markdown",
   "id": "e062b715",
   "metadata": {},
   "source": [
    "**g)Suppose that $E RAIN_{1995} = E RAIN_{1960} $, implying there had been no rainfall change from 1960 to 1995. Find an estimate of the increase in mean yield from 1960 to 1995 attributable to technological change.**"
   ]
  },
  {
   "cell_type": "code",
   "execution_count": 40,
   "id": "483fa48d",
   "metadata": {},
   "outputs": [
    {
     "ename": "ERROR",
     "evalue": "Error in coef(mod1): object 'mod1' not found\n",
     "output_type": "error",
     "traceback": [
      "Error in coef(mod1): object 'mod1' not found\nTraceback:\n",
      "1. coef(mod1)"
     ]
    }
   ],
   "source": [
    "b1 <- coef(mod1)[1]\n",
    "b2 <- coef(mod1)[2]\n",
    "b3 <- coef(mod1)[3]\n",
    "b4 <- coef(mod1)[4]\n",
    "b5 <- coef(mod1)[5]\n",
    "y4 <- b1+b2*4.5+b3*mean(rain)+b4*mean(rain)^2+b5*4.5*mean(rain)\n",
    "y4"
   ]
  },
  {
   "cell_type": "markdown",
   "id": "2a5a6886",
   "metadata": {},
   "source": [
    "**g)Suppose that $E RAIN_{1995} = E RAIN_{1960} $, implying there had been no rainfall change from 1960 to 1995. Find an estimate of the increase in mean yield from 1960 to 1995 attributable to technological change.**"
   ]
  },
  {
   "cell_type": "code",
   "execution_count": 41,
   "id": "da7a5210",
   "metadata": {},
   "outputs": [
    {
     "ename": "ERROR",
     "evalue": "Error in mean(rain): object 'rain' not found\n",
     "output_type": "error",
     "traceback": [
      "Error in mean(rain): object 'rain' not found\nTraceback:\n",
      "1. data.frame(trend = c(1, 4.5), rain = mean(rain), `I(rain^2)` = mean(rain)^2, \n .     `trend*rain` = c(4.240694, 19.083123))",
      "2. mean(rain)"
     ]
    }
   ],
   "source": [
    "Estimacion_puntual_3 <- data.frame(\"trend\"=c(1,4.5),\n",
    "                    \"rain\"=mean(rain),\"I(rain^2)\"=mean(rain)^2,\n",
    "                    \"trend*rain\"=c(4.240694, 19.083123))\n",
    "Estimacion_puntual_3"
   ]
  },
  {
   "cell_type": "code",
   "execution_count": 42,
   "id": "aeb537a6",
   "metadata": {},
   "outputs": [
    {
     "ename": "ERROR",
     "evalue": "Error in predict(object = mod1, newdata = Estimacion_puntual_3, interval = \"confidence\", : object 'mod1' not found\n",
     "output_type": "error",
     "traceback": [
      "Error in predict(object = mod1, newdata = Estimacion_puntual_3, interval = \"confidence\", : object 'mod1' not found\nTraceback:\n",
      "1. predict(object = mod1, newdata = Estimacion_puntual_3, interval = \"confidence\", \n .     level = 0.95)"
     ]
    }
   ],
   "source": [
    "predict(object=mod1, newdata=Estimacion_puntual_3, interval=\"confidence\", level=0.95)"
   ]
  },
  {
   "cell_type": "markdown",
   "id": "bc3c2367",
   "metadata": {},
   "source": [
    "**h) Compare the estimates you obtained in parts (c), (f), and (g).**"
   ]
  },
  {
   "cell_type": "code",
   "execution_count": 43,
   "id": "9d0a2a23",
   "metadata": {},
   "outputs": [
    {
     "ename": "ERROR",
     "evalue": "Error in predict(object = mod1, newdata = Estimacion_puntual, interval = \"confidence\", : object 'mod1' not found\n",
     "output_type": "error",
     "traceback": [
      "Error in predict(object = mod1, newdata = Estimacion_puntual, interval = \"confidence\", : object 'mod1' not found\nTraceback:\n",
      "1. rbind(predict(object = mod1, newdata = Estimacion_puntual, interval = \"confidence\", \n .     level = 0.95), predict(object = mod1, newdata = Estimacion_puntual, \n .     interval = \"prediction\", level = 0.95), predict(object = mod1, \n .     newdata = Estimacion_puntual_1, interval = \"prediction\", \n .     level = 0.95), predict(object = mod1, newdata = Estimacion_puntual_3, \n .     interval = \"confidence\", level = 0.95))",
      "2. predict(object = mod1, newdata = Estimacion_puntual, interval = \"confidence\", \n .     level = 0.95)"
     ]
    }
   ],
   "source": [
    "comparacion=rbind(predict(object=mod1, newdata=Estimacion_puntual, interval=\"confidence\", level=0.95),\n",
    "predict(object=mod1, newdata=Estimacion_puntual, interval=\"prediction\", level=0.95),\n",
    "predict(object=mod1, newdata=Estimacion_puntual_1, interval=\"prediction\", level=0.95),\n",
    "predict(object=mod1, newdata=Estimacion_puntual_3, interval=\"confidence\", level=0.95))\n",
    "\n",
    "rownames(comparacion)=c(\"RAIN_3.8355_1\",\"RAIN_3.8355_2\",\"Ip_1\",\"Ip_2\",\n",
    "                        \"cambio_climatico_1\",\"cambio_climatico_2\",\n",
    "                        \"cambio_tecnologia_1\",\"cambio_tecnologia_2\")\n",
    "comparacion"
   ]
  },
  {
   "cell_type": "markdown",
   "id": "c55501ff",
   "metadata": {},
   "source": [
    "Comparando los intervalos, concluimos que la tecnologia afecta de manera más poderada que el cmbio climatico."
   ]
  }
 ],
 "metadata": {
  "kernelspec": {
   "display_name": "R",
   "language": "R",
   "name": "ir"
  },
  "language_info": {
   "codemirror_mode": "r",
   "file_extension": ".r",
   "mimetype": "text/x-r-source",
   "name": "R",
   "pygments_lexer": "r",
   "version": "3.6.1"
  }
 },
 "nbformat": 4,
 "nbformat_minor": 5
}
