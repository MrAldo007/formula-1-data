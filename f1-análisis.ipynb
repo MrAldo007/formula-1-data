{
 "cells": [
  {
   "cell_type": "code",
   "execution_count": 12,
   "id": "64c67e6c",
   "metadata": {
    "scrolled": true
   },
   "outputs": [
    {
     "data": {
      "text/plain": [
       "'warnings.filterwarnings(\"ignore\")'"
      ]
     },
     "execution_count": 12,
     "metadata": {},
     "output_type": "execute_result"
    }
   ],
   "source": [
    "import requests\n",
    "import json \n",
    "import pandas as pd\n",
    "import datetime\n",
    "'import warnings'\n",
    "'warnings.filterwarnings(\"ignore\")'"
   ]
  },
  {
   "cell_type": "code",
   "execution_count": 14,
   "id": "1a29b99e",
   "metadata": {},
   "outputs": [],
   "source": [
    "races={'season':[],\n",
    "      'rounds':[],\n",
    "      'raceName':[],\n",
    "      'circuitId':[],\n",
    "      'lat':[],\n",
    "      'long':[],\n",
    "      'country':[],\n",
    "      'date':[],\n",
    "       'url':[]}"
   ]
  },
  {
   "cell_type": "code",
   "execution_count": 15,
   "id": "6272600f",
   "metadata": {},
   "outputs": [],
   "source": [
    "for year in list(range(2010,2022)):\n",
    "    url='http://ergast.com/api/f1/{}.json'\n",
    "    response=requests.get(url.format(year))\n",
    "    content=json.loads(response.content)\n",
    "    \n",
    "    for item in content['MRData']['RaceTable']['Races']:\n",
    "        \n",
    "            races['season'].append(int(item['season']))\n",
    "            races['rounds'].append(int(item['round']))\n",
    "            races['raceName'].append(str(item['raceName']))\n",
    "            races['circuitId'].append(str(item['Circuit']['circuitId'])) \n",
    "            races['lat'].append((item['Circuit']['Location']['lat']))\n",
    "            races['long'].append((item['Circuit']['Location']['long']))\n",
    "            races['country'].append(str(item['Circuit']['Location']['country']))\n",
    "            races['date'].append((item['date']))\n",
    "            races['url'].append(str(item['url']))\n"
   ]
  },
  {
   "cell_type": "code",
   "execution_count": 16,
   "id": "29c5368b",
   "metadata": {
    "scrolled": true
   },
   "outputs": [
    {
     "data": {
      "text/html": [
       "<div>\n",
       "<style scoped>\n",
       "    .dataframe tbody tr th:only-of-type {\n",
       "        vertical-align: middle;\n",
       "    }\n",
       "\n",
       "    .dataframe tbody tr th {\n",
       "        vertical-align: top;\n",
       "    }\n",
       "\n",
       "    .dataframe thead th {\n",
       "        text-align: right;\n",
       "    }\n",
       "</style>\n",
       "<table border=\"1\" class=\"dataframe\">\n",
       "  <thead>\n",
       "    <tr style=\"text-align: right;\">\n",
       "      <th></th>\n",
       "      <th>season</th>\n",
       "      <th>rounds</th>\n",
       "      <th>raceName</th>\n",
       "      <th>circuitId</th>\n",
       "      <th>lat</th>\n",
       "      <th>long</th>\n",
       "      <th>country</th>\n",
       "      <th>date</th>\n",
       "      <th>url</th>\n",
       "    </tr>\n",
       "  </thead>\n",
       "  <tbody>\n",
       "    <tr>\n",
       "      <th>0</th>\n",
       "      <td>2010</td>\n",
       "      <td>1</td>\n",
       "      <td>Bahrain Grand Prix</td>\n",
       "      <td>bahrain</td>\n",
       "      <td>26.0325</td>\n",
       "      <td>50.5106</td>\n",
       "      <td>Bahrain</td>\n",
       "      <td>2010-03-14</td>\n",
       "      <td>http://en.wikipedia.org/wiki/2010_Bahrain_Gran...</td>\n",
       "    </tr>\n",
       "    <tr>\n",
       "      <th>1</th>\n",
       "      <td>2010</td>\n",
       "      <td>2</td>\n",
       "      <td>Australian Grand Prix</td>\n",
       "      <td>albert_park</td>\n",
       "      <td>-37.8497</td>\n",
       "      <td>144.968</td>\n",
       "      <td>Australia</td>\n",
       "      <td>2010-03-28</td>\n",
       "      <td>http://en.wikipedia.org/wiki/2010_Australian_G...</td>\n",
       "    </tr>\n",
       "    <tr>\n",
       "      <th>2</th>\n",
       "      <td>2010</td>\n",
       "      <td>3</td>\n",
       "      <td>Malaysian Grand Prix</td>\n",
       "      <td>sepang</td>\n",
       "      <td>2.76083</td>\n",
       "      <td>101.738</td>\n",
       "      <td>Malaysia</td>\n",
       "      <td>2010-04-04</td>\n",
       "      <td>http://en.wikipedia.org/wiki/2010_Malaysian_Gr...</td>\n",
       "    </tr>\n",
       "    <tr>\n",
       "      <th>3</th>\n",
       "      <td>2010</td>\n",
       "      <td>4</td>\n",
       "      <td>Chinese Grand Prix</td>\n",
       "      <td>shanghai</td>\n",
       "      <td>31.3389</td>\n",
       "      <td>121.22</td>\n",
       "      <td>China</td>\n",
       "      <td>2010-04-18</td>\n",
       "      <td>http://en.wikipedia.org/wiki/2010_Chinese_Gran...</td>\n",
       "    </tr>\n",
       "    <tr>\n",
       "      <th>4</th>\n",
       "      <td>2010</td>\n",
       "      <td>5</td>\n",
       "      <td>Spanish Grand Prix</td>\n",
       "      <td>catalunya</td>\n",
       "      <td>41.57</td>\n",
       "      <td>2.26111</td>\n",
       "      <td>Spain</td>\n",
       "      <td>2010-05-09</td>\n",
       "      <td>http://en.wikipedia.org/wiki/2010_Spanish_Gran...</td>\n",
       "    </tr>\n",
       "    <tr>\n",
       "      <th>...</th>\n",
       "      <td>...</td>\n",
       "      <td>...</td>\n",
       "      <td>...</td>\n",
       "      <td>...</td>\n",
       "      <td>...</td>\n",
       "      <td>...</td>\n",
       "      <td>...</td>\n",
       "      <td>...</td>\n",
       "      <td>...</td>\n",
       "    </tr>\n",
       "    <tr>\n",
       "      <th>232</th>\n",
       "      <td>2021</td>\n",
       "      <td>18</td>\n",
       "      <td>Mexico City Grand Prix</td>\n",
       "      <td>rodriguez</td>\n",
       "      <td>19.4042</td>\n",
       "      <td>-99.0907</td>\n",
       "      <td>Mexico</td>\n",
       "      <td>2021-11-07</td>\n",
       "      <td>http://en.wikipedia.org/wiki/2021_Mexican_Gran...</td>\n",
       "    </tr>\n",
       "    <tr>\n",
       "      <th>233</th>\n",
       "      <td>2021</td>\n",
       "      <td>19</td>\n",
       "      <td>São Paulo Grand Prix</td>\n",
       "      <td>interlagos</td>\n",
       "      <td>-23.7036</td>\n",
       "      <td>-46.6997</td>\n",
       "      <td>Brazil</td>\n",
       "      <td>2021-11-14</td>\n",
       "      <td>http://en.wikipedia.org/wiki/2021_S%C3%A3o_Pau...</td>\n",
       "    </tr>\n",
       "    <tr>\n",
       "      <th>234</th>\n",
       "      <td>2021</td>\n",
       "      <td>20</td>\n",
       "      <td>Qatar Grand Prix</td>\n",
       "      <td>losail</td>\n",
       "      <td>25.49</td>\n",
       "      <td>51.4542</td>\n",
       "      <td>Qatar</td>\n",
       "      <td>2021-11-21</td>\n",
       "      <td>http://en.wikipedia.org/wiki/2021_Qatar_Grand_...</td>\n",
       "    </tr>\n",
       "    <tr>\n",
       "      <th>235</th>\n",
       "      <td>2021</td>\n",
       "      <td>21</td>\n",
       "      <td>Saudi Arabian Grand Prix</td>\n",
       "      <td>jeddah</td>\n",
       "      <td>21.6319</td>\n",
       "      <td>39.1044</td>\n",
       "      <td>Saudi Arabia</td>\n",
       "      <td>2021-12-05</td>\n",
       "      <td>http://en.wikipedia.org/wiki/2021_Saudi_Arabia...</td>\n",
       "    </tr>\n",
       "    <tr>\n",
       "      <th>236</th>\n",
       "      <td>2021</td>\n",
       "      <td>22</td>\n",
       "      <td>Abu Dhabi Grand Prix</td>\n",
       "      <td>yas_marina</td>\n",
       "      <td>24.4672</td>\n",
       "      <td>54.6031</td>\n",
       "      <td>UAE</td>\n",
       "      <td>2021-12-12</td>\n",
       "      <td>http://en.wikipedia.org/wiki/2021_Abu_Dhabi_Gr...</td>\n",
       "    </tr>\n",
       "  </tbody>\n",
       "</table>\n",
       "<p>237 rows × 9 columns</p>\n",
       "</div>"
      ],
      "text/plain": [
       "     season  rounds                  raceName    circuitId       lat  \\\n",
       "0      2010       1        Bahrain Grand Prix      bahrain   26.0325   \n",
       "1      2010       2     Australian Grand Prix  albert_park  -37.8497   \n",
       "2      2010       3      Malaysian Grand Prix       sepang   2.76083   \n",
       "3      2010       4        Chinese Grand Prix     shanghai   31.3389   \n",
       "4      2010       5        Spanish Grand Prix    catalunya     41.57   \n",
       "..      ...     ...                       ...          ...       ...   \n",
       "232    2021      18    Mexico City Grand Prix    rodriguez   19.4042   \n",
       "233    2021      19      São Paulo Grand Prix   interlagos  -23.7036   \n",
       "234    2021      20          Qatar Grand Prix       losail     25.49   \n",
       "235    2021      21  Saudi Arabian Grand Prix       jeddah   21.6319   \n",
       "236    2021      22      Abu Dhabi Grand Prix   yas_marina   24.4672   \n",
       "\n",
       "         long       country        date  \\\n",
       "0     50.5106       Bahrain  2010-03-14   \n",
       "1     144.968     Australia  2010-03-28   \n",
       "2     101.738      Malaysia  2010-04-04   \n",
       "3      121.22         China  2010-04-18   \n",
       "4     2.26111         Spain  2010-05-09   \n",
       "..        ...           ...         ...   \n",
       "232  -99.0907        Mexico  2021-11-07   \n",
       "233  -46.6997        Brazil  2021-11-14   \n",
       "234   51.4542         Qatar  2021-11-21   \n",
       "235   39.1044  Saudi Arabia  2021-12-05   \n",
       "236   54.6031           UAE  2021-12-12   \n",
       "\n",
       "                                                   url  \n",
       "0    http://en.wikipedia.org/wiki/2010_Bahrain_Gran...  \n",
       "1    http://en.wikipedia.org/wiki/2010_Australian_G...  \n",
       "2    http://en.wikipedia.org/wiki/2010_Malaysian_Gr...  \n",
       "3    http://en.wikipedia.org/wiki/2010_Chinese_Gran...  \n",
       "4    http://en.wikipedia.org/wiki/2010_Spanish_Gran...  \n",
       "..                                                 ...  \n",
       "232  http://en.wikipedia.org/wiki/2021_Mexican_Gran...  \n",
       "233  http://en.wikipedia.org/wiki/2021_S%C3%A3o_Pau...  \n",
       "234  http://en.wikipedia.org/wiki/2021_Qatar_Grand_...  \n",
       "235  http://en.wikipedia.org/wiki/2021_Saudi_Arabia...  \n",
       "236  http://en.wikipedia.org/wiki/2021_Abu_Dhabi_Gr...  \n",
       "\n",
       "[237 rows x 9 columns]"
      ]
     },
     "execution_count": 16,
     "metadata": {},
     "output_type": "execute_result"
    }
   ],
   "source": [
    "pd.DataFrame(races)"
   ]
  },
  {
   "cell_type": "code",
   "execution_count": 52,
   "id": "073cc121",
   "metadata": {
    "scrolled": false
   },
   "outputs": [
    {
     "data": {
      "text/html": [
       "<div>\n",
       "<style scoped>\n",
       "    .dataframe tbody tr th:only-of-type {\n",
       "        vertical-align: middle;\n",
       "    }\n",
       "\n",
       "    .dataframe tbody tr th {\n",
       "        vertical-align: top;\n",
       "    }\n",
       "\n",
       "    .dataframe thead th {\n",
       "        text-align: right;\n",
       "    }\n",
       "</style>\n",
       "<table border=\"1\" class=\"dataframe\">\n",
       "  <thead>\n",
       "    <tr style=\"text-align: right;\">\n",
       "      <th></th>\n",
       "      <th>season</th>\n",
       "      <th>rounds</th>\n",
       "      <th>raceName</th>\n",
       "      <th>circuitId</th>\n",
       "      <th>lat</th>\n",
       "      <th>long</th>\n",
       "      <th>country</th>\n",
       "      <th>date</th>\n",
       "      <th>url</th>\n",
       "    </tr>\n",
       "  </thead>\n",
       "  <tbody>\n",
       "    <tr>\n",
       "      <th>0</th>\n",
       "      <td>2010</td>\n",
       "      <td>1</td>\n",
       "      <td>Bahrain Grand Prix</td>\n",
       "      <td>bahrain</td>\n",
       "      <td>26.0325</td>\n",
       "      <td>50.5106</td>\n",
       "      <td>Bahrain</td>\n",
       "      <td>2010-03-14</td>\n",
       "      <td>http://en.wikipedia.org/wiki/2010_Bahrain_Gran...</td>\n",
       "    </tr>\n",
       "    <tr>\n",
       "      <th>1</th>\n",
       "      <td>2010</td>\n",
       "      <td>2</td>\n",
       "      <td>Australian Grand Prix</td>\n",
       "      <td>albert_park</td>\n",
       "      <td>-37.8497</td>\n",
       "      <td>144.968</td>\n",
       "      <td>Australia</td>\n",
       "      <td>2010-03-28</td>\n",
       "      <td>http://en.wikipedia.org/wiki/2010_Australian_G...</td>\n",
       "    </tr>\n",
       "    <tr>\n",
       "      <th>2</th>\n",
       "      <td>2010</td>\n",
       "      <td>3</td>\n",
       "      <td>Malaysian Grand Prix</td>\n",
       "      <td>sepang</td>\n",
       "      <td>2.76083</td>\n",
       "      <td>101.738</td>\n",
       "      <td>Malaysia</td>\n",
       "      <td>2010-04-04</td>\n",
       "      <td>http://en.wikipedia.org/wiki/2010_Malaysian_Gr...</td>\n",
       "    </tr>\n",
       "    <tr>\n",
       "      <th>3</th>\n",
       "      <td>2010</td>\n",
       "      <td>4</td>\n",
       "      <td>Chinese Grand Prix</td>\n",
       "      <td>shanghai</td>\n",
       "      <td>31.3389</td>\n",
       "      <td>121.22</td>\n",
       "      <td>China</td>\n",
       "      <td>2010-04-18</td>\n",
       "      <td>http://en.wikipedia.org/wiki/2010_Chinese_Gran...</td>\n",
       "    </tr>\n",
       "    <tr>\n",
       "      <th>4</th>\n",
       "      <td>2010</td>\n",
       "      <td>5</td>\n",
       "      <td>Spanish Grand Prix</td>\n",
       "      <td>catalunya</td>\n",
       "      <td>41.57</td>\n",
       "      <td>2.26111</td>\n",
       "      <td>Spain</td>\n",
       "      <td>2010-05-09</td>\n",
       "      <td>http://en.wikipedia.org/wiki/2010_Spanish_Gran...</td>\n",
       "    </tr>\n",
       "    <tr>\n",
       "      <th>...</th>\n",
       "      <td>...</td>\n",
       "      <td>...</td>\n",
       "      <td>...</td>\n",
       "      <td>...</td>\n",
       "      <td>...</td>\n",
       "      <td>...</td>\n",
       "      <td>...</td>\n",
       "      <td>...</td>\n",
       "      <td>...</td>\n",
       "    </tr>\n",
       "    <tr>\n",
       "      <th>232</th>\n",
       "      <td>2021</td>\n",
       "      <td>18</td>\n",
       "      <td>Mexico City Grand Prix</td>\n",
       "      <td>rodriguez</td>\n",
       "      <td>19.4042</td>\n",
       "      <td>-99.0907</td>\n",
       "      <td>Mexico</td>\n",
       "      <td>2021-11-07</td>\n",
       "      <td>http://en.wikipedia.org/wiki/2021_Mexican_Gran...</td>\n",
       "    </tr>\n",
       "    <tr>\n",
       "      <th>233</th>\n",
       "      <td>2021</td>\n",
       "      <td>19</td>\n",
       "      <td>São Paulo Grand Prix</td>\n",
       "      <td>interlagos</td>\n",
       "      <td>-23.7036</td>\n",
       "      <td>-46.6997</td>\n",
       "      <td>Brazil</td>\n",
       "      <td>2021-11-14</td>\n",
       "      <td>http://en.wikipedia.org/wiki/2021_S%C3%A3o_Pau...</td>\n",
       "    </tr>\n",
       "    <tr>\n",
       "      <th>234</th>\n",
       "      <td>2021</td>\n",
       "      <td>20</td>\n",
       "      <td>Qatar Grand Prix</td>\n",
       "      <td>losail</td>\n",
       "      <td>25.49</td>\n",
       "      <td>51.4542</td>\n",
       "      <td>Qatar</td>\n",
       "      <td>2021-11-21</td>\n",
       "      <td>http://en.wikipedia.org/wiki/2021_Qatar_Grand_...</td>\n",
       "    </tr>\n",
       "    <tr>\n",
       "      <th>235</th>\n",
       "      <td>2021</td>\n",
       "      <td>21</td>\n",
       "      <td>Saudi Arabian Grand Prix</td>\n",
       "      <td>jeddah</td>\n",
       "      <td>21.6319</td>\n",
       "      <td>39.1044</td>\n",
       "      <td>Saudi Arabia</td>\n",
       "      <td>2021-12-05</td>\n",
       "      <td>http://en.wikipedia.org/wiki/2021_Saudi_Arabia...</td>\n",
       "    </tr>\n",
       "    <tr>\n",
       "      <th>236</th>\n",
       "      <td>2021</td>\n",
       "      <td>22</td>\n",
       "      <td>Abu Dhabi Grand Prix</td>\n",
       "      <td>yas_marina</td>\n",
       "      <td>24.4672</td>\n",
       "      <td>54.6031</td>\n",
       "      <td>UAE</td>\n",
       "      <td>2021-12-12</td>\n",
       "      <td>http://en.wikipedia.org/wiki/2021_Abu_Dhabi_Gr...</td>\n",
       "    </tr>\n",
       "  </tbody>\n",
       "</table>\n",
       "<p>237 rows × 9 columns</p>\n",
       "</div>"
      ],
      "text/plain": [
       "     season  rounds                  raceName    circuitId       lat  \\\n",
       "0      2010       1        Bahrain Grand Prix      bahrain   26.0325   \n",
       "1      2010       2     Australian Grand Prix  albert_park  -37.8497   \n",
       "2      2010       3      Malaysian Grand Prix       sepang   2.76083   \n",
       "3      2010       4        Chinese Grand Prix     shanghai   31.3389   \n",
       "4      2010       5        Spanish Grand Prix    catalunya     41.57   \n",
       "..      ...     ...                       ...          ...       ...   \n",
       "232    2021      18    Mexico City Grand Prix    rodriguez   19.4042   \n",
       "233    2021      19      São Paulo Grand Prix   interlagos  -23.7036   \n",
       "234    2021      20          Qatar Grand Prix       losail     25.49   \n",
       "235    2021      21  Saudi Arabian Grand Prix       jeddah   21.6319   \n",
       "236    2021      22      Abu Dhabi Grand Prix   yas_marina   24.4672   \n",
       "\n",
       "         long       country        date  \\\n",
       "0     50.5106       Bahrain  2010-03-14   \n",
       "1     144.968     Australia  2010-03-28   \n",
       "2     101.738      Malaysia  2010-04-04   \n",
       "3      121.22         China  2010-04-18   \n",
       "4     2.26111         Spain  2010-05-09   \n",
       "..        ...           ...         ...   \n",
       "232  -99.0907        Mexico  2021-11-07   \n",
       "233  -46.6997        Brazil  2021-11-14   \n",
       "234   51.4542         Qatar  2021-11-21   \n",
       "235   39.1044  Saudi Arabia  2021-12-05   \n",
       "236   54.6031           UAE  2021-12-12   \n",
       "\n",
       "                                                   url  \n",
       "0    http://en.wikipedia.org/wiki/2010_Bahrain_Gran...  \n",
       "1    http://en.wikipedia.org/wiki/2010_Australian_G...  \n",
       "2    http://en.wikipedia.org/wiki/2010_Malaysian_Gr...  \n",
       "3    http://en.wikipedia.org/wiki/2010_Chinese_Gran...  \n",
       "4    http://en.wikipedia.org/wiki/2010_Spanish_Gran...  \n",
       "..                                                 ...  \n",
       "232  http://en.wikipedia.org/wiki/2021_Mexican_Gran...  \n",
       "233  http://en.wikipedia.org/wiki/2021_S%C3%A3o_Pau...  \n",
       "234  http://en.wikipedia.org/wiki/2021_Qatar_Grand_...  \n",
       "235  http://en.wikipedia.org/wiki/2021_Saudi_Arabia...  \n",
       "236  http://en.wikipedia.org/wiki/2021_Abu_Dhabi_Gr...  \n",
       "\n",
       "[237 rows x 9 columns]"
      ]
     },
     "execution_count": 52,
     "metadata": {},
     "output_type": "execute_result"
    }
   ],
   "source": [
    "pd.DataFrame(races).to_csv('races.csv',index=False)\n",
    "pd.DataFrame.from_dict(races)  "
   ]
  },
  {
   "cell_type": "code",
   "execution_count": 39,
   "id": "5e8954c6",
   "metadata": {},
   "outputs": [],
   "source": [
    "url='http://ergast.com/api/f1/seasons.json'\n",
    "response=requests.get(url)\n",
    "content=json.loads(response.content)\n",
    "    "
   ]
  },
  {
   "cell_type": "code",
   "execution_count": 43,
   "id": "2c22d779",
   "metadata": {},
   "outputs": [],
   "source": [
    "seasons={'seasons':[],\n",
    "    'url':[]}"
   ]
  },
  {
   "cell_type": "code",
   "execution_count": 44,
   "id": "622ed87f",
   "metadata": {},
   "outputs": [],
   "source": [
    "for item in content['MRData']['SeasonTable']['Seasons']:\n",
    "    seasons['seasons'].append(int(item['season']))\n",
    "    seasons['url'].append(str(item['url']))\n",
    "  "
   ]
  },
  {
   "cell_type": "code",
   "execution_count": 49,
   "id": "c5d1d809",
   "metadata": {},
   "outputs": [],
   "source": [
    "pd.DataFrame(seasons).to_csv('seasons.csv')"
   ]
  },
  {
   "cell_type": "code",
   "execution_count": 40,
   "id": "6ff58483",
   "metadata": {},
   "outputs": [
    {
     "data": {
      "text/html": [
       "<div>\n",
       "<style scoped>\n",
       "    .dataframe tbody tr th:only-of-type {\n",
       "        vertical-align: middle;\n",
       "    }\n",
       "\n",
       "    .dataframe tbody tr th {\n",
       "        vertical-align: top;\n",
       "    }\n",
       "\n",
       "    .dataframe thead th {\n",
       "        text-align: right;\n",
       "    }\n",
       "</style>\n",
       "<table border=\"1\" class=\"dataframe\">\n",
       "  <thead>\n",
       "    <tr style=\"text-align: right;\">\n",
       "      <th></th>\n",
       "      <th>season</th>\n",
       "      <th>url</th>\n",
       "    </tr>\n",
       "  </thead>\n",
       "  <tbody>\n",
       "    <tr>\n",
       "      <th>0</th>\n",
       "      <td>1950</td>\n",
       "      <td>http://en.wikipedia.org/wiki/1950_Formula_One_...</td>\n",
       "    </tr>\n",
       "    <tr>\n",
       "      <th>1</th>\n",
       "      <td>1951</td>\n",
       "      <td>http://en.wikipedia.org/wiki/1951_Formula_One_...</td>\n",
       "    </tr>\n",
       "    <tr>\n",
       "      <th>2</th>\n",
       "      <td>1952</td>\n",
       "      <td>http://en.wikipedia.org/wiki/1952_Formula_One_...</td>\n",
       "    </tr>\n",
       "    <tr>\n",
       "      <th>3</th>\n",
       "      <td>1953</td>\n",
       "      <td>http://en.wikipedia.org/wiki/1953_Formula_One_...</td>\n",
       "    </tr>\n",
       "    <tr>\n",
       "      <th>4</th>\n",
       "      <td>1954</td>\n",
       "      <td>http://en.wikipedia.org/wiki/1954_Formula_One_...</td>\n",
       "    </tr>\n",
       "    <tr>\n",
       "      <th>5</th>\n",
       "      <td>1955</td>\n",
       "      <td>http://en.wikipedia.org/wiki/1955_Formula_One_...</td>\n",
       "    </tr>\n",
       "    <tr>\n",
       "      <th>6</th>\n",
       "      <td>1956</td>\n",
       "      <td>http://en.wikipedia.org/wiki/1956_Formula_One_...</td>\n",
       "    </tr>\n",
       "    <tr>\n",
       "      <th>7</th>\n",
       "      <td>1957</td>\n",
       "      <td>http://en.wikipedia.org/wiki/1957_Formula_One_...</td>\n",
       "    </tr>\n",
       "    <tr>\n",
       "      <th>8</th>\n",
       "      <td>1958</td>\n",
       "      <td>http://en.wikipedia.org/wiki/1958_Formula_One_...</td>\n",
       "    </tr>\n",
       "    <tr>\n",
       "      <th>9</th>\n",
       "      <td>1959</td>\n",
       "      <td>http://en.wikipedia.org/wiki/1959_Formula_One_...</td>\n",
       "    </tr>\n",
       "    <tr>\n",
       "      <th>10</th>\n",
       "      <td>1960</td>\n",
       "      <td>http://en.wikipedia.org/wiki/1960_Formula_One_...</td>\n",
       "    </tr>\n",
       "    <tr>\n",
       "      <th>11</th>\n",
       "      <td>1961</td>\n",
       "      <td>http://en.wikipedia.org/wiki/1961_Formula_One_...</td>\n",
       "    </tr>\n",
       "    <tr>\n",
       "      <th>12</th>\n",
       "      <td>1962</td>\n",
       "      <td>http://en.wikipedia.org/wiki/1962_Formula_One_...</td>\n",
       "    </tr>\n",
       "    <tr>\n",
       "      <th>13</th>\n",
       "      <td>1963</td>\n",
       "      <td>http://en.wikipedia.org/wiki/1963_Formula_One_...</td>\n",
       "    </tr>\n",
       "    <tr>\n",
       "      <th>14</th>\n",
       "      <td>1964</td>\n",
       "      <td>http://en.wikipedia.org/wiki/1964_Formula_One_...</td>\n",
       "    </tr>\n",
       "    <tr>\n",
       "      <th>15</th>\n",
       "      <td>1965</td>\n",
       "      <td>http://en.wikipedia.org/wiki/1965_Formula_One_...</td>\n",
       "    </tr>\n",
       "    <tr>\n",
       "      <th>16</th>\n",
       "      <td>1966</td>\n",
       "      <td>http://en.wikipedia.org/wiki/1966_Formula_One_...</td>\n",
       "    </tr>\n",
       "    <tr>\n",
       "      <th>17</th>\n",
       "      <td>1967</td>\n",
       "      <td>http://en.wikipedia.org/wiki/1967_Formula_One_...</td>\n",
       "    </tr>\n",
       "    <tr>\n",
       "      <th>18</th>\n",
       "      <td>1968</td>\n",
       "      <td>http://en.wikipedia.org/wiki/1968_Formula_One_...</td>\n",
       "    </tr>\n",
       "    <tr>\n",
       "      <th>19</th>\n",
       "      <td>1969</td>\n",
       "      <td>http://en.wikipedia.org/wiki/1969_Formula_One_...</td>\n",
       "    </tr>\n",
       "    <tr>\n",
       "      <th>20</th>\n",
       "      <td>1970</td>\n",
       "      <td>http://en.wikipedia.org/wiki/1970_Formula_One_...</td>\n",
       "    </tr>\n",
       "    <tr>\n",
       "      <th>21</th>\n",
       "      <td>1971</td>\n",
       "      <td>http://en.wikipedia.org/wiki/1971_Formula_One_...</td>\n",
       "    </tr>\n",
       "    <tr>\n",
       "      <th>22</th>\n",
       "      <td>1972</td>\n",
       "      <td>http://en.wikipedia.org/wiki/1972_Formula_One_...</td>\n",
       "    </tr>\n",
       "    <tr>\n",
       "      <th>23</th>\n",
       "      <td>1973</td>\n",
       "      <td>http://en.wikipedia.org/wiki/1973_Formula_One_...</td>\n",
       "    </tr>\n",
       "    <tr>\n",
       "      <th>24</th>\n",
       "      <td>1974</td>\n",
       "      <td>http://en.wikipedia.org/wiki/1974_Formula_One_...</td>\n",
       "    </tr>\n",
       "    <tr>\n",
       "      <th>25</th>\n",
       "      <td>1975</td>\n",
       "      <td>http://en.wikipedia.org/wiki/1975_Formula_One_...</td>\n",
       "    </tr>\n",
       "    <tr>\n",
       "      <th>26</th>\n",
       "      <td>1976</td>\n",
       "      <td>http://en.wikipedia.org/wiki/1976_Formula_One_...</td>\n",
       "    </tr>\n",
       "    <tr>\n",
       "      <th>27</th>\n",
       "      <td>1977</td>\n",
       "      <td>http://en.wikipedia.org/wiki/1977_Formula_One_...</td>\n",
       "    </tr>\n",
       "    <tr>\n",
       "      <th>28</th>\n",
       "      <td>1978</td>\n",
       "      <td>http://en.wikipedia.org/wiki/1978_Formula_One_...</td>\n",
       "    </tr>\n",
       "    <tr>\n",
       "      <th>29</th>\n",
       "      <td>1979</td>\n",
       "      <td>http://en.wikipedia.org/wiki/1979_Formula_One_...</td>\n",
       "    </tr>\n",
       "  </tbody>\n",
       "</table>\n",
       "</div>"
      ],
      "text/plain": [
       "   season                                                url\n",
       "0    1950  http://en.wikipedia.org/wiki/1950_Formula_One_...\n",
       "1    1951  http://en.wikipedia.org/wiki/1951_Formula_One_...\n",
       "2    1952  http://en.wikipedia.org/wiki/1952_Formula_One_...\n",
       "3    1953  http://en.wikipedia.org/wiki/1953_Formula_One_...\n",
       "4    1954  http://en.wikipedia.org/wiki/1954_Formula_One_...\n",
       "5    1955  http://en.wikipedia.org/wiki/1955_Formula_One_...\n",
       "6    1956  http://en.wikipedia.org/wiki/1956_Formula_One_...\n",
       "7    1957  http://en.wikipedia.org/wiki/1957_Formula_One_...\n",
       "8    1958  http://en.wikipedia.org/wiki/1958_Formula_One_...\n",
       "9    1959  http://en.wikipedia.org/wiki/1959_Formula_One_...\n",
       "10   1960  http://en.wikipedia.org/wiki/1960_Formula_One_...\n",
       "11   1961  http://en.wikipedia.org/wiki/1961_Formula_One_...\n",
       "12   1962  http://en.wikipedia.org/wiki/1962_Formula_One_...\n",
       "13   1963  http://en.wikipedia.org/wiki/1963_Formula_One_...\n",
       "14   1964  http://en.wikipedia.org/wiki/1964_Formula_One_...\n",
       "15   1965  http://en.wikipedia.org/wiki/1965_Formula_One_...\n",
       "16   1966  http://en.wikipedia.org/wiki/1966_Formula_One_...\n",
       "17   1967  http://en.wikipedia.org/wiki/1967_Formula_One_...\n",
       "18   1968  http://en.wikipedia.org/wiki/1968_Formula_One_...\n",
       "19   1969  http://en.wikipedia.org/wiki/1969_Formula_One_...\n",
       "20   1970  http://en.wikipedia.org/wiki/1970_Formula_One_...\n",
       "21   1971  http://en.wikipedia.org/wiki/1971_Formula_One_...\n",
       "22   1972  http://en.wikipedia.org/wiki/1972_Formula_One_...\n",
       "23   1973  http://en.wikipedia.org/wiki/1973_Formula_One_...\n",
       "24   1974  http://en.wikipedia.org/wiki/1974_Formula_One_...\n",
       "25   1975  http://en.wikipedia.org/wiki/1975_Formula_One_...\n",
       "26   1976  http://en.wikipedia.org/wiki/1976_Formula_One_...\n",
       "27   1977  http://en.wikipedia.org/wiki/1977_Formula_One_...\n",
       "28   1978  http://en.wikipedia.org/wiki/1978_Formula_One_...\n",
       "29   1979  http://en.wikipedia.org/wiki/1979_Formula_One_..."
      ]
     },
     "execution_count": 40,
     "metadata": {},
     "output_type": "execute_result"
    }
   ],
   "source": [
    "pd.DataFrame(content['MRData']['SeasonTable']['Seasons'])"
   ]
  },
  {
   "cell_type": "code",
   "execution_count": null,
   "id": "d7b5a5de",
   "metadata": {},
   "outputs": [],
   "source": [
    "for key in races.keys():\n",
    "    \n",
    "    print(len(races[key]))"
   ]
  },
  {
   "cell_type": "code",
   "execution_count": null,
   "id": "7444a183",
   "metadata": {},
   "outputs": [],
   "source": [
    "for year in list(range(2010,2022)):\n",
    "    url='http://ergast.com/api/f1/{}.json'\n",
    "    response=requests.get(url.format(year))\n",
    "    content=json.loads(response.content)"
   ]
  },
  {
   "cell_type": "code",
   "execution_count": null,
   "id": "fa012a65",
   "metadata": {
    "scrolled": true
   },
   "outputs": [],
   "source": [
    "content[]"
   ]
  },
  {
   "cell_type": "code",
   "execution_count": null,
   "id": "e8d972c9",
   "metadata": {},
   "outputs": [],
   "source": [
    "pd.DataFrame(content['MRData'])"
   ]
  },
  {
   "cell_type": "code",
   "execution_count": null,
   "id": "8f053570",
   "metadata": {
    "scrolled": false
   },
   "outputs": [],
   "source": [
    "pd.DataFrame(content['MRData']['RaceTable'])"
   ]
  },
  {
   "cell_type": "code",
   "execution_count": null,
   "id": "9bf00fb4",
   "metadata": {},
   "outputs": [],
   "source": [
    "Circuitos=pd.DataFrame(content['MRData']['RaceTable']['Races'])\n"
   ]
  },
  {
   "cell_type": "code",
   "execution_count": null,
   "id": "fa75a8bd",
   "metadata": {},
   "outputs": [],
   "source": [
    "Circuitos['circuitId']"
   ]
  },
  {
   "cell_type": "code",
   "execution_count": null,
   "id": "047431be",
   "metadata": {
    "scrolled": true
   },
   "outputs": [],
   "source": [
    "pd.DataFrame(content['MRData']['RaceTable']['Races'])"
   ]
  },
  {
   "cell_type": "code",
   "execution_count": null,
   "id": "315624ba",
   "metadata": {},
   "outputs": [],
   "source": [
    "content['MRData']['RaceTable']['Races']\n"
   ]
  },
  {
   "cell_type": "code",
   "execution_count": null,
   "id": "449c97c7",
   "metadata": {},
   "outputs": [],
   "source": [
    "for year in list(range(2010,2022)):\n",
    "    url='http://ergast.com/api/f1/{}.json'\n",
    "    response=requests.get(url.format(year))\n",
    "    content=json.loads(response.content)\n",
    "    \n",
    "    for item in content['MRData']['RaceTable']['Races']:\n",
    "        \n",
    "            races['season'].append(int(item['season']))\n",
    "            races['rounds'].append(int(item['round']))\n",
    "            races['raceName'].append(str(item['raceName']))\n",
    "            \n",
    "            \n",
    "            races['Location']['lat'].append(int(item['lat']))\n",
    "            races['Location']['long'].append(int(item['long']))\n",
    "            \n",
    "            races['country'].append(str(item['country']))\n",
    "            races['date'].append(strftime(item['date']))\n",
    "            \n",
    "        \n",
    "    "
   ]
  },
  {
   "cell_type": "code",
   "execution_count": null,
   "id": "7d1ade88",
   "metadata": {},
   "outputs": [],
   "source": []
  },
  {
   "cell_type": "code",
   "execution_count": null,
   "id": "9f530469",
   "metadata": {},
   "outputs": [],
   "source": [
    "content['MRData']['RaceTable']['Races'][0]"
   ]
  },
  {
   "cell_type": "code",
   "execution_count": null,
   "id": "db794db9",
   "metadata": {},
   "outputs": [],
   "source": [
    "races['raceName']"
   ]
  },
  {
   "cell_type": "code",
   "execution_count": null,
   "id": "be6cadf3",
   "metadata": {},
   "outputs": [],
   "source": []
  },
  {
   "cell_type": "code",
   "execution_count": null,
   "id": "952093da",
   "metadata": {},
   "outputs": [],
   "source": [
    "for year in list(range(2010,2022)):\n",
    "    url:'http://ergast.com/api/f1/{}.json'\n",
    "    response=requests.get(url.format(year))\n",
    "    content=json.loads(response.content)\n",
    "    \n",
    "\n",
    "    "
   ]
  },
  {
   "cell_type": "code",
   "execution_count": null,
   "id": "a394bb03",
   "metadata": {},
   "outputs": [],
   "source": []
  },
  {
   "cell_type": "code",
   "execution_count": null,
   "id": "77477cd6",
   "metadata": {},
   "outputs": [],
   "source": [
    "races"
   ]
  },
  {
   "cell_type": "code",
   "execution_count": null,
   "id": "b70cf203",
   "metadata": {},
   "outputs": [],
   "source": [
    "url='http://ergast.com/api/f1/2022/22/results.json'\n",
    "response=requests.get(url)"
   ]
  },
  {
   "cell_type": "code",
   "execution_count": null,
   "id": "b874463e",
   "metadata": {},
   "outputs": [],
   "source": [
    "pd.DataFrame(content['MRData']['RaceTable']['Races'][1]['Circuit'])"
   ]
  },
  {
   "cell_type": "code",
   "execution_count": null,
   "id": "9ac2ab2d",
   "metadata": {},
   "outputs": [],
   "source": [
    "races"
   ]
  },
  {
   "cell_type": "code",
   "execution_count": null,
   "id": "1c447ca4",
   "metadata": {},
   "outputs": [],
   "source": [
    "content=json.loads(response.content)"
   ]
  },
  {
   "cell_type": "code",
   "execution_count": null,
   "id": "c049952b",
   "metadata": {},
   "outputs": [],
   "source": [
    "list(range(1,23))"
   ]
  },
  {
   "cell_type": "code",
   "execution_count": null,
   "id": "ea3dbe3b",
   "metadata": {},
   "outputs": [],
   "source": [
    "list_results_2022=[]\n",
    "for race in list(range(1,23)):\n",
    "    url='http://ergast.com/api/f1/2022/{}/results.json'\n",
    "    reponse=requests.get(url.format(race))\n",
    "    content=json.loads(response.content)\n",
    "    list_results_2022.append(content['MRData']['RaceTable']['Races'][0]['Results'])"
   ]
  },
  {
   "cell_type": "code",
   "execution_count": null,
   "id": "2bdbd39e",
   "metadata": {},
   "outputs": [],
   "source": [
    "list_results_2022=[]\n",
    "for race in list(range(1,23)):\n",
    "    url='http://ergast.com/api/f1/2022/{}/results.json'\n",
    "    reponse=requests.get(url.format(race))\n",
    "    content=json.loads(response.content)\n",
    "    list_results_2022.append(content['MRData']['RaceTable']['Races'][0]['Circuit']['Location'])"
   ]
  },
  {
   "cell_type": "code",
   "execution_count": null,
   "id": "c282231d",
   "metadata": {},
   "outputs": [],
   "source": [
    "pd.DataFrame(list_results_2022)"
   ]
  },
  {
   "cell_type": "code",
   "execution_count": null,
   "id": "7808eab1",
   "metadata": {
    "scrolled": true
   },
   "outputs": [],
   "source": [
    "pd.DataFrame(content['MRData']['RaceTable']['Races'][0]['Results'][15])"
   ]
  },
  {
   "cell_type": "code",
   "execution_count": null,
   "id": "65a34b77",
   "metadata": {},
   "outputs": [],
   "source": [
    "pd.DataFrame(content['MRData']['RaceTable']['Races'])"
   ]
  },
  {
   "cell_type": "code",
   "execution_count": null,
   "id": "2782da46",
   "metadata": {},
   "outputs": [],
   "source": [
    "df_results_2022=pd.DataFrame()\n",
    "for race in list(range(1,23)):\n",
    "    url='http://ergast.com/api/f1/2022/{}/results.json'\n",
    "    reponse=requests.get(url.format(race))\n",
    "    content=json.loads(response.content)\n",
    "    df_1=pd.DataFrame([content['MRData']['RaceTable']['Races'][0]['Results']])\n",
    "    df_results_2022=pd.concat(objs=[df_results_2022,df_1])"
   ]
  },
  {
   "cell_type": "code",
   "execution_count": null,
   "id": "9c5eaa3c",
   "metadata": {},
   "outputs": [],
   "source": [
    "    df_results_2022"
   ]
  },
  {
   "cell_type": "code",
   "execution_count": null,
   "id": "c66ee94f",
   "metadata": {
    "scrolled": true
   },
   "outputs": [],
   "source": [
    "\n",
    "    url='http://ergast.com/api/f1/2022/{}/results.json'\n",
    "    reponse=requests.get(url.format(race))\n",
    "    response.content\n",
    "    pd.DataFrame(json.loads(response.content)['MRData']['RaceTable']['Races'][0]['Results'])\n",
    "    "
   ]
  },
  {
   "cell_type": "code",
   "execution_count": null,
   "id": "8d4c792d",
   "metadata": {},
   "outputs": [],
   "source": [
    "df_results_2022['points']=df_results_2022.points.astype(int)"
   ]
  },
  {
   "cell_type": "code",
   "execution_count": null,
   "id": "e2c545b6",
   "metadata": {
    "scrolled": false
   },
   "outputs": [],
   "source": [
    "df_results_2022.groupby(['position']).agg({'points':'sum'}).sort_values(by='points',ascending=False)"
   ]
  },
  {
   "cell_type": "code",
   "execution_count": null,
   "id": "574e71e2",
   "metadata": {},
   "outputs": [],
   "source": [
    "type(df_results_2022['points'])"
   ]
  },
  {
   "cell_type": "code",
   "execution_count": null,
   "id": "03019178",
   "metadata": {},
   "outputs": [],
   "source": [
    "df_results_2022['Driver']=df_results_2022['Driver'].apply(lambda x :x['driverId'])"
   ]
  },
  {
   "cell_type": "code",
   "execution_count": null,
   "id": "473e3a19",
   "metadata": {},
   "outputs": [],
   "source": [
    "df_results_2022['Constructor']=df_results_2022['Constructor'].apply(lambda x: x['constructorId'])"
   ]
  },
  {
   "cell_type": "code",
   "execution_count": null,
   "id": "8b190b7a",
   "metadata": {
    "scrolled": true
   },
   "outputs": [],
   "source": [
    "df_results_2022"
   ]
  },
  {
   "cell_type": "code",
   "execution_count": null,
   "id": "1f4486d8",
   "metadata": {},
   "outputs": [],
   "source": [
    "df_results_2022['points']=df_results_2022['points'].astype(int)"
   ]
  },
  {
   "cell_type": "code",
   "execution_count": null,
   "id": "31ddb33b",
   "metadata": {
    "scrolled": true
   },
   "outputs": [],
   "source": [
    "df_results_2022.groupby(['Driver']).agg({'points':'sum'}).sort_values(by=\"points\",ascending=False)"
   ]
  },
  {
   "cell_type": "code",
   "execution_count": null,
   "id": "cf581032",
   "metadata": {},
   "outputs": [],
   "source": [
    "df_results_2022.groupby(['Constructor']).agg({'points':'sum'}).sort_values(by='points',ascending=False)"
   ]
  },
  {
   "cell_type": "code",
   "execution_count": null,
   "id": "2c9b52af",
   "metadata": {},
   "outputs": [],
   "source": [
    "df_results_2022['FastestLap']=df_results_2022['FastestLap'].apply(lambda x: x['Time']['time'])"
   ]
  },
  {
   "cell_type": "code",
   "execution_count": null,
   "id": "85d64527",
   "metadata": {},
   "outputs": [],
   "source": [
    "df_results_2022['Time'].fillna(0, inplace=True)"
   ]
  },
  {
   "cell_type": "code",
   "execution_count": null,
   "id": "7845acc0",
   "metadata": {},
   "outputs": [],
   "source": [
    "df_results_2022['Time'].apply(lambda x: x)"
   ]
  },
  {
   "cell_type": "code",
   "execution_count": null,
   "id": "ab83a1eb",
   "metadata": {},
   "outputs": [],
   "source": [
    "\"Tabla results\"\n",
    "url='http://ergast.com/api/f1/2012.json'\n",
    "response=requests.get(url)\n",
    "content=json.loads(response.content)\n"
   ]
  },
  {
   "cell_type": "code",
   "execution_count": null,
   "id": "be8729b1",
   "metadata": {},
   "outputs": [],
   "source": [
    "results=pd.DataFrame(content['MRData']['RaceTable']['Races'])"
   ]
  },
  {
   "cell_type": "code",
   "execution_count": null,
   "id": "2e39bef8",
   "metadata": {},
   "outputs": [],
   "source": [
    "for year in list(range(2010,2022)):\n",
    "    url='http://ergast.com/api/f1/{}/circuits.json'\n",
    "    response=requests.get(url.format(year))\n",
    "    content=json.loads(response.content)"
   ]
  },
  {
   "cell_type": "code",
   "execution_count": null,
   "id": "ffe1d0a7",
   "metadata": {},
   "outputs": [],
   "source": [
    "pd.DataFrame(content['MRData']['CircuitTable']['Circuits'])"
   ]
  },
  {
   "cell_type": "code",
   "execution_count": null,
   "id": "91b57ced",
   "metadata": {},
   "outputs": [],
   "source": []
  },
  {
   "cell_type": "code",
   "execution_count": null,
   "id": "62e9f4d9",
   "metadata": {},
   "outputs": [],
   "source": []
  },
  {
   "cell_type": "code",
   "execution_count": null,
   "id": "2c6f8faa",
   "metadata": {},
   "outputs": [],
   "source": []
  }
 ],
 "metadata": {
  "kernelspec": {
   "display_name": "Python 3 (ipykernel)",
   "language": "python",
   "name": "python3"
  },
  "language_info": {
   "codemirror_mode": {
    "name": "ipython",
    "version": 3
   },
   "file_extension": ".py",
   "mimetype": "text/x-python",
   "name": "python",
   "nbconvert_exporter": "python",
   "pygments_lexer": "ipython3",
   "version": "3.9.13"
  }
 },
 "nbformat": 4,
 "nbformat_minor": 5
}
